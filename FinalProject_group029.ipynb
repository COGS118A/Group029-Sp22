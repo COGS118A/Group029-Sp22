{
 "cells": [
  {
   "cell_type": "markdown",
   "metadata": {},
   "source": [
    "# COGS 118A - Final Project"
   ]
  },
  {
   "cell_type": "markdown",
   "metadata": {},
   "source": [
    "# How Much Your Home's List Price Is Actually Worth\n",
    "\n",
    "## Group members\n",
    "\n",
    "- Andy Ly\n",
    "- Brian Wong\n",
    "- Ming Qiu\n",
    "- Zijie Lei\n",
    "- Paayal Desai "
   ]
  },
  {
   "cell_type": "markdown",
   "metadata": {},
   "source": [
    "# Abstract \n",
    "Housing prices are overvalued and inflated due to the current economic bubble. To explore the trend of housing prices and factors that may play roles in determining the housing price, we want to use regression analysis to accurately predict the listing price of a property as well as the potential closing price. These prices are based on what someone would actually list and purchase the house for. This analysis is not trying to find the true value of the home. By analyzing various key factors such as location, property composition/size in tandem with price data, we will build a model that can accurately predict the holding value of a property. We will be judging our model’s performance with respect to the testing set errors."
   ]
  },
  {
   "cell_type": "markdown",
   "metadata": {},
   "source": [
    "# Background\n",
    "\n",
    "After the housing market crash in 2008, large financial institutions and investors were wary of the real estate/mortgage market.<a name=\"market\"></a>[<sup>[1]</sup>](#marketnote). People operated on the idea that mortgages and housing were a cornerstone of the American economy which would never fail. When the market did fail however, the demand and pricing of single family homes/mortgages fell almost instantaneously. Large financial institutions were bailed out and the economic fall out can still be felt by the people today. \n",
    "\n",
    "When a particular market is relatively stable the growth is steady, slow and not without the occasional correction towards an equilibrium point<a name=\"equilibrium\"></a>[<sup>[2]</sup>](#equilibriumnote).  It is almost unheard of for any stock, security, bond, commodity, goods, or properties to increase in value at the rate the California housing market has grown in the last decade. This rapid growth is not only unsustainable, but could potentially leave millions of people in a financial pitfall by overpaying for properties that will lose tremendous value when the market does eventually correct itself. "
   ]
  },
  {
   "cell_type": "markdown",
   "metadata": {},
   "source": [
    "# Problem Statement\n",
    "\n",
    "In recent years the housing market has exploded nationwide due to a dramatic increase in demand for single family homes. Coupled with the increase in high income careers provided by lucrative tech companies, the housing market is hyper competitive with properties often receiving multiple bids well above asking price. The market is long overdue for a correction, and we believe that some properties are overvalued when listed for sale. Thus, we aim to study the trend of housing prices and potential contributing factors via various regression models to determine if there are clear correlations between these potential factors to the change of housing price. And eventually predict the fair market value of a property given these sets of factors. "
   ]
  },
  {
   "cell_type": "markdown",
   "metadata": {},
   "source": [
    "# Data\n",
    "\n",
    "[Redfin Data Center](https://www.redfin.com/news/data-center/)\n",
    "\n",
    "[Link to Data](https://github.com/COGS118A/Group029-Sp22/tree/main/data)\n",
    "\n",
    "[COGS_118A_Notebook](https://github.com/COGS118A/Group029-Sp22/blob/main/COGS_118A_Project.ipynb)\n",
    "\n",
    "The data is from Redfin's aggregate state data from 2012 onwards. After dropping rows with NA values, we have a dataset consisting of 58 variables and 5949 observations. While it does contain 58 variables, we are currently only utilizing 15 for our purposes. Many of the variables that are omimtted are locational information (region, state, city, etc.) along with information about listings in that region (inventory, off market in two weeks, etc.). The observations themselves are not individual listings, but rather the aggregate from a state level. Some of the critical variables are: median list price, median sale price, median list price per square foot (ppsf), and median sale ppsf. Since the prices were not adjusted for inflation, we found the inflation rates for each year from 2012-2022 and used those to calculate the prices of earlier transactions adjusted for inflation. The data wrangling can be found in the COGS_118A_Project jupyter notebook in the GitHub repo. Initially, we utilized Redfin's national level dataset, but we found that it lacked the quantity of observations we were looking for. As a result, we switched over to the state level dataset and used values from all the available states. Originally, we intended to focus on California, but we found that the data from California on the state level was also too small, containing only 524 observations as of May 5, 2022."
   ]
  },
  {
   "cell_type": "markdown",
   "metadata": {},
   "source": [
    "# Proposed Solution\n",
    "\n",
    "To predict the potential listing and sale price of a home, we are using multivariate linear regression. Some of the features that we will include are: median list price, median sale price, median price per square foot, and property type. These features should provide information regarding the sale of a house. The median list price and sale price would be the most helpful. The median sale price will be most useful in determining the potential sale price. This predicted price may be overvalued, but determining the true value of the house would be difficult since the data that we are using contains overvalued sales as well. To account for inflation, we will be adjusting all of the price data for inflation. Since the price of a property is constantly changing, we can try to find a general rate of change to factor into our final result. We can also attempt to use some other form of feature selection to see if other features that we haven't included could be useful as well. While we are currently set on using linear regression, other models may prove useful as well. As such, we may attempt to run other models to determine the best one for our problem. Some of the libraries we plan on using to implement are model are: numpy, pandas, seaborn, sklearn, statsmodels, and matplotlib."
   ]
  },
  {
   "cell_type": "markdown",
   "metadata": {},
   "source": [
    "# Evaluation Metrics\n",
    "\n",
    "Because our task is a regression analysis, we will use R-Squared for the differences in prices of the properties in our validation, training and test data sets. R-Squared measure the goodness of fit, which is generally calculated by residual sum of square $SS_{res}$ divided by the total sum of square $SS_{tot}$. The value of R-Square ranges between 0 and 1, while a higher value of R-Square suggests high performance of the model on prediction. Another metric will be MSE, which measures the average squared difference between the predicted value and actual value. Unlike R-Squared, high value of MSE suggests low performance of the model on prediction."
   ]
  },
  {
   "cell_type": "markdown",
   "metadata": {},
   "source": [
    "# Results\n",
    "\n",
    "### Outrunning Inflation\n",
    "\n",
    "![list_price_over_time](./img/list_price_over_time.png)\n",
    "![sale_price_over_time](./img/sale_price_over_time.png)\n",
    "\n",
    "### Individual Property Characteristics are Negligible.\n",
    "\n",
    "![ppsf_over_time](./img/ppsf_over_time.png)\n",
    "\n",
    "### Finding our Model (Polynomial Regression)\n",
    "\n",
    "![adjusted_learning_curve](./img/non_adjusted_poly_regression.png)\n",
    "![adjusted_learning_curve](./img/adjusted_poly_regression.png)\n",
    "\n",
    "### We could always use more (good) data\n",
    "\n",
    "![non_adjusted_learning_curve](./img/non_adjusted_learning_curve.png)\n",
    "![adjusted_learning_curve](./img/adjusted_learning_curve.png)\n",
    "\n",
    "### Our Regression Model\n",
    "\n",
    "The performance of our linear regression can be found at the bottom of this notebook. [Link to Notebook](https://github.com/COGS118A/Group029-Sp22/blob/main/COGS_118A_Project.ipynb)"
   ]
  },
  {
   "cell_type": "markdown",
   "metadata": {},
   "source": [
    "# Discussion\n",
    "\n",
    "Through our analysis and visualizations of the housing market data on both a statewide and national level, we can observe that even after adjusting for the effects of inflation, median list and sale prices of homes have steadily increased over time. This trend can be observed in our visualization of median home prices across both the national and state level over the span of the past 11 years even after adjusting for inflation.\n",
    "\n",
    "### Outrunning Inflation\n",
    "\n",
    "Inflation in the United States is currently at a record high, but this does not seem to have a detrimental effect on the demand in the real estate market. Across both a national and statewide level, the cost of housing has risen despite inflation. By observing the  One could even argue that rising inflation could be a driver in the increase in demand in real estate as potential investors/buyers look for alternate ways to consolidate wealth in assets that could potentially increase in value faster than the rate of inflation. Taking these points into consideration, these market forces are shortening supply and “artificially” driving up demand in the interest of increasing investment profits. \n",
    "\n",
    "### Individual Property Characteristics are Negligible.\n",
    "\n",
    "Now that we have identified an increasing trend in housing prices, we want to determine whether the characteristics of the houses themselves have an effect on the prices or not. For this we examine “Price Per Square Foot”. This metric serves as an estimate of the sale price on average per square foot of living space independent from the properties characteristics themselves. Again we observe a large tail indicating an increase in price per square foot across both adjusted/non-adjusted sale prices. This data indicates that the individual property characteristics such as location, design, and age do not act as drivers of price increases. \n",
    "\n",
    "### We could always use more (good) data\n",
    "\n",
    "Looking at the learning curves for the linear regressions, we can see that the validation error starts to plateau towards the 4.5 thousand data point mark for training set size. Given that our data only contains a little over 5 thousand data points, we decided to use k-folds so that we can extract as much information as possible from the dataset through the training set. Preferably, we would have access to more data, which could have been done by using a more granular version of this dataset. When we attempted to use the county level dataset, we found that the data was much more variable and contained many more outliers. We felt that this would not generalize as well. As such, we settled on using k-folds on the state level dataset as a compromise.\n",
    "\n",
    "### Our Regression Model\n",
    "\n",
    "Based on our models generated for the national and statewide data, it seems that the polynomial regression model performs the best (R^2: 0.96) in the 3 degree model on the training set for both the adjusted/non-adjusted prices when accounting for parsimony, while the performances on the test set are equal (R^2: 0.96) for 1, 2, 3 degree model. Because the performance difference between the 3 degree model and the lower degree polynomials (1 - linear and 2 - quadratic) are not insignificant, under different circumstances where a simpler model could reduce compute times, these lower order polynomial models may offer preferable alternatives.\n",
    "\n",
    "After cross-validating our model using a 5-fold k-folds CV, we found the the R-squared to be 0.95 for both the adjusted and non-adjusted price models, with a negative mean squared errors of -617070908.31, and -529240998.1 for  the adjusted and non-adjusted values respectively.  Multiplying these values by -1 results in the mean squared errors to be 600952895.25 , and 529240998.1, and by taking the square root of these values will give the mean errors to be 24514.34 and 23005.23. This indicates that our model’s mean error is within the range of +/- $25,000 for both the adjusted and non-adjusted estimates. Given that property values are often in the ranges of hundreds of thousands and coupled with the relatively high R^2 coefficient of 0.95, we feel that this range for our errors to be acceptable.\n",
    "\n",
    "### Limitations\n",
    "\n",
    "Although we did get interpretable results from this study, it is important to consider the limitations of the dataset and the subsequent models. Initially,  we decided to do our regression models solely on California’s housing market data as a way to demonstrate the concept of applying a regression model to a relatively small subset of data. While evaluating the results,  we acknowledged that our model was being trained on an insufficient amount of data, less than a thousand data points. By expanding to a national scale, we were able to generate better models on property value prediction at a national level. but still felt that the aggregate national model was not very accurate at generalizing property prices in specific regions and states. To this effect, we built and trained our subsequent models on statewide data in an effort to generate more granular specific predictions.\n",
    "\n",
    "Another challenge regarding the dataset was the amount of outliers prevalent in the data. While we did not remove the outliers, we accounted for it by explaining the impact it had on our results. The sale of properties well above/below certain averages can vary greatly in a single county not to mention on a state/national level. However, these sales arguably do have an effect or rather indicate an effect of the shift in demand for housing so we felt so inclined to include these outliers to better represent the real world market the data is generated from. \n",
    "\n",
    "Finally, perhaps the largest limitation is due to the size and accuracy of our dataset. Since we retrieved our data from a public resource offered by a domestic real estate firm (RedFin), the size of the data is relatively small and limited. Additionally, it is also difficult to verify that the data we retrieved is accurate as it is difficult/near impossible to cross reference every single property sale/record in a specific area.\n",
    "\n",
    "\n",
    "### Ethics & Privacy\n",
    "\n",
    "Since the data is not collected and updated in real time, it might not be enough to perform the best estimation to fit the needs for the fast-paced market. In addition, our analysis is based on housing information from the United States. Thus, our model has poor generalization for other countries. A possible consequence of this is our result misleading a user into making a poor financial decision. If enough users in a given region do this, it has the potential to negatively influence the pricing implications on the actual housing market in other regions.\n",
    "The data gathered for our project is originally sourced from the US census, which is within the public domain. The data and our analysis will not include any personal information of a person who might be related to the data, such as names of the house owner and buyer, actual home address, etc. \n",
    "\n",
    "### Conclusion\n",
    "\n",
    "The aim of this study is to examine the trend of housing prices and potential contributing factors via various regression models, and answer the question if there are clear correlations between these potential factors to the change of housing price. We attempted to create a model that could  predict the fair market value of a property given these sets of factors. Through nationwide and statewide levels, our visualizations showed that median list and sale prices of homes have steadily increased over time. \n",
    "\n",
    "After evaluating linear/polynomial regression models, we found that our models accurately predicted prices within an acceptable range of error. Our results are consistent with our initial hypothesis that housing prices are increasing across the nation on average. Further studies which account for additional factors such as relative income, population growth, macroeconomics and other financial policy metrics could potentially generate more accurate models.\n"
   ]
  },
  {
   "cell_type": "markdown",
   "metadata": {},
   "source": [
    "# Footnotes\n",
    "<a name=\"market\"></a>1.[^](#marketnote): US Housing Market Bubble Timeline via Wikipedia. https://en.wikipedia.org/wiki/United_States_housing_bubble#Timeline<br> \n",
    "<a name=\"equilibrium\"></a>2.[^](#equilibriumnote): What is Equilibrium? |  Stable and Unstable equilibrium in economics. https://www.theeconomicsstudy.in/2021/07/Equilibrium.html\n",
    "\n"
   ]
  },
  {
   "cell_type": "code",
   "execution_count": null,
   "metadata": {},
   "outputs": [],
   "source": []
  }
 ],
 "metadata": {
  "kernelspec": {
   "display_name": "Python 3",
   "language": "python",
   "name": "python3"
  },
  "language_info": {
   "codemirror_mode": {
    "name": "ipython",
    "version": 3
   },
   "file_extension": ".py",
   "mimetype": "text/x-python",
   "name": "python",
   "nbconvert_exporter": "python",
   "pygments_lexer": "ipython3",
   "version": "3.8.8"
  }
 },
 "nbformat": 4,
 "nbformat_minor": 2
}
