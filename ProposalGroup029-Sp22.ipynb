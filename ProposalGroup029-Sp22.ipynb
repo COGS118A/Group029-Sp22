{
 "cells": [
  {
   "cell_type": "markdown",
   "metadata": {
    "id": "VmFshpQZHrMe"
   },
   "source": [
    "# COGS 118A- Project Proposal"
   ]
  },
  {
   "cell_type": "markdown",
   "metadata": {
    "id": "Au3pSj-BHrMg"
   },
   "source": [
    "# Project Description\n",
    "\n",
    "We want to create and utilize a regression model that can accurately predict the price of homes in California. \n"
   ]
  },
  {
   "cell_type": "markdown",
   "metadata": {
    "id": "adMs8nvmHrMk"
   },
   "source": [
    "# Names\n",
    "\n",
    "\n",
    "- Andy Ly\n",
    "- Brian Wong\n",
    "- Ming Qiu\n",
    "- Zijie Lei\n",
    "- Paayal Desai "
   ]
  },
  {
   "cell_type": "markdown",
   "metadata": {
    "id": "k4WSOc09HrMl"
   },
   "source": [
    "# Abstract \n",
    "Housing prices are overvalued and inflated due to the current economic bubble. To explore the trend of housing prices and factors that may play roles in determining the housing price, we want to use regression analysis to accurately predict the listing price of a property as well as the potential closing price. By analyzing various key factors such as location, property composition/size in tandem with price data, we will build a model that can accurately predict the holding value of a property. We will be judging our model’s performance with respect to the testing set errors."
   ]
  },
  {
   "cell_type": "markdown",
   "metadata": {
    "id": "gE_Qr1pnHrMl"
   },
   "source": [
    "# Background\n",
    "\n",
    "\n",
    "After the housing market crash in 2008, large financial institutions and investors were wary of the real estate/mortgage market.<a name=\"market\"></a>[<sup>[1]</sup>](#marketnote). People operated on the idea that mortgages and housing were a cornerstone of the American economy which would never fail. When the market did fail however, the demand and pricing of single family homes/mortgages fell almost instantaneously. Large financial institutions were bailed out and the economic fall out can still be felt by the people today. \n",
    "\n",
    "When a particular market is relatively stable the growth is steady, slow and not without the occasional correction towards an equilibrium point<a name=\"equilibrium\"></a>[<sup>[2]</sup>](#equilibriumnote).  It is almost unheard of for any stock, security, bond, commodity, goods, or properties to increase in value at the rate the California housing market has grown in the last decade. This rapid growth is not only unsustainable, but could potentially leave millions of people in a financial pitfall by overpaying for properties that will lose tremendous value when the market does eventually correct itself. \n",
    "\n"
   ]
  },
  {
   "cell_type": "markdown",
   "metadata": {
    "id": "uKhQUr0JHrMn"
   },
   "source": [
    "# Problem Statement\n",
    "\n",
    "In recent years the housing market has exploded nationwide due to a dramatic increase in demand for single family homes. Coupled with the increase in high income careers provided by lucrative tech companies, the housing market is hyper competitive with properties often receiving multiple bids well above asking price. The market is long overdue for a correction, and we believe that some properties are overvalued when listed for sale. Thus, we aim to study the trend of housing prices and potential contributing factors via various regression models to determine if there are clear correlations between these potential factors to the change of housing price. And eventually predict the fair market value of a property given these sets of factors. "
   ]
  },
  {
   "cell_type": "markdown",
   "metadata": {
    "id": "V6PURnFoHrMn"
   },
   "source": [
    "# Data\n",
    "\n",
    "For our data, we want to look at median home prices for single family homes in California as well as potentially correlated features such as location, total rooms, bathroom, square footage, and median income. Preferably we want data from recent history (2010-2020) based on available datasets. As for observations, we prefer to have an even distribution of data points across the different years. However, as a minimum we would like to have five hundred data points for each year that we include. Some of the critical variables are: city, closing price, and total rooms. Most of the variables will be continuous variables while the remaining ones are likely to be categorical variables. As an example of each type, city would be a categorical variable while total rooms would be continuous. Below are some datasets that we are interested in using.\n",
    "\n",
    "- Federal Housing Finance Agency - House Price Index\n",
    "https://www.fhfa.gov/DataTools/Downloads/Pages/House-Price-Index-Datasets.aspx#mpo\n",
    "\n",
    "- Kaggle - California Housing Prices\n",
    "https://www.kaggle.com/datasets/fedesoriano/california-housing-prices-data-extra-features\n",
    "\n",
    "- Redfin - DataCenter Housing Market Data\n",
    "https://www.redfin.com/news/data-center/\n",
    "- US Census Data\n",
    "https://www.census.gov/programs-surveys/ahs/data.1992.List_1739896299.html\n",
    "\n"
   ]
  },
  {
   "cell_type": "markdown",
   "metadata": {
    "id": "JkBpdExrHrMo"
   },
   "source": [
    "# Proposed Solution\n",
    "\n",
    "One approach to solve the problem is to use the location of the current house as a way to find the median values for the features in our dataset. From there, we can compare the values of the features for our current household against the median values. One of these values will be the market closing cost. We will take the median of that value Each feature will have a multiplier that influences the final estimated value. The multipliers will likely have to be fine tuned, but assuming that this is done well, we should be able to get a close estimate for the house. To validate our algorithm, please see the “Evaluation Metrics” section of the proposal. To implement our algorithm, we are planning on using the following Python libraries: numpy, pandas, seaborn, sklearn, and matplotlib."
   ]
  },
  {
   "cell_type": "markdown",
   "metadata": {
    "id": "YYe9-3tUHrMp"
   },
   "source": [
    "# Evaluation Metrics\n",
    "\n",
    "Because our task is a regression analysis, we can look at the residual (yhat - y), mean squared error(MSE), Root Mean squared error (RMSE), Mean average error (MAE) for the differences in prices of the properties in our validation, training and test data sets.![formula-MAE-MSE-RMSE-RSquared.JPG](data:image/jpeg;base64,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)"
   ]
  },
  {
   "cell_type": "markdown",
   "metadata": {
    "id": "hIg2qaEVHrMq"
   },
   "source": [
    "# Ethics & Privacy\n",
    "\n",
    "Since the data is not collected and updated in real time, it might not be enough to perform the best estimation to fit the needs for the fast-paced market. In addition, our analysis is based on housing information from California. Thus, our model has poor generalization for other states and countries. A possible consequence of this is our result misleading a user into making a poor financial decision. If enough users in a given region do this, it has the potential to negatively influence the pricing implications on the actual housing market in other regions.\n",
    "The data gathered for our project is originally sourced from the US census, which is within the public domain. The data and our analysis will not include any personal information of a person who might be related to the data, such as names of the house owner and buyer, actual home address, etc. "
   ]
  },
  {
   "cell_type": "markdown",
   "metadata": {
    "id": "UQNnZKyZHrMr"
   },
   "source": [
    "# Team Expectations \n",
    "\n",
    "- Meetings will be on Discord/Zoom on a weekly basis where each member will give updates on the status of their delegated task(s).\n",
    "Try to respond to messages within 24 hours.\n",
    "- Scheduling conflicts/delays should be communicated in writing at the earliest possible notice to give members time to reconsolidate plans.\n",
    "- Make clear notes for members who can’t attend the meeting\n",
    "- Tasks will be delegated evenly across all team members. \n",
    "- Maintain frequent communication so that potential issues can be addressed early rather than later.\n"
   ]
  },
  {
   "cell_type": "markdown",
   "metadata": {
    "id": "9USk31VFHrMs"
   },
   "source": [
    "# Project Timeline Proposal"
   ]
  },
  {
   "cell_type": "markdown",
   "metadata": {
    "id": "Zw4AUlGFHrMs"
   },
   "source": [
    "\n",
    "| Meeting Date  | Meeting Time| Completed Before Meeting  | Discuss at Meeting |\n",
    "|---|---|---|---|\n",
    "| 4/29  |  4 PM |  Peer reviews of proposal (all)  | Finalize Datasets, assign specific parts to group members | \n",
    "| 5/6  |  4 PM | Have dataset chosen | Discuss data cleaning, and possible analytical approaches | \n",
    "| 5/13  | 4 PM  | Have data cleaning done, and analytical approaches  | Do EDA/Discuss Analysis Plan     |\n",
    "| 5/20  | 4 PM  | EDA done and plan for Analysis completed, checkpoint peer review  | Do Analysis/ Plan for Conclusion   |\n",
    "| 5/27  | 4 PM  | Analysis completed | Discuss/edit project code; Complete project |\n",
    "| 6/3  | 4 PM  | Complete analysis; Draft results/conclusion/discussion | Discuss/edit full project |\n",
    "| 6.8  | Before 11:59 PM  | NA | Turn in Final Project  |"
   ]
  },
  {
   "cell_type": "markdown",
   "metadata": {
    "id": "ZRaOLLVPHrMt"
   },
   "source": [
    "# Footnotes\n",
    "<a name=\"market\"></a>1.[^](#marketnote): US Housing Market Bubble Timeline via Wikipedia. https://en.wikipedia.org/wiki/United_States_housing_bubble#Timeline<br> \n",
    "<a name=\"equilibrium\"></a>2.[^](#equilibriumnote): What is Equilibrium? |  Stable and Unstable equilibrium in economics. https://www.theeconomicsstudy.in/2021/07/Equilibrium.html\n",
    "\n"
   ]
  },
  {
   "cell_type": "code",
   "execution_count": null,
   "metadata": {
    "id": "5t1HOB6sHrMu"
   },
   "outputs": [],
   "source": [
    "\n"
   ]
  }
 ],
 "metadata": {
  "colab": {
   "collapsed_sections": [],
   "name": "ProposalGroup029-Sp22.ipynb",
   "provenance": []
  },
  "kernelspec": {
   "display_name": "Python 3 (ipykernel)",
   "language": "python",
   "name": "python3"
  },
  "language_info": {
   "codemirror_mode": {
    "name": "ipython",
    "version": 3
   },
   "file_extension": ".py",
   "mimetype": "text/x-python",
   "name": "python",
   "nbconvert_exporter": "python",
   "pygments_lexer": "ipython3",
   "version": "3.9.7"
  }
 },
 "nbformat": 4,
 "nbformat_minor": 1
}
