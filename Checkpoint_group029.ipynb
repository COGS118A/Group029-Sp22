{
 "cells": [
  {
   "cell_type": "markdown",
   "metadata": {},
   "source": [
    "# COGS 118A- Project Checkpoint"
   ]
  },
  {
   "cell_type": "markdown",
   "metadata": {},
   "source": [
    "# Names\n",
    "\n",
    "- Andy Ly\n",
    "- Brian Wong\n",
    "- Ming Qiu\n",
    "- Zijie Lei\n",
    "- Paayal Desai "
   ]
  },
  {
   "cell_type": "markdown",
   "metadata": {},
   "source": [
    "# Abstract \n",
    "Housing prices are overvalued and inflated due to the current economic bubble. To explore the trend of housing prices and factors that may play roles in determining the housing price, we want to use regression analysis to accurately predict the listing price of a property as well as the potential closing price. These prices are based on what someone would actually list and purchase the house for. This analysis is not trying to find the true value of the home. By analyzing various key factors such as location, property composition/size in tandem with price data, we will build a model that can accurately predict the holding value of a property. We will be judging our model’s performance with respect to the testing set errors."
   ]
  },
  {
   "cell_type": "markdown",
   "metadata": {},
   "source": [
    "# Background\n",
    "\n",
    "After the housing market crash in 2008, large financial institutions and investors were wary of the real estate/mortgage market.<a name=\"market\"></a>[<sup>[1]</sup>](#marketnote). People operated on the idea that mortgages and housing were a cornerstone of the American economy which would never fail. When the market did fail however, the demand and pricing of single family homes/mortgages fell almost instantaneously. Large financial institutions were bailed out and the economic fall out can still be felt by the people today. \n",
    "\n",
    "When a particular market is relatively stable the growth is steady, slow and not without the occasional correction towards an equilibrium point<a name=\"equilibrium\"></a>[<sup>[2]</sup>](#equilibriumnote).  It is almost unheard of for any stock, security, bond, commodity, goods, or properties to increase in value at the rate the California housing market has grown in the last decade. This rapid growth is not only unsustainable, but could potentially leave millions of people in a financial pitfall by overpaying for properties that will lose tremendous value when the market does eventually correct itself. "
   ]
  },
  {
   "cell_type": "markdown",
   "metadata": {},
   "source": [
    "# Problem Statement\n",
    "\n",
    "In recent years the housing market has exploded nationwide due to a dramatic increase in demand for single family homes. Coupled with the increase in high income careers provided by lucrative tech companies, the housing market is hyper competitive with properties often receiving multiple bids well above asking price. The market is long overdue for a correction, and we believe that some properties are overvalued when listed for sale. Thus, we aim to study the trend of housing prices and potential contributing factors via various regression models to determine if there are clear correlations between these potential factors to the change of housing price. And eventually predict the fair market value of a property given these sets of factors. "
   ]
  },
  {
   "cell_type": "markdown",
   "metadata": {},
   "source": [
    "# Data\n",
    "\n",
    "[Redfin Data Center](https://www.redfin.com/news/data-center/)\n",
    "\n",
    "[Link to Data used in COGS_118A_Notebook](https://raw.githubusercontent.com/ayiply/test_repo/main/us_national_market_tracker.tsv000)\n",
    "\n",
    "[COGS_118A_Notebook](https://github.com/COGS118A/Group029-Sp22/blob/1edcfe99c94efba485dabd2608b049467fb313be/COGS_118A_Project.ipynb) (Contains the data wrangling)\n",
    "\n",
    "The data is from Redfin's aggregate national data from 2012 onwards. It contains 58 variables and 1353 observations. While it does contain 58 variables, we are currently only utilizing 15 for the data wrangling and initial analysis. Many of the variables are locational information (region, state, city, etc.) along with information about listings in that region. The observations themselves are not individual listings, but rather the aggregate from a national level. We are not entirely certain about how the grouping works. Some of the critical variables are: median list price, median sale price, median list price per square foot (ppsf), and median sale ppsf. Since the prices were not adjusted for inflation, we found the inflation rates for each year from 2012-2022 and used those to calculate the prices of earlier transactions adjusted for inflation. The data wrangling can be found in the COGS_118A_Project jupyter notebook in the GitHub repo. Considering how few observations there are in Redfin's national dataset, we were considering using one of their more granular datasets such as their state level dataset. The variables will be larger the same, but there should be more observations because the grouping of the individual listings is smaller. One note about the data that we are using in the notebook is that it is from their lastest update in April. We plan on using their updated dataset from May, but due to the way we handled the data wrangling we are holding off on that."
   ]
  },
  {
   "cell_type": "markdown",
   "metadata": {},
   "source": [
    "# Proposed Solution\n",
    "\n",
    "To predict the potential listing and sale price of a home, we are using multivariate linear regression. Some of the features that we will include are: median list price, median sale price, city, median price per square foot, property type, square footage of the house, bedrooms, and bathrooms. These features should provide information regarding the sale of a house in that area. The median list price and sale price would be the most helpful, but the inclusion of city and property type hopefully will account for the housing market situation of that area. Square footage, bedrooms, and bathrooms are features that will help determine the initial list price. The median sale price will be most useful in determining the potential sale price. This predicted price may be overvalued, but determining the true value of the house would be difficult since the data that we are using contains overvalued sales as well. To account for inflation, we will be adjusting all of the price data for inflation. Since the price of a property is constantly changing, we can try to find a general rate of change to factor into our final result. We can also attempt to use some other form of feature selection to see if other features that we haven't included could be useful as well. While we are currently set on using linear regression, other models may prove useful as well. As such, we may attempt to run other models to determine the best one for our problem. Some of the libraries we plan on using to implement are model are: numpy, pandas, seaborn, sklearn, statsmodels, and matplotlib."
   ]
  },
  {
   "cell_type": "markdown",
   "metadata": {},
   "source": [
    "# Evaluation Metrics\n",
    "\n",
    "Because our task is a regression analysis, we will use R-Squared for the differences in prices of the properties in our validation, training and test data sets. R-Squared measure the goodness of fit, which is generally calculated by residual sum of square $SS_{res}$ divided by the total sum of square $SS_{tot}$. The value of R-Square ranges between 0 and 1, while a higher value of R-Square suggests high performance of the model on prediction. One possible potential metric can be MSE, which measures the average squared difference between the predicted value and actual value. Unlike R-Squared, high value of MSE suggests low performance of the model on prediction."
   ]
  },
  {
   "cell_type": "markdown",
   "metadata": {},
   "source": [
    "# Preliminary results\n",
    "\n",
    "We performed KFolds linear regression, polynomial regression, and plotted some of our data. Results and thoughts regarding that information can be found in the [COGS_118A_Notebook](https://github.com/COGS118A/Group029-Sp22/blob/1edcfe99c94efba485dabd2608b049467fb313be/COGS_118A_Project.ipynb)."
   ]
  },
  {
   "cell_type": "markdown",
   "metadata": {},
   "source": [
    "# Ethics & Privacy"
   ]
  },
  {
   "cell_type": "markdown",
   "metadata": {},
   "source": [
    "Since the data is not collected and updated in real time, it might not be enough to perform the best estimation to fit the needs for the fast-paced market. In addition, our analysis is based on housing information from California. Thus, our model has poor generalization for other states and countries. A possible consequence of this is our result misleading a user into making a poor financial decision. If enough users in a given region do this, it has the potential to negatively influence the pricing implications on the actual housing market in other regions.\n",
    "The data gathered for our project is originally sourced from the US census, which is within the public domain. The data and our analysis will not include any personal information of a person who might be related to the data, such as names of the house owner and buyer, actual home address, etc. "
   ]
  },
  {
   "cell_type": "markdown",
   "metadata": {},
   "source": [
    "# Team Expectations "
   ]
  },
  {
   "cell_type": "markdown",
   "metadata": {},
   "source": [
    "- Meetings will be on Discord/Zoom on a weekly basis where each member will give updates on the status of their delegated task(s).\n",
    "Try to respond to messages within 24 hours.\n",
    "- Scheduling conflicts/delays should be communicated in writing at the earliest possible notice to give members time to reconsolidate plans.\n",
    "- Make clear notes for members who can’t attend the meeting\n",
    "- Tasks will be delegated evenly across all team members. \n",
    "- Maintain frequent communication so that potential issues can be addressed early rather than later.\n",
    "\n",
    "Checkpoint Contributions:\n",
    "- Andy Ly\n",
    "    - Acquiring data\n",
    "    - Data wrangling\n",
    "- Brian Wong\n",
    "    - Preliminary results (analysis of graphs and models), submission\n",
    "- Ming Qiu\n",
    "    - Metrics\n",
    "- Zijie Lei\n",
    "    - Preliminary results (plotting data, generating models)\n",
    "- Paayal Desai\n",
    "    - Problem statement"
   ]
  },
  {
   "cell_type": "markdown",
   "metadata": {},
   "source": [
    "# Project Timeline Proposal"
   ]
  },
  {
   "cell_type": "markdown",
   "metadata": {},
   "source": [
    "UPDATE THE PROPOSAL TIMELINE ACCORDING TO WHAT HAS ACTUALLY HAPPENED AND HOW IT HAS EFFECTED YOUR FUTURE PLANS\n",
    "\n",
    "| Meeting Date  | Meeting Time| Completed Before Meeting  | Discuss at Meeting |\n",
    "|---|---|---|---|\n",
    "| 4/29  |  4 PM |  Peer reviews of proposal (all)  | Finalize Datasets, assign specific parts to group members | \n",
    "| 5/6  |  4 PM | Have dataset chosen | Discuss data cleaning, and possible analytical approaches | \n",
    "| 5/13  | 4 PM  | Have data cleaning done, and analytical approaches  | Do EDA/Discuss Analysis Plan     |\n",
    "| 5/20  | 4 PM  | EDA done and plan for Analysis completed, checkpoint peer review  | Do Analysis/ Plan for Conclusion   |\n",
    "| 5/27  | 4 PM  | Analysis completed | Discuss/edit project code; Complete project |\n",
    "| 6/3  | 4 PM  | Complete analysis; Draft results/conclusion/discussion | Discuss/edit full project |\n",
    "| 6.8  | Before 11:59 PM  | NA | Turn in Final Project  |"
   ]
  },
  {
   "cell_type": "markdown",
   "metadata": {},
   "source": [
    "# Footnotes\n",
    "<a name=\"market\"></a>1.[^](#marketnote): US Housing Market Bubble Timeline via Wikipedia. https://en.wikipedia.org/wiki/United_States_housing_bubble#Timeline<br> \n",
    "<a name=\"equilibrium\"></a>2.[^](#equilibriumnote): What is Equilibrium? |  Stable and Unstable equilibrium in economics. https://www.theeconomicsstudy.in/2021/07/Equilibrium.html\n"
   ]
  },
  {
   "cell_type": "code",
   "execution_count": null,
   "metadata": {},
   "outputs": [],
   "source": []
  }
 ],
 "metadata": {
  "kernelspec": {
   "display_name": "Python 3 (ipykernel)",
   "language": "python",
   "name": "python3"
  },
  "language_info": {
   "codemirror_mode": {
    "name": "ipython",
    "version": 3
   },
   "file_extension": ".py",
   "mimetype": "text/x-python",
   "name": "python",
   "nbconvert_exporter": "python",
   "pygments_lexer": "ipython3",
   "version": "3.9.7"
  }
 },
 "nbformat": 4,
 "nbformat_minor": 2
}
