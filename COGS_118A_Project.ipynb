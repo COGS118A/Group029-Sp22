{
  "cells": [
    {
      "cell_type": "code",
      "execution_count": 295,
      "metadata": {
        "id": "ywUPExlg5UUc"
      },
      "outputs": [],
      "source": [
        "0#Importing Packages\n",
        "\n",
        "#Data\n",
        "import pandas as pd\n",
        "import numpy as np\n",
        "\n",
        "#ML Frameworks\n",
        "#scikit learn - library for predictions\n",
        "#statsmodels - library for models\n",
        "import sklearn as sk\n",
        "from sklearn.pipeline import make_pipeline\n",
        "from sklearn.preprocessing import PolynomialFeatures\n",
        "from sklearn.linear_model import LinearRegression\n",
        "from sklearn.model_selection import train_test_split\n",
        "from sklearn import  linear_model\n",
        "from sklearn.metrics import mean_squared_error, r2_score\n",
        "import statsmodels as sm\n",
        "\n",
        "#Data Visualization\n",
        "import seaborn as sns\n",
        "import matplotlib.pyplot as plt\n"
      ]
    },
    {
      "cell_type": "markdown",
      "metadata": {
        "id": "ti1I6v2rCK2f"
      },
      "source": [
        "## Understanding Key Drivers of Price\n",
        "\n",
        "Real estate prices can be seperated effectively in to two distinct categories; **county and metro**. As the location itself acts as a key distinction between the average type, size and price of the property. \n",
        "\n",
        "To better understand the market demand, we want to examine the metrics that indicate the prices at which properties are being listed/sold in each particular region. \n",
        "\n",
        "The metrics that we want to look at are:\n",
        ">\n",
        " * 'property_type_id': id number indicating which type of property (i.e All Residences, Single Family Homes, Townhouses etc.)\n",
        " * 'period_begin': start date\n",
        " * 'period_end': end date\n",
        " * 'period_duration': duration of the data record\n",
        " * 'median_sale_price': median sale price of homes sold\n",
        " * 'median_list_price': median list price of homes\n",
        " * 'avg_sale_to_list': ratio comparing the sale price and list price\n",
        " * 'last_updated' : retreiving the latest updated data\n",
        " * 'average annual inflation' : an important factor when the comes to the valuation of USD when purchasing property.\n",
        "\n"
      ]
    },
    {
      "cell_type": "code",
      "execution_count": 296,
      "metadata": {
        "id": "Pu0rCfdcI2jp"
      },
      "outputs": [],
      "source": [
        "#Data Wrangling from Redfin\n",
        "url2 = 'https://raw.githubusercontent.com/ayiply/test_repo/main/us_national_market_tracker.tsv000'\n",
        "national_df = pd.read_csv(url2, sep = \"\\t\")\n"
      ]
    },
    {
      "cell_type": "code",
      "execution_count": 297,
      "metadata": {
        "colab": {
          "base_uri": "https://localhost:8080/",
          "height": 805
        },
        "id": "JK4zWF_VI88K",
        "outputId": "9d1215d9-c4b9-4772-bf0a-96e1eaf6bb91"
      },
      "outputs": [
        {
          "data": {
            "text/html": [
              "<div>\n",
              "<style scoped>\n",
              "    .dataframe tbody tr th:only-of-type {\n",
              "        vertical-align: middle;\n",
              "    }\n",
              "\n",
              "    .dataframe tbody tr th {\n",
              "        vertical-align: top;\n",
              "    }\n",
              "\n",
              "    .dataframe thead th {\n",
              "        text-align: right;\n",
              "    }\n",
              "</style>\n",
              "<table border=\"1\" class=\"dataframe\">\n",
              "  <thead>\n",
              "    <tr style=\"text-align: right;\">\n",
              "      <th></th>\n",
              "      <th>period_begin</th>\n",
              "      <th>period_end</th>\n",
              "      <th>period_duration</th>\n",
              "      <th>region_type</th>\n",
              "      <th>region_type_id</th>\n",
              "      <th>table_id</th>\n",
              "      <th>is_seasonally_adjusted</th>\n",
              "      <th>region</th>\n",
              "      <th>city</th>\n",
              "      <th>state</th>\n",
              "      <th>...</th>\n",
              "      <th>sold_above_list_yoy</th>\n",
              "      <th>price_drops</th>\n",
              "      <th>price_drops_mom</th>\n",
              "      <th>price_drops_yoy</th>\n",
              "      <th>off_market_in_two_weeks</th>\n",
              "      <th>off_market_in_two_weeks_mom</th>\n",
              "      <th>off_market_in_two_weeks_yoy</th>\n",
              "      <th>parent_metro_region</th>\n",
              "      <th>parent_metro_region_metro_code</th>\n",
              "      <th>last_updated</th>\n",
              "    </tr>\n",
              "  </thead>\n",
              "  <tbody>\n",
              "    <tr>\n",
              "      <th>0</th>\n",
              "      <td>2018-10-01</td>\n",
              "      <td>2018-10-31</td>\n",
              "      <td>30</td>\n",
              "      <td>national</td>\n",
              "      <td>11</td>\n",
              "      <td>1400</td>\n",
              "      <td>f</td>\n",
              "      <td>National</td>\n",
              "      <td>National</td>\n",
              "      <td>U.S.</td>\n",
              "      <td>...</td>\n",
              "      <td>-0.010469</td>\n",
              "      <td>0.182812</td>\n",
              "      <td>0.015493</td>\n",
              "      <td>0.042999</td>\n",
              "      <td>0.316318</td>\n",
              "      <td>-0.024323</td>\n",
              "      <td>-0.032624</td>\n",
              "      <td>NaN</td>\n",
              "      <td>NaN</td>\n",
              "      <td>2022-04-10 14:49:10</td>\n",
              "    </tr>\n",
              "    <tr>\n",
              "      <th>1</th>\n",
              "      <td>2020-10-01</td>\n",
              "      <td>2020-10-31</td>\n",
              "      <td>30</td>\n",
              "      <td>national</td>\n",
              "      <td>11</td>\n",
              "      <td>1400</td>\n",
              "      <td>f</td>\n",
              "      <td>National</td>\n",
              "      <td>National</td>\n",
              "      <td>U.S.</td>\n",
              "      <td>...</td>\n",
              "      <td>0.054528</td>\n",
              "      <td>0.134954</td>\n",
              "      <td>0.005643</td>\n",
              "      <td>-0.013543</td>\n",
              "      <td>0.358236</td>\n",
              "      <td>-0.015613</td>\n",
              "      <td>0.038912</td>\n",
              "      <td>NaN</td>\n",
              "      <td>NaN</td>\n",
              "      <td>2022-04-10 14:49:10</td>\n",
              "    </tr>\n",
              "    <tr>\n",
              "      <th>2</th>\n",
              "      <td>2020-01-01</td>\n",
              "      <td>2020-01-31</td>\n",
              "      <td>30</td>\n",
              "      <td>national</td>\n",
              "      <td>11</td>\n",
              "      <td>1400</td>\n",
              "      <td>f</td>\n",
              "      <td>National</td>\n",
              "      <td>National</td>\n",
              "      <td>U.S.</td>\n",
              "      <td>...</td>\n",
              "      <td>-0.002394</td>\n",
              "      <td>0.108246</td>\n",
              "      <td>0.027181</td>\n",
              "      <td>-0.012040</td>\n",
              "      <td>0.381831</td>\n",
              "      <td>0.139909</td>\n",
              "      <td>0.009160</td>\n",
              "      <td>NaN</td>\n",
              "      <td>NaN</td>\n",
              "      <td>2022-04-10 14:49:10</td>\n",
              "    </tr>\n",
              "    <tr>\n",
              "      <th>3</th>\n",
              "      <td>2012-06-01</td>\n",
              "      <td>2012-06-30</td>\n",
              "      <td>30</td>\n",
              "      <td>national</td>\n",
              "      <td>11</td>\n",
              "      <td>1400</td>\n",
              "      <td>f</td>\n",
              "      <td>National</td>\n",
              "      <td>National</td>\n",
              "      <td>U.S.</td>\n",
              "      <td>...</td>\n",
              "      <td>0.035716</td>\n",
              "      <td>0.059756</td>\n",
              "      <td>0.000872</td>\n",
              "      <td>-0.021419</td>\n",
              "      <td>0.292725</td>\n",
              "      <td>-0.015050</td>\n",
              "      <td>0.062571</td>\n",
              "      <td>NaN</td>\n",
              "      <td>NaN</td>\n",
              "      <td>2022-04-10 14:49:10</td>\n",
              "    </tr>\n",
              "    <tr>\n",
              "      <th>4</th>\n",
              "      <td>2017-03-01</td>\n",
              "      <td>2017-03-31</td>\n",
              "      <td>30</td>\n",
              "      <td>national</td>\n",
              "      <td>11</td>\n",
              "      <td>1400</td>\n",
              "      <td>f</td>\n",
              "      <td>National</td>\n",
              "      <td>National</td>\n",
              "      <td>U.S.</td>\n",
              "      <td>...</td>\n",
              "      <td>0.013701</td>\n",
              "      <td>0.108722</td>\n",
              "      <td>0.007264</td>\n",
              "      <td>-0.004099</td>\n",
              "      <td>0.466676</td>\n",
              "      <td>0.003419</td>\n",
              "      <td>0.022455</td>\n",
              "      <td>NaN</td>\n",
              "      <td>NaN</td>\n",
              "      <td>2022-04-10 14:49:10</td>\n",
              "    </tr>\n",
              "  </tbody>\n",
              "</table>\n",
              "<p>5 rows × 58 columns</p>\n",
              "</div>"
            ],
            "text/plain": [
              "  period_begin  period_end  period_duration region_type  region_type_id  \\\n",
              "0   2018-10-01  2018-10-31               30    national              11   \n",
              "1   2020-10-01  2020-10-31               30    national              11   \n",
              "2   2020-01-01  2020-01-31               30    national              11   \n",
              "3   2012-06-01  2012-06-30               30    national              11   \n",
              "4   2017-03-01  2017-03-31               30    national              11   \n",
              "\n",
              "   table_id is_seasonally_adjusted     region      city state  ...  \\\n",
              "0      1400                      f   National  National  U.S.  ...   \n",
              "1      1400                      f   National  National  U.S.  ...   \n",
              "2      1400                      f   National  National  U.S.  ...   \n",
              "3      1400                      f   National  National  U.S.  ...   \n",
              "4      1400                      f   National  National  U.S.  ...   \n",
              "\n",
              "  sold_above_list_yoy price_drops  price_drops_mom  price_drops_yoy  \\\n",
              "0           -0.010469    0.182812         0.015493         0.042999   \n",
              "1            0.054528    0.134954         0.005643        -0.013543   \n",
              "2           -0.002394    0.108246         0.027181        -0.012040   \n",
              "3            0.035716    0.059756         0.000872        -0.021419   \n",
              "4            0.013701    0.108722         0.007264        -0.004099   \n",
              "\n",
              "   off_market_in_two_weeks  off_market_in_two_weeks_mom  \\\n",
              "0                 0.316318                    -0.024323   \n",
              "1                 0.358236                    -0.015613   \n",
              "2                 0.381831                     0.139909   \n",
              "3                 0.292725                    -0.015050   \n",
              "4                 0.466676                     0.003419   \n",
              "\n",
              "   off_market_in_two_weeks_yoy  parent_metro_region  \\\n",
              "0                    -0.032624                  NaN   \n",
              "1                     0.038912                  NaN   \n",
              "2                     0.009160                  NaN   \n",
              "3                     0.062571                  NaN   \n",
              "4                     0.022455                  NaN   \n",
              "\n",
              "   parent_metro_region_metro_code         last_updated  \n",
              "0                             NaN  2022-04-10 14:49:10  \n",
              "1                             NaN  2022-04-10 14:49:10  \n",
              "2                             NaN  2022-04-10 14:49:10  \n",
              "3                             NaN  2022-04-10 14:49:10  \n",
              "4                             NaN  2022-04-10 14:49:10  \n",
              "\n",
              "[5 rows x 58 columns]"
            ]
          },
          "execution_count": 297,
          "metadata": {},
          "output_type": "execute_result"
        }
      ],
      "source": [
        "national_df.head()"
      ]
    },
    {
      "cell_type": "code",
      "execution_count": 298,
      "metadata": {
        "colab": {
          "base_uri": "https://localhost:8080/"
        },
        "id": "rpXKMHn6Kmvs",
        "outputId": "078e9038-6d0c-4f54-88b2-a98cf9c6edf7"
      },
      "outputs": [
        {
          "data": {
            "text/plain": [
              "Index(['period_begin', 'period_end', 'period_duration', 'region_type',\n",
              "       'region_type_id', 'table_id', 'is_seasonally_adjusted', 'region',\n",
              "       'city', 'state', 'state_code', 'property_type', 'property_type_id',\n",
              "       'median_sale_price', 'median_sale_price_mom', 'median_sale_price_yoy',\n",
              "       'median_list_price', 'median_list_price_mom', 'median_list_price_yoy',\n",
              "       'median_ppsf', 'median_ppsf_mom', 'median_ppsf_yoy', 'median_list_ppsf',\n",
              "       'median_list_ppsf_mom', 'median_list_ppsf_yoy', 'homes_sold',\n",
              "       'homes_sold_mom', 'homes_sold_yoy', 'pending_sales',\n",
              "       'pending_sales_mom', 'pending_sales_yoy', 'new_listings',\n",
              "       'new_listings_mom', 'new_listings_yoy', 'inventory', 'inventory_mom',\n",
              "       'inventory_yoy', 'months_of_supply', 'months_of_supply_mom',\n",
              "       'months_of_supply_yoy', 'median_dom', 'median_dom_mom',\n",
              "       'median_dom_yoy', 'avg_sale_to_list', 'avg_sale_to_list_mom',\n",
              "       'avg_sale_to_list_yoy', 'sold_above_list', 'sold_above_list_mom',\n",
              "       'sold_above_list_yoy', 'price_drops', 'price_drops_mom',\n",
              "       'price_drops_yoy', 'off_market_in_two_weeks',\n",
              "       'off_market_in_two_weeks_mom', 'off_market_in_two_weeks_yoy',\n",
              "       'parent_metro_region', 'parent_metro_region_metro_code',\n",
              "       'last_updated'],\n",
              "      dtype='object')"
            ]
          },
          "execution_count": 298,
          "metadata": {},
          "output_type": "execute_result"
        }
      ],
      "source": [
        "national_df.columns"
      ]
    },
    {
      "cell_type": "code",
      "execution_count": 299,
      "metadata": {},
      "outputs": [
        {
          "data": {
            "text/plain": [
              "region   \n",
              " National    1353\n",
              "dtype: int64"
            ]
          },
          "execution_count": 299,
          "metadata": {},
          "output_type": "execute_result"
        }
      ],
      "source": [
        "national_df[['region']].value_counts()"
      ]
    },
    {
      "cell_type": "code",
      "execution_count": 300,
      "metadata": {},
      "outputs": [],
      "source": [
        "def year(str):\n",
        "    return int(str[:4])\n",
        "\n",
        "national_df = national_df.assign(year = national_df['period_begin'].apply(year))"
      ]
    },
    {
      "cell_type": "code",
      "execution_count": 301,
      "metadata": {
        "id": "ceywoOp6Kwp-"
      },
      "outputs": [],
      "source": [
        "national_df = national_df[['property_type_id','period_begin', 'period_end', 'year', 'period_duration' ,'median_list_price','median_sale_price', 'median_list_ppsf', 'avg_sale_to_list', 'last_updated']]"
      ]
    },
    {
      "cell_type": "code",
      "execution_count": 302,
      "metadata": {
        "colab": {
          "base_uri": "https://localhost:8080/",
          "height": 35
        },
        "id": "Qj0b8ZezJA2K",
        "outputId": "755bfe98-51ef-49f1-aa73-bdc570fc286c"
      },
      "outputs": [
        {
          "data": {
            "text/plain": [
              "'2022-04-11 00:00:00'"
            ]
          },
          "execution_count": 302,
          "metadata": {},
          "output_type": "execute_result"
        }
      ],
      "source": [
        "national_df['last_updated'].value_counts().index.tolist()[-1]"
      ]
    },
    {
      "cell_type": "code",
      "execution_count": 303,
      "metadata": {
        "colab": {
          "base_uri": "https://localhost:8080/"
        },
        "id": "AVqOUB8oYiVl",
        "outputId": "6a36b878-f9d9-4ca0-bd9a-fe6cd39ba397"
      },
      "outputs": [
        {
          "data": {
            "text/plain": [
              "2022-04-10 14:49:10    738\n",
              "2022-04-11 00:00:00    615\n",
              "Name: last_updated, dtype: int64"
            ]
          },
          "execution_count": 303,
          "metadata": {},
          "output_type": "execute_result"
        }
      ],
      "source": [
        "national_df['last_updated'].value_counts()"
      ]
    },
    {
      "cell_type": "code",
      "execution_count": 304,
      "metadata": {
        "id": "ekCyJUgvLODK"
      },
      "outputs": [],
      "source": [
        "# property_type_id == -1; All residential homes\n",
        "national_df = national_df.loc[national_df['property_type_id'] == -1]\n",
        "\n",
        "#Removing Duplicate Entries, Leaving Latest Update\n",
        "national_df = national_df.loc[national_df['last_updated'] == '2022-04-10 14:49:10']\n",
        "#national_df = national_df.loc[national_df['last_updated'] == national_df['last_updated'].value_counts().index.tolist()[-1]]\n",
        "\n",
        "#Sorting by ascending order of entry period end date\n",
        "national_df.sort_values('period_end', inplace = True)\n"
      ]
    },
    {
      "cell_type": "code",
      "execution_count": 305,
      "metadata": {
        "colab": {
          "base_uri": "https://localhost:8080/",
          "height": 424
        },
        "id": "XGvgCD8OJC6t",
        "outputId": "c5069e83-7715-4090-a1f8-0ea65d28c0c3"
      },
      "outputs": [
        {
          "data": {
            "text/html": [
              "<div>\n",
              "<style scoped>\n",
              "    .dataframe tbody tr th:only-of-type {\n",
              "        vertical-align: middle;\n",
              "    }\n",
              "\n",
              "    .dataframe tbody tr th {\n",
              "        vertical-align: top;\n",
              "    }\n",
              "\n",
              "    .dataframe thead th {\n",
              "        text-align: right;\n",
              "    }\n",
              "</style>\n",
              "<table border=\"1\" class=\"dataframe\">\n",
              "  <thead>\n",
              "    <tr style=\"text-align: right;\">\n",
              "      <th></th>\n",
              "      <th>property_type_id</th>\n",
              "      <th>period_begin</th>\n",
              "      <th>period_end</th>\n",
              "      <th>year</th>\n",
              "      <th>period_duration</th>\n",
              "      <th>median_list_price</th>\n",
              "      <th>median_sale_price</th>\n",
              "      <th>median_list_ppsf</th>\n",
              "      <th>avg_sale_to_list</th>\n",
              "      <th>last_updated</th>\n",
              "    </tr>\n",
              "  </thead>\n",
              "  <tbody>\n",
              "    <tr>\n",
              "      <th>1028</th>\n",
              "      <td>-1</td>\n",
              "      <td>2012-01-01</td>\n",
              "      <td>2012-01-31</td>\n",
              "      <td>2012</td>\n",
              "      <td>30</td>\n",
              "      <td>182741.0</td>\n",
              "      <td>158955.0</td>\n",
              "      <td>102.0</td>\n",
              "      <td>0.956285</td>\n",
              "      <td>2022-04-10 14:49:10</td>\n",
              "    </tr>\n",
              "    <tr>\n",
              "      <th>1016</th>\n",
              "      <td>-1</td>\n",
              "      <td>2012-02-01</td>\n",
              "      <td>2012-02-29</td>\n",
              "      <td>2012</td>\n",
              "      <td>30</td>\n",
              "      <td>192252.0</td>\n",
              "      <td>159915.0</td>\n",
              "      <td>105.0</td>\n",
              "      <td>0.958041</td>\n",
              "      <td>2022-04-10 14:49:10</td>\n",
              "    </tr>\n",
              "    <tr>\n",
              "      <th>337</th>\n",
              "      <td>-1</td>\n",
              "      <td>2012-03-01</td>\n",
              "      <td>2012-03-31</td>\n",
              "      <td>2012</td>\n",
              "      <td>30</td>\n",
              "      <td>198860.0</td>\n",
              "      <td>170681.0</td>\n",
              "      <td>108.0</td>\n",
              "      <td>0.961785</td>\n",
              "      <td>2022-04-10 14:49:10</td>\n",
              "    </tr>\n",
              "    <tr>\n",
              "      <th>1080</th>\n",
              "      <td>-1</td>\n",
              "      <td>2012-04-01</td>\n",
              "      <td>2012-04-30</td>\n",
              "      <td>2012</td>\n",
              "      <td>30</td>\n",
              "      <td>198927.0</td>\n",
              "      <td>177774.0</td>\n",
              "      <td>107.0</td>\n",
              "      <td>0.965150</td>\n",
              "      <td>2022-04-10 14:49:10</td>\n",
              "    </tr>\n",
              "    <tr>\n",
              "      <th>539</th>\n",
              "      <td>-1</td>\n",
              "      <td>2012-05-01</td>\n",
              "      <td>2012-05-31</td>\n",
              "      <td>2012</td>\n",
              "      <td>30</td>\n",
              "      <td>200718.0</td>\n",
              "      <td>186050.0</td>\n",
              "      <td>108.0</td>\n",
              "      <td>0.968565</td>\n",
              "      <td>2022-04-10 14:49:10</td>\n",
              "    </tr>\n",
              "    <tr>\n",
              "      <th>...</th>\n",
              "      <td>...</td>\n",
              "      <td>...</td>\n",
              "      <td>...</td>\n",
              "      <td>...</td>\n",
              "      <td>...</td>\n",
              "      <td>...</td>\n",
              "      <td>...</td>\n",
              "      <td>...</td>\n",
              "      <td>...</td>\n",
              "      <td>...</td>\n",
              "    </tr>\n",
              "    <tr>\n",
              "      <th>1014</th>\n",
              "      <td>-1</td>\n",
              "      <td>2021-11-01</td>\n",
              "      <td>2021-11-30</td>\n",
              "      <td>2021</td>\n",
              "      <td>30</td>\n",
              "      <td>371843.0</td>\n",
              "      <td>382460.0</td>\n",
              "      <td>208.0</td>\n",
              "      <td>1.006288</td>\n",
              "      <td>2022-04-10 14:49:10</td>\n",
              "    </tr>\n",
              "    <tr>\n",
              "      <th>946</th>\n",
              "      <td>-1</td>\n",
              "      <td>2021-12-01</td>\n",
              "      <td>2021-12-31</td>\n",
              "      <td>2021</td>\n",
              "      <td>30</td>\n",
              "      <td>366811.0</td>\n",
              "      <td>381527.0</td>\n",
              "      <td>208.0</td>\n",
              "      <td>1.004854</td>\n",
              "      <td>2022-04-10 14:49:10</td>\n",
              "    </tr>\n",
              "    <tr>\n",
              "      <th>808</th>\n",
              "      <td>-1</td>\n",
              "      <td>2022-01-01</td>\n",
              "      <td>2022-01-31</td>\n",
              "      <td>2022</td>\n",
              "      <td>30</td>\n",
              "      <td>395800.0</td>\n",
              "      <td>376519.0</td>\n",
              "      <td>222.0</td>\n",
              "      <td>1.003992</td>\n",
              "      <td>2022-04-10 14:49:10</td>\n",
              "    </tr>\n",
              "    <tr>\n",
              "      <th>1057</th>\n",
              "      <td>-1</td>\n",
              "      <td>2022-02-01</td>\n",
              "      <td>2022-02-28</td>\n",
              "      <td>2022</td>\n",
              "      <td>30</td>\n",
              "      <td>415025.0</td>\n",
              "      <td>388527.0</td>\n",
              "      <td>231.0</td>\n",
              "      <td>1.012548</td>\n",
              "      <td>2022-04-10 14:49:10</td>\n",
              "    </tr>\n",
              "    <tr>\n",
              "      <th>587</th>\n",
              "      <td>-1</td>\n",
              "      <td>2022-03-01</td>\n",
              "      <td>2022-03-31</td>\n",
              "      <td>2022</td>\n",
              "      <td>30</td>\n",
              "      <td>426625.0</td>\n",
              "      <td>412687.0</td>\n",
              "      <td>233.0</td>\n",
              "      <td>1.024470</td>\n",
              "      <td>2022-04-10 14:49:10</td>\n",
              "    </tr>\n",
              "  </tbody>\n",
              "</table>\n",
              "<p>123 rows × 10 columns</p>\n",
              "</div>"
            ],
            "text/plain": [
              "      property_type_id period_begin  period_end  year  period_duration  \\\n",
              "1028                -1   2012-01-01  2012-01-31  2012               30   \n",
              "1016                -1   2012-02-01  2012-02-29  2012               30   \n",
              "337                 -1   2012-03-01  2012-03-31  2012               30   \n",
              "1080                -1   2012-04-01  2012-04-30  2012               30   \n",
              "539                 -1   2012-05-01  2012-05-31  2012               30   \n",
              "...                ...          ...         ...   ...              ...   \n",
              "1014                -1   2021-11-01  2021-11-30  2021               30   \n",
              "946                 -1   2021-12-01  2021-12-31  2021               30   \n",
              "808                 -1   2022-01-01  2022-01-31  2022               30   \n",
              "1057                -1   2022-02-01  2022-02-28  2022               30   \n",
              "587                 -1   2022-03-01  2022-03-31  2022               30   \n",
              "\n",
              "      median_list_price  median_sale_price  median_list_ppsf  \\\n",
              "1028           182741.0           158955.0             102.0   \n",
              "1016           192252.0           159915.0             105.0   \n",
              "337            198860.0           170681.0             108.0   \n",
              "1080           198927.0           177774.0             107.0   \n",
              "539            200718.0           186050.0             108.0   \n",
              "...                 ...                ...               ...   \n",
              "1014           371843.0           382460.0             208.0   \n",
              "946            366811.0           381527.0             208.0   \n",
              "808            395800.0           376519.0             222.0   \n",
              "1057           415025.0           388527.0             231.0   \n",
              "587            426625.0           412687.0             233.0   \n",
              "\n",
              "      avg_sale_to_list         last_updated  \n",
              "1028          0.956285  2022-04-10 14:49:10  \n",
              "1016          0.958041  2022-04-10 14:49:10  \n",
              "337           0.961785  2022-04-10 14:49:10  \n",
              "1080          0.965150  2022-04-10 14:49:10  \n",
              "539           0.968565  2022-04-10 14:49:10  \n",
              "...                ...                  ...  \n",
              "1014          1.006288  2022-04-10 14:49:10  \n",
              "946           1.004854  2022-04-10 14:49:10  \n",
              "808           1.003992  2022-04-10 14:49:10  \n",
              "1057          1.012548  2022-04-10 14:49:10  \n",
              "587           1.024470  2022-04-10 14:49:10  \n",
              "\n",
              "[123 rows x 10 columns]"
            ]
          },
          "execution_count": 305,
          "metadata": {},
          "output_type": "execute_result"
        }
      ],
      "source": [
        "national_df"
      ]
    },
    {
      "cell_type": "code",
      "execution_count": 306,
      "metadata": {
        "id": "Ky0RAzcTVMt9"
      },
      "outputs": [],
      "source": [
        "#Inflation Data\n",
        "url3 = 'https://raw.githubusercontent.com/ayiply/test_repo/main/inflation_data.csv'\n",
        "inflation_df = pd.read_csv(url3)\n",
        "\n",
        "inflation_df.columns\n",
        "inflation_df = inflation_df.rename({'inflation rate' : 'inf_rate'}, axis = 'columns' )\n",
        "\n",
        "inf_dict = dict(zip(inflation_df.year, inflation_df.inf_rate))\n",
        "\n",
        "inflation_df\n",
        "base_inflation = inflation_df[inflation_df['year'] > 2011]['amount'].tolist()\n",
        "base_inflation = [i/base_inflation[0] for i in base_inflation]\n",
        "base_inflation\n",
        "year_list = list(range(2012, 2023, 1))\n",
        "year_list\n",
        "\n",
        "def total_inflation(year):\n",
        "    for i in range(12):\n",
        "        if year == year_list[i]:\n",
        "            return round(base_inflation[i], 2)\n",
        "            \n",
        "national_df = national_df.assign(base_inflation = national_df['year'].apply(total_inflation))"
      ]
    },
    {
      "cell_type": "code",
      "execution_count": 307,
      "metadata": {
        "id": "qggyWk0DY0tL"
      },
      "outputs": [],
      "source": [
        "#List for inflation rates by year in period_begin\n",
        "inflation_column = []\n",
        "\n",
        "#converting period_begins column into iterable list\n",
        "ser = pd.DataFrame(national_df, columns = ['period_begin'])\n",
        "dates = ser.squeeze()\n",
        "date_list = dates.to_list()\n",
        "\n",
        "#assigning annual inflation rate based on year found in list of dates' strings\n",
        "for key in inf_dict:\n",
        "  for entry in date_list:\n",
        "    if str(key) in entry:\n",
        "      inflation_column.append(inf_dict[key])\n",
        "  \n",
        "#appending column to national_df\n",
        "national_df['inflation_by_year'] = inflation_column"
      ]
    },
    {
      "cell_type": "code",
      "execution_count": 308,
      "metadata": {
        "colab": {
          "base_uri": "https://localhost:8080/",
          "height": 424
        },
        "id": "jOg8RsvPAT8U",
        "outputId": "3fda1118-fdc3-4c83-fa39-55bb1ebe2546"
      },
      "outputs": [
        {
          "data": {
            "text/html": [
              "<div>\n",
              "<style scoped>\n",
              "    .dataframe tbody tr th:only-of-type {\n",
              "        vertical-align: middle;\n",
              "    }\n",
              "\n",
              "    .dataframe tbody tr th {\n",
              "        vertical-align: top;\n",
              "    }\n",
              "\n",
              "    .dataframe thead th {\n",
              "        text-align: right;\n",
              "    }\n",
              "</style>\n",
              "<table border=\"1\" class=\"dataframe\">\n",
              "  <thead>\n",
              "    <tr style=\"text-align: right;\">\n",
              "      <th></th>\n",
              "      <th>property_type_id</th>\n",
              "      <th>period_begin</th>\n",
              "      <th>period_end</th>\n",
              "      <th>year</th>\n",
              "      <th>period_duration</th>\n",
              "      <th>median_list_price</th>\n",
              "      <th>median_sale_price</th>\n",
              "      <th>median_list_ppsf</th>\n",
              "      <th>avg_sale_to_list</th>\n",
              "      <th>last_updated</th>\n",
              "      <th>base_inflation</th>\n",
              "      <th>inflation_by_year</th>\n",
              "    </tr>\n",
              "  </thead>\n",
              "  <tbody>\n",
              "    <tr>\n",
              "      <th>1028</th>\n",
              "      <td>-1</td>\n",
              "      <td>2012-01-01</td>\n",
              "      <td>2012-01-31</td>\n",
              "      <td>2012</td>\n",
              "      <td>30</td>\n",
              "      <td>182741.0</td>\n",
              "      <td>158955.0</td>\n",
              "      <td>102.0</td>\n",
              "      <td>0.956285</td>\n",
              "      <td>2022-04-10 14:49:10</td>\n",
              "      <td>1.00</td>\n",
              "      <td>0.02</td>\n",
              "    </tr>\n",
              "    <tr>\n",
              "      <th>1016</th>\n",
              "      <td>-1</td>\n",
              "      <td>2012-02-01</td>\n",
              "      <td>2012-02-29</td>\n",
              "      <td>2012</td>\n",
              "      <td>30</td>\n",
              "      <td>192252.0</td>\n",
              "      <td>159915.0</td>\n",
              "      <td>105.0</td>\n",
              "      <td>0.958041</td>\n",
              "      <td>2022-04-10 14:49:10</td>\n",
              "      <td>1.00</td>\n",
              "      <td>0.02</td>\n",
              "    </tr>\n",
              "    <tr>\n",
              "      <th>337</th>\n",
              "      <td>-1</td>\n",
              "      <td>2012-03-01</td>\n",
              "      <td>2012-03-31</td>\n",
              "      <td>2012</td>\n",
              "      <td>30</td>\n",
              "      <td>198860.0</td>\n",
              "      <td>170681.0</td>\n",
              "      <td>108.0</td>\n",
              "      <td>0.961785</td>\n",
              "      <td>2022-04-10 14:49:10</td>\n",
              "      <td>1.00</td>\n",
              "      <td>0.02</td>\n",
              "    </tr>\n",
              "    <tr>\n",
              "      <th>1080</th>\n",
              "      <td>-1</td>\n",
              "      <td>2012-04-01</td>\n",
              "      <td>2012-04-30</td>\n",
              "      <td>2012</td>\n",
              "      <td>30</td>\n",
              "      <td>198927.0</td>\n",
              "      <td>177774.0</td>\n",
              "      <td>107.0</td>\n",
              "      <td>0.965150</td>\n",
              "      <td>2022-04-10 14:49:10</td>\n",
              "      <td>1.00</td>\n",
              "      <td>0.02</td>\n",
              "    </tr>\n",
              "    <tr>\n",
              "      <th>539</th>\n",
              "      <td>-1</td>\n",
              "      <td>2012-05-01</td>\n",
              "      <td>2012-05-31</td>\n",
              "      <td>2012</td>\n",
              "      <td>30</td>\n",
              "      <td>200718.0</td>\n",
              "      <td>186050.0</td>\n",
              "      <td>108.0</td>\n",
              "      <td>0.968565</td>\n",
              "      <td>2022-04-10 14:49:10</td>\n",
              "      <td>1.00</td>\n",
              "      <td>0.02</td>\n",
              "    </tr>\n",
              "    <tr>\n",
              "      <th>...</th>\n",
              "      <td>...</td>\n",
              "      <td>...</td>\n",
              "      <td>...</td>\n",
              "      <td>...</td>\n",
              "      <td>...</td>\n",
              "      <td>...</td>\n",
              "      <td>...</td>\n",
              "      <td>...</td>\n",
              "      <td>...</td>\n",
              "      <td>...</td>\n",
              "      <td>...</td>\n",
              "      <td>...</td>\n",
              "    </tr>\n",
              "    <tr>\n",
              "      <th>1014</th>\n",
              "      <td>-1</td>\n",
              "      <td>2021-11-01</td>\n",
              "      <td>2021-11-30</td>\n",
              "      <td>2021</td>\n",
              "      <td>30</td>\n",
              "      <td>371843.0</td>\n",
              "      <td>382460.0</td>\n",
              "      <td>208.0</td>\n",
              "      <td>1.006288</td>\n",
              "      <td>2022-04-10 14:49:10</td>\n",
              "      <td>1.18</td>\n",
              "      <td>0.05</td>\n",
              "    </tr>\n",
              "    <tr>\n",
              "      <th>946</th>\n",
              "      <td>-1</td>\n",
              "      <td>2021-12-01</td>\n",
              "      <td>2021-12-31</td>\n",
              "      <td>2021</td>\n",
              "      <td>30</td>\n",
              "      <td>366811.0</td>\n",
              "      <td>381527.0</td>\n",
              "      <td>208.0</td>\n",
              "      <td>1.004854</td>\n",
              "      <td>2022-04-10 14:49:10</td>\n",
              "      <td>1.18</td>\n",
              "      <td>0.05</td>\n",
              "    </tr>\n",
              "    <tr>\n",
              "      <th>808</th>\n",
              "      <td>-1</td>\n",
              "      <td>2022-01-01</td>\n",
              "      <td>2022-01-31</td>\n",
              "      <td>2022</td>\n",
              "      <td>30</td>\n",
              "      <td>395800.0</td>\n",
              "      <td>376519.0</td>\n",
              "      <td>222.0</td>\n",
              "      <td>1.003992</td>\n",
              "      <td>2022-04-10 14:49:10</td>\n",
              "      <td>1.26</td>\n",
              "      <td>0.07</td>\n",
              "    </tr>\n",
              "    <tr>\n",
              "      <th>1057</th>\n",
              "      <td>-1</td>\n",
              "      <td>2022-02-01</td>\n",
              "      <td>2022-02-28</td>\n",
              "      <td>2022</td>\n",
              "      <td>30</td>\n",
              "      <td>415025.0</td>\n",
              "      <td>388527.0</td>\n",
              "      <td>231.0</td>\n",
              "      <td>1.012548</td>\n",
              "      <td>2022-04-10 14:49:10</td>\n",
              "      <td>1.26</td>\n",
              "      <td>0.07</td>\n",
              "    </tr>\n",
              "    <tr>\n",
              "      <th>587</th>\n",
              "      <td>-1</td>\n",
              "      <td>2022-03-01</td>\n",
              "      <td>2022-03-31</td>\n",
              "      <td>2022</td>\n",
              "      <td>30</td>\n",
              "      <td>426625.0</td>\n",
              "      <td>412687.0</td>\n",
              "      <td>233.0</td>\n",
              "      <td>1.024470</td>\n",
              "      <td>2022-04-10 14:49:10</td>\n",
              "      <td>1.26</td>\n",
              "      <td>0.07</td>\n",
              "    </tr>\n",
              "  </tbody>\n",
              "</table>\n",
              "<p>123 rows × 12 columns</p>\n",
              "</div>"
            ],
            "text/plain": [
              "      property_type_id period_begin  period_end  year  period_duration  \\\n",
              "1028                -1   2012-01-01  2012-01-31  2012               30   \n",
              "1016                -1   2012-02-01  2012-02-29  2012               30   \n",
              "337                 -1   2012-03-01  2012-03-31  2012               30   \n",
              "1080                -1   2012-04-01  2012-04-30  2012               30   \n",
              "539                 -1   2012-05-01  2012-05-31  2012               30   \n",
              "...                ...          ...         ...   ...              ...   \n",
              "1014                -1   2021-11-01  2021-11-30  2021               30   \n",
              "946                 -1   2021-12-01  2021-12-31  2021               30   \n",
              "808                 -1   2022-01-01  2022-01-31  2022               30   \n",
              "1057                -1   2022-02-01  2022-02-28  2022               30   \n",
              "587                 -1   2022-03-01  2022-03-31  2022               30   \n",
              "\n",
              "      median_list_price  median_sale_price  median_list_ppsf  \\\n",
              "1028           182741.0           158955.0             102.0   \n",
              "1016           192252.0           159915.0             105.0   \n",
              "337            198860.0           170681.0             108.0   \n",
              "1080           198927.0           177774.0             107.0   \n",
              "539            200718.0           186050.0             108.0   \n",
              "...                 ...                ...               ...   \n",
              "1014           371843.0           382460.0             208.0   \n",
              "946            366811.0           381527.0             208.0   \n",
              "808            395800.0           376519.0             222.0   \n",
              "1057           415025.0           388527.0             231.0   \n",
              "587            426625.0           412687.0             233.0   \n",
              "\n",
              "      avg_sale_to_list         last_updated  base_inflation  inflation_by_year  \n",
              "1028          0.956285  2022-04-10 14:49:10            1.00               0.02  \n",
              "1016          0.958041  2022-04-10 14:49:10            1.00               0.02  \n",
              "337           0.961785  2022-04-10 14:49:10            1.00               0.02  \n",
              "1080          0.965150  2022-04-10 14:49:10            1.00               0.02  \n",
              "539           0.968565  2022-04-10 14:49:10            1.00               0.02  \n",
              "...                ...                  ...             ...                ...  \n",
              "1014          1.006288  2022-04-10 14:49:10            1.18               0.05  \n",
              "946           1.004854  2022-04-10 14:49:10            1.18               0.05  \n",
              "808           1.003992  2022-04-10 14:49:10            1.26               0.07  \n",
              "1057          1.012548  2022-04-10 14:49:10            1.26               0.07  \n",
              "587           1.024470  2022-04-10 14:49:10            1.26               0.07  \n",
              "\n",
              "[123 rows x 12 columns]"
            ]
          },
          "execution_count": 308,
          "metadata": {},
          "output_type": "execute_result"
        }
      ],
      "source": [
        "national_df"
      ]
    },
    {
      "cell_type": "code",
      "execution_count": 309,
      "metadata": {},
      "outputs": [
        {
          "data": {
            "text/html": [
              "<div>\n",
              "<style scoped>\n",
              "    .dataframe tbody tr th:only-of-type {\n",
              "        vertical-align: middle;\n",
              "    }\n",
              "\n",
              "    .dataframe tbody tr th {\n",
              "        vertical-align: top;\n",
              "    }\n",
              "\n",
              "    .dataframe thead th {\n",
              "        text-align: right;\n",
              "    }\n",
              "</style>\n",
              "<table border=\"1\" class=\"dataframe\">\n",
              "  <thead>\n",
              "    <tr style=\"text-align: right;\">\n",
              "      <th></th>\n",
              "      <th>property_type_id</th>\n",
              "      <th>period_begin</th>\n",
              "      <th>period_end</th>\n",
              "      <th>year</th>\n",
              "      <th>period_duration</th>\n",
              "      <th>median_list_price</th>\n",
              "      <th>median_sale_price</th>\n",
              "      <th>median_list_ppsf</th>\n",
              "      <th>avg_sale_to_list</th>\n",
              "      <th>last_updated</th>\n",
              "      <th>base_inflation</th>\n",
              "      <th>inflation_by_year</th>\n",
              "      <th>adjusted_median_list_price</th>\n",
              "      <th>adjusted_median_sale_price</th>\n",
              "      <th>adjusted_median_list_ppsf</th>\n",
              "    </tr>\n",
              "  </thead>\n",
              "  <tbody>\n",
              "    <tr>\n",
              "      <th>1028</th>\n",
              "      <td>-1</td>\n",
              "      <td>2012-01-01</td>\n",
              "      <td>2012-01-31</td>\n",
              "      <td>2012</td>\n",
              "      <td>30</td>\n",
              "      <td>182741.0</td>\n",
              "      <td>158955.0</td>\n",
              "      <td>102.0</td>\n",
              "      <td>0.956285</td>\n",
              "      <td>2022-04-10 14:49:10</td>\n",
              "      <td>1.0</td>\n",
              "      <td>0.02</td>\n",
              "      <td>182741.0</td>\n",
              "      <td>158955.0</td>\n",
              "      <td>102.0</td>\n",
              "    </tr>\n",
              "    <tr>\n",
              "      <th>1016</th>\n",
              "      <td>-1</td>\n",
              "      <td>2012-02-01</td>\n",
              "      <td>2012-02-29</td>\n",
              "      <td>2012</td>\n",
              "      <td>30</td>\n",
              "      <td>192252.0</td>\n",
              "      <td>159915.0</td>\n",
              "      <td>105.0</td>\n",
              "      <td>0.958041</td>\n",
              "      <td>2022-04-10 14:49:10</td>\n",
              "      <td>1.0</td>\n",
              "      <td>0.02</td>\n",
              "      <td>192252.0</td>\n",
              "      <td>159915.0</td>\n",
              "      <td>105.0</td>\n",
              "    </tr>\n",
              "    <tr>\n",
              "      <th>337</th>\n",
              "      <td>-1</td>\n",
              "      <td>2012-03-01</td>\n",
              "      <td>2012-03-31</td>\n",
              "      <td>2012</td>\n",
              "      <td>30</td>\n",
              "      <td>198860.0</td>\n",
              "      <td>170681.0</td>\n",
              "      <td>108.0</td>\n",
              "      <td>0.961785</td>\n",
              "      <td>2022-04-10 14:49:10</td>\n",
              "      <td>1.0</td>\n",
              "      <td>0.02</td>\n",
              "      <td>198860.0</td>\n",
              "      <td>170681.0</td>\n",
              "      <td>108.0</td>\n",
              "    </tr>\n",
              "    <tr>\n",
              "      <th>1080</th>\n",
              "      <td>-1</td>\n",
              "      <td>2012-04-01</td>\n",
              "      <td>2012-04-30</td>\n",
              "      <td>2012</td>\n",
              "      <td>30</td>\n",
              "      <td>198927.0</td>\n",
              "      <td>177774.0</td>\n",
              "      <td>107.0</td>\n",
              "      <td>0.965150</td>\n",
              "      <td>2022-04-10 14:49:10</td>\n",
              "      <td>1.0</td>\n",
              "      <td>0.02</td>\n",
              "      <td>198927.0</td>\n",
              "      <td>177774.0</td>\n",
              "      <td>107.0</td>\n",
              "    </tr>\n",
              "    <tr>\n",
              "      <th>539</th>\n",
              "      <td>-1</td>\n",
              "      <td>2012-05-01</td>\n",
              "      <td>2012-05-31</td>\n",
              "      <td>2012</td>\n",
              "      <td>30</td>\n",
              "      <td>200718.0</td>\n",
              "      <td>186050.0</td>\n",
              "      <td>108.0</td>\n",
              "      <td>0.968565</td>\n",
              "      <td>2022-04-10 14:49:10</td>\n",
              "      <td>1.0</td>\n",
              "      <td>0.02</td>\n",
              "      <td>200718.0</td>\n",
              "      <td>186050.0</td>\n",
              "      <td>108.0</td>\n",
              "    </tr>\n",
              "  </tbody>\n",
              "</table>\n",
              "</div>"
            ],
            "text/plain": [
              "      property_type_id period_begin  period_end  year  period_duration  \\\n",
              "1028                -1   2012-01-01  2012-01-31  2012               30   \n",
              "1016                -1   2012-02-01  2012-02-29  2012               30   \n",
              "337                 -1   2012-03-01  2012-03-31  2012               30   \n",
              "1080                -1   2012-04-01  2012-04-30  2012               30   \n",
              "539                 -1   2012-05-01  2012-05-31  2012               30   \n",
              "\n",
              "      median_list_price  median_sale_price  median_list_ppsf  \\\n",
              "1028           182741.0           158955.0             102.0   \n",
              "1016           192252.0           159915.0             105.0   \n",
              "337            198860.0           170681.0             108.0   \n",
              "1080           198927.0           177774.0             107.0   \n",
              "539            200718.0           186050.0             108.0   \n",
              "\n",
              "      avg_sale_to_list         last_updated  base_inflation  \\\n",
              "1028          0.956285  2022-04-10 14:49:10             1.0   \n",
              "1016          0.958041  2022-04-10 14:49:10             1.0   \n",
              "337           0.961785  2022-04-10 14:49:10             1.0   \n",
              "1080          0.965150  2022-04-10 14:49:10             1.0   \n",
              "539           0.968565  2022-04-10 14:49:10             1.0   \n",
              "\n",
              "      inflation_by_year  adjusted_median_list_price  \\\n",
              "1028               0.02                    182741.0   \n",
              "1016               0.02                    192252.0   \n",
              "337                0.02                    198860.0   \n",
              "1080               0.02                    198927.0   \n",
              "539                0.02                    200718.0   \n",
              "\n",
              "      adjusted_median_sale_price  adjusted_median_list_ppsf  \n",
              "1028                    158955.0                      102.0  \n",
              "1016                    159915.0                      105.0  \n",
              "337                     170681.0                      108.0  \n",
              "1080                    177774.0                      107.0  \n",
              "539                     186050.0                      108.0  "
            ]
          },
          "execution_count": 309,
          "metadata": {},
          "output_type": "execute_result"
        }
      ],
      "source": [
        "national_df = national_df.assign(adjusted_median_list_price = national_df['median_list_price'] / national_df['base_inflation'])\n",
        "national_df = national_df.assign(adjusted_median_sale_price = national_df['median_sale_price'] / national_df['base_inflation'])\n",
        "national_df = national_df.assign(adjusted_median_list_ppsf = national_df['median_list_ppsf'] / national_df['base_inflation'])\n",
        "national_df.head()"
      ]
    },
    {
      "cell_type": "markdown",
      "metadata": {
        "id": "Qw845-CDCWIp"
      },
      "source": [
        "# **Notes for the team:** \n",
        "So the national_df DataFrame contains aggregate values for all residential homes across the US. Potentially if we wanted to look at specific states (like California, Washington, etc) there are more data for location specific metrics which we can further investigate. "
      ]
    },
    {
      "cell_type": "code",
      "execution_count": 310,
      "metadata": {
        "id": "UHght2PGHocA"
      },
      "outputs": [],
      "source": [
        "X = national_df['median_list_price']\n",
        "y = national_df['median_sale_price']\n",
        "\n",
        "X_train, X_test, y_train, y_test = train_test_split(\n",
        "     X, y, test_size=0.33, random_state=42)\n",
        "     \n"
      ]
    },
    {
      "cell_type": "code",
      "execution_count": 311,
      "metadata": {
        "colab": {
          "base_uri": "https://localhost:8080/"
        },
        "id": "56VfPk4EIxY8",
        "outputId": "1e70bd4e-12d2-4367-a17a-99d832977738"
      },
      "outputs": [
        {
          "name": "stdout",
          "output_type": "stream",
          "text": [
            "Mean squared error: 141573677.73\n",
            "Coefficient of determination: 0.96\n"
          ]
        }
      ],
      "source": [
        "regr = linear_model.LinearRegression()\n",
        "regr.fit(np.array(X_train).reshape(-1,1), y_train)\n",
        "housing_pred = regr.predict(np.array(X_test).reshape(-1,1))\n",
        "print(\"Mean squared error: %.2f\" % mean_squared_error(y_test, housing_pred))\n",
        "print(\"Coefficient of determination: %.2f\" % r2_score(y_test, housing_pred))"
      ]
    },
    {
      "cell_type": "code",
      "execution_count": 312,
      "metadata": {
        "colab": {
          "base_uri": "https://localhost:8080/",
          "height": 283
        },
        "id": "CCMWz_i3dNs5",
        "outputId": "669e050a-be40-4e58-b731-79eac69e1f18"
      },
      "outputs": [
        {
          "data": {
            "text/plain": [
              "[<matplotlib.lines.Line2D at 0x1fb66eb7790>]"
            ]
          },
          "execution_count": 312,
          "metadata": {},
          "output_type": "execute_result"
        },
        {
          "data": {
            "image/png": "[encoded data removed]",
            "text/plain": [
              "<Figure size 432x288 with 1 Axes>"
            ]
          },
          "metadata": {
            "needs_background": "light"
          },
          "output_type": "display_data"
        }
      ],
      "source": [
        "X_test_norm = X_test.apply(lambda x: x/100000)\n",
        "housing_pred_norm = np.array([(pred / 100000) for pred in housing_pred])\n",
        "\n",
        "plt.scatter(X_test_norm, housing_pred_norm, color=\"black\")\n",
        "plt.plot(X_test_norm, housing_pred_norm, color=\"blue\", linewidth=3)"
      ]
    },
    {
      "cell_type": "code",
      "execution_count": 313,
      "metadata": {
        "id": "qW5djPOKfInL"
      },
      "outputs": [
        {
          "data": {
            "text/plain": [
              "0.9556210302546702"
            ]
          },
          "execution_count": 313,
          "metadata": {},
          "output_type": "execute_result"
        }
      ],
      "source": [
        "regr.score(np.array(X_test).reshape(-1,1), y_test)"
      ]
    },
    {
      "cell_type": "code",
      "execution_count": 314,
      "metadata": {},
      "outputs": [
        {
          "data": {
            "text/plain": [
              "<AxesSubplot:xlabel='adjusted_median_list_price', ylabel='adjusted_median_sale_price'>"
            ]
          },
          "execution_count": 314,
          "metadata": {},
          "output_type": "execute_result"
        },
        {
          "data": {
            "image/png": "[encoded data removed]",
            "text/plain": [
              "<Figure size 432x288 with 1 Axes>"
            ]
          },
          "metadata": {
            "needs_background": "light"
          },
          "output_type": "display_data"
        }
      ],
      "source": [
        "sns.regplot(x = \"median_list_price\", y = \"median_sale_price\", data = national_df, fit_reg=False)\n",
        "sns.regplot(x = \"adjusted_median_list_price\", y = \"adjusted_median_sale_price\", data = test, fit_reg=False)"
      ]
    },
    {
      "cell_type": "code",
      "execution_count": 315,
      "metadata": {},
      "outputs": [
        {
          "data": {
            "text/plain": [
              "<AxesSubplot:xlabel='year', ylabel='adjusted_median_list_ppsf'>"
            ]
          },
          "execution_count": 315,
          "metadata": {},
          "output_type": "execute_result"
        },
        {
          "data": {
            "image/png": "[encoded data removed]",
            "text/plain": [
              "<Figure size 432x288 with 1 Axes>"
            ]
          },
          "metadata": {
            "needs_background": "light"
          },
          "output_type": "display_data"
        }
      ],
      "source": [
        "sns.regplot(x = \"year\", y = \"median_list_ppsf\", data = national_df, fit_reg=False)\n",
        "sns.regplot(x = \"year\", y = \"adjusted_median_list_ppsf\", data = test, fit_reg=False)"
      ]
    },
    {
      "cell_type": "code",
      "execution_count": 335,
      "metadata": {},
      "outputs": [],
      "source": [
        "X = national_df['year']\n",
        "y = national_df['adjusted_median_list_ppsf']\n",
        "\n",
        "X_train, X_test, y_train, y_test = train_test_split(\n",
        "     X, y, test_size=0.33, random_state=42)\n",
        "     \n",
        "\n",
        "sorted_index = np.argsort(X_train)\n",
        "X_train = X_train.to_numpy()[sorted_index]\n",
        "y_train = y_train.to_numpy()[sorted_index]\n",
        "\n",
        "sorted_index = np.argsort(X_test)\n",
        "X_test = X_test.to_numpy()[sorted_index]\n",
        "y_test = y_test.to_numpy()[sorted_index]\n",
        "\n",
        "degrees = [1, 2, 3, 6, 10, 20]\n",
        "\n",
        "y_pred = np.zeros((len(X_train), len(degrees)))\n",
        "\n",
        "for i, degree in enumerate(degrees):\n",
        "    \n",
        "    # make pipeline: create features, then feed them to linear_reg model\n",
        "    model = make_pipeline(PolynomialFeatures(degree), LinearRegression())\n",
        "    model.fit(np.array(X_train).reshape(-1,1), y_train)\n",
        "    \n",
        "    # predict on test and train data\n",
        "    # store the predictions of each degree in the corresponding column\n",
        "    y_pred[:, i] = model.predict(np.array(X_train).reshape(-1,1))\n",
        "    "
      ]
    },
    {
      "cell_type": "code",
      "execution_count": 336,
      "metadata": {},
      "outputs": [
        {
          "data": {
            "image/png": "[encoded data removed]",
            "text/plain": [
              "<Figure size 1152x576 with 1 Axes>"
            ]
          },
          "metadata": {
            "needs_background": "light"
          },
          "output_type": "display_data"
        }
      ],
      "source": [
        "plt.figure(figsize=(16, 8))\n",
        "\n",
        "# train data\n",
        "plt.subplot(121)\n",
        "plt.scatter(X_train, y_train)\n",
        "plt.yscale('log')\n",
        "plt.title(\"Train data\")\n",
        "for i, degree in enumerate(degrees):    \n",
        "    plt.plot(X_train, y_pred[:, i], label=str(degree))\n",
        "    plt.legend(loc='upper left')"
      ]
    },
    {
      "cell_type": "code",
      "execution_count": 337,
      "metadata": {},
      "outputs": [
        {
          "name": "stdout",
          "output_type": "stream",
          "text": [
            "R-squared values: \n",
            "\n",
            "Polynomial degree 1: score=0.94\n",
            "Polynomial degree 2: score=0.952\n",
            "Polynomial degree 3: score=0.968\n",
            "Polynomial degree 6: score=0.968\n",
            "Polynomial degree 10: score=0.968\n",
            "Polynomial degree 20: score=0.968\n"
          ]
        }
      ],
      "source": [
        "print(\"R-squared values: \\n\")\n",
        "\n",
        "for i, degree in enumerate(degrees):\n",
        "    train_r2 = round(sk.metrics.r2_score(y_train, y_pred[:, i]), 3)\n",
        "    print(\"Polynomial degree {0}: score={1}\".format(degree, train_r2)) \n",
        "                                                                        "
      ]
    },
    {
      "cell_type": "code",
      "execution_count": null,
      "metadata": {},
      "outputs": [],
      "source": []
    }
  ],
  "metadata": {
    "colab": {
      "collapsed_sections": [],
      "name": "Copy of COGS 118A Project.ipynb",
      "provenance": []
    },
    "interpreter": {
      "hash": "f0fe6b32e7b9c2992518221d3b0c2b214a79cc1f29307d29891c6885afb487cd"
    },
    "kernelspec": {
      "display_name": "Python 3.9.2 64-bit",
      "language": "python",
      "name": "python3"
    },
    "language_info": {
      "codemirror_mode": {
        "name": "ipython",
        "version": 3
      },
      "file_extension": ".py",
      "mimetype": "text/x-python",
      "name": "python",
      "nbconvert_exporter": "python",
      "pygments_lexer": "ipython3",
      "version": "3.9.2"
    }
  },
  "nbformat": 4,
  "nbformat_minor": 0
}
