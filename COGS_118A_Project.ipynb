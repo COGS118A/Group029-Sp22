{
 "cells": [
  {
   "cell_type": "code",
   "execution_count": 1,
   "metadata": {
    "id": "ywUPExlg5UUc"
   },
   "outputs": [],
   "source": [
    "#Importing Packages\n",
    "\n",
    "#Data\n",
    "import pandas as pd\n",
    "import numpy as np\n",
    "\n",
    "#ML Frameworks\n",
    "#scikit learn - library for predictions\n",
    "#statsmodels - library for models\n",
    "import sklearn as sk\n",
    "from sklearn.pipeline import make_pipeline\n",
    "from sklearn.preprocessing import PolynomialFeatures\n",
    "from sklearn.linear_model import LinearRegression\n",
    "from sklearn.model_selection import train_test_split\n",
    "from sklearn import  linear_model\n",
    "from sklearn.metrics import mean_squared_error, r2_score\n",
    "import statsmodels as sm\n",
    "from sklearn.model_selection import cross_val_score\n",
    "from sklearn.model_selection import KFold\n",
    "\n",
    "#Data Visualization\n",
    "import seaborn as sns\n",
    "import matplotlib.pyplot as plt\n"
   ]
  },
  {
   "cell_type": "markdown",
   "metadata": {
    "id": "ti1I6v2rCK2f"
   },
   "source": [
    "## Understanding Key Drivers of Price\n",
    "\n",
    "Real estate prices can be seperated effectively in to two distinct categories; **county and metro**. As the location itself acts as a key distinction between the average type, size and price of the property. \n",
    "\n",
    "To better understand the market demand, we want to examine the metrics that indicate the prices at which properties are being listed/sold in each particular region. \n",
    "\n",
    "The metrics that we want to look at are:\n",
    ">\n",
    " * 'property_type_id': id number indicating which type of property (i.e All Residences, Single Family Homes, Townhouses etc.)\n",
    " * 'year': year the observation\n",
    " * 'period_begin': start date\n",
    " * 'period_end': end date\n",
    " * 'period_duration': duration of the data record\n",
    " * 'median_sale_price': median sale price of homes sold\n",
    " * 'adjusted_median_sale_price': median sale price of homes sold adjusted based on inflation\n",
    " * 'median_list_price': median list price of homes\n",
    " * 'adjusted_median_list_price': median list price of homes sold adjusted based on inflation\n",
    " * 'avg_sale_to_list': ratio comparing the sale price and list price\n",
    " * 'median_sale_ppsf': median price per square foot of homes sold\n",
    " * 'adjusted_median_sale_ppsf': median price per square foot of homes sold adjusted by inflation\n",
    " * 'last_updated' : retreiving the latest updated data\n",
    " * 'average annual inflation' : an important factor when the comes to the valuation of USD when purchasing property.\n",
    "\n"
   ]
  },
  {
   "cell_type": "code",
   "execution_count": 2,
   "metadata": {
    "id": "Pu0rCfdcI2jp"
   },
   "outputs": [],
   "source": [
    "#Data Wrangling from Redfin\n",
    "url2 = 'https://raw.githubusercontent.com/ayiply/test_repo/main/us_national_market_tracker.tsv000'\n",
    "national_df = pd.read_csv(url2, sep = \"\\t\")\n"
   ]
  },
  {
   "cell_type": "code",
   "execution_count": 3,
   "metadata": {
    "colab": {
     "base_uri": "https://localhost:8080/",
     "height": 805
    },
    "id": "JK4zWF_VI88K",
    "outputId": "9d1215d9-c4b9-4772-bf0a-96e1eaf6bb91"
   },
   "outputs": [
    {
     "data": {
      "text/html": [
       "<div>\n",
       "<style scoped>\n",
       "    .dataframe tbody tr th:only-of-type {\n",
       "        vertical-align: middle;\n",
       "    }\n",
       "\n",
       "    .dataframe tbody tr th {\n",
       "        vertical-align: top;\n",
       "    }\n",
       "\n",
       "    .dataframe thead th {\n",
       "        text-align: right;\n",
       "    }\n",
       "</style>\n",
       "<table border=\"1\" class=\"dataframe\">\n",
       "  <thead>\n",
       "    <tr style=\"text-align: right;\">\n",
       "      <th></th>\n",
       "      <th>period_begin</th>\n",
       "      <th>period_end</th>\n",
       "      <th>period_duration</th>\n",
       "      <th>region_type</th>\n",
       "      <th>region_type_id</th>\n",
       "      <th>table_id</th>\n",
       "      <th>is_seasonally_adjusted</th>\n",
       "      <th>region</th>\n",
       "      <th>city</th>\n",
       "      <th>state</th>\n",
       "      <th>...</th>\n",
       "      <th>sold_above_list_yoy</th>\n",
       "      <th>price_drops</th>\n",
       "      <th>price_drops_mom</th>\n",
       "      <th>price_drops_yoy</th>\n",
       "      <th>off_market_in_two_weeks</th>\n",
       "      <th>off_market_in_two_weeks_mom</th>\n",
       "      <th>off_market_in_two_weeks_yoy</th>\n",
       "      <th>parent_metro_region</th>\n",
       "      <th>parent_metro_region_metro_code</th>\n",
       "      <th>last_updated</th>\n",
       "    </tr>\n",
       "  </thead>\n",
       "  <tbody>\n",
       "    <tr>\n",
       "      <th>0</th>\n",
       "      <td>2018-10-01</td>\n",
       "      <td>2018-10-31</td>\n",
       "      <td>30</td>\n",
       "      <td>national</td>\n",
       "      <td>11</td>\n",
       "      <td>1400</td>\n",
       "      <td>f</td>\n",
       "      <td>National</td>\n",
       "      <td>National</td>\n",
       "      <td>U.S.</td>\n",
       "      <td>...</td>\n",
       "      <td>-0.010469</td>\n",
       "      <td>0.182812</td>\n",
       "      <td>0.015493</td>\n",
       "      <td>0.042999</td>\n",
       "      <td>0.316318</td>\n",
       "      <td>-0.024323</td>\n",
       "      <td>-0.032624</td>\n",
       "      <td>NaN</td>\n",
       "      <td>NaN</td>\n",
       "      <td>2022-04-10 14:49:10</td>\n",
       "    </tr>\n",
       "    <tr>\n",
       "      <th>1</th>\n",
       "      <td>2020-10-01</td>\n",
       "      <td>2020-10-31</td>\n",
       "      <td>30</td>\n",
       "      <td>national</td>\n",
       "      <td>11</td>\n",
       "      <td>1400</td>\n",
       "      <td>f</td>\n",
       "      <td>National</td>\n",
       "      <td>National</td>\n",
       "      <td>U.S.</td>\n",
       "      <td>...</td>\n",
       "      <td>0.054528</td>\n",
       "      <td>0.134954</td>\n",
       "      <td>0.005643</td>\n",
       "      <td>-0.013543</td>\n",
       "      <td>0.358236</td>\n",
       "      <td>-0.015613</td>\n",
       "      <td>0.038912</td>\n",
       "      <td>NaN</td>\n",
       "      <td>NaN</td>\n",
       "      <td>2022-04-10 14:49:10</td>\n",
       "    </tr>\n",
       "    <tr>\n",
       "      <th>2</th>\n",
       "      <td>2020-01-01</td>\n",
       "      <td>2020-01-31</td>\n",
       "      <td>30</td>\n",
       "      <td>national</td>\n",
       "      <td>11</td>\n",
       "      <td>1400</td>\n",
       "      <td>f</td>\n",
       "      <td>National</td>\n",
       "      <td>National</td>\n",
       "      <td>U.S.</td>\n",
       "      <td>...</td>\n",
       "      <td>-0.002394</td>\n",
       "      <td>0.108246</td>\n",
       "      <td>0.027181</td>\n",
       "      <td>-0.012040</td>\n",
       "      <td>0.381831</td>\n",
       "      <td>0.139909</td>\n",
       "      <td>0.009160</td>\n",
       "      <td>NaN</td>\n",
       "      <td>NaN</td>\n",
       "      <td>2022-04-10 14:49:10</td>\n",
       "    </tr>\n",
       "    <tr>\n",
       "      <th>3</th>\n",
       "      <td>2012-06-01</td>\n",
       "      <td>2012-06-30</td>\n",
       "      <td>30</td>\n",
       "      <td>national</td>\n",
       "      <td>11</td>\n",
       "      <td>1400</td>\n",
       "      <td>f</td>\n",
       "      <td>National</td>\n",
       "      <td>National</td>\n",
       "      <td>U.S.</td>\n",
       "      <td>...</td>\n",
       "      <td>0.035716</td>\n",
       "      <td>0.059756</td>\n",
       "      <td>0.000872</td>\n",
       "      <td>-0.021419</td>\n",
       "      <td>0.292725</td>\n",
       "      <td>-0.015050</td>\n",
       "      <td>0.062571</td>\n",
       "      <td>NaN</td>\n",
       "      <td>NaN</td>\n",
       "      <td>2022-04-10 14:49:10</td>\n",
       "    </tr>\n",
       "    <tr>\n",
       "      <th>4</th>\n",
       "      <td>2017-03-01</td>\n",
       "      <td>2017-03-31</td>\n",
       "      <td>30</td>\n",
       "      <td>national</td>\n",
       "      <td>11</td>\n",
       "      <td>1400</td>\n",
       "      <td>f</td>\n",
       "      <td>National</td>\n",
       "      <td>National</td>\n",
       "      <td>U.S.</td>\n",
       "      <td>...</td>\n",
       "      <td>0.013701</td>\n",
       "      <td>0.108722</td>\n",
       "      <td>0.007264</td>\n",
       "      <td>-0.004099</td>\n",
       "      <td>0.466676</td>\n",
       "      <td>0.003419</td>\n",
       "      <td>0.022455</td>\n",
       "      <td>NaN</td>\n",
       "      <td>NaN</td>\n",
       "      <td>2022-04-10 14:49:10</td>\n",
       "    </tr>\n",
       "  </tbody>\n",
       "</table>\n",
       "<p>5 rows × 58 columns</p>\n",
       "</div>"
      ],
      "text/plain": [
       "  period_begin  period_end  period_duration region_type  region_type_id  \\\n",
       "0   2018-10-01  2018-10-31               30    national              11   \n",
       "1   2020-10-01  2020-10-31               30    national              11   \n",
       "2   2020-01-01  2020-01-31               30    national              11   \n",
       "3   2012-06-01  2012-06-30               30    national              11   \n",
       "4   2017-03-01  2017-03-31               30    national              11   \n",
       "\n",
       "   table_id is_seasonally_adjusted     region      city state  ...  \\\n",
       "0      1400                      f   National  National  U.S.  ...   \n",
       "1      1400                      f   National  National  U.S.  ...   \n",
       "2      1400                      f   National  National  U.S.  ...   \n",
       "3      1400                      f   National  National  U.S.  ...   \n",
       "4      1400                      f   National  National  U.S.  ...   \n",
       "\n",
       "  sold_above_list_yoy price_drops  price_drops_mom  price_drops_yoy  \\\n",
       "0           -0.010469    0.182812         0.015493         0.042999   \n",
       "1            0.054528    0.134954         0.005643        -0.013543   \n",
       "2           -0.002394    0.108246         0.027181        -0.012040   \n",
       "3            0.035716    0.059756         0.000872        -0.021419   \n",
       "4            0.013701    0.108722         0.007264        -0.004099   \n",
       "\n",
       "   off_market_in_two_weeks  off_market_in_two_weeks_mom  \\\n",
       "0                 0.316318                    -0.024323   \n",
       "1                 0.358236                    -0.015613   \n",
       "2                 0.381831                     0.139909   \n",
       "3                 0.292725                    -0.015050   \n",
       "4                 0.466676                     0.003419   \n",
       "\n",
       "   off_market_in_two_weeks_yoy  parent_metro_region  \\\n",
       "0                    -0.032624                  NaN   \n",
       "1                     0.038912                  NaN   \n",
       "2                     0.009160                  NaN   \n",
       "3                     0.062571                  NaN   \n",
       "4                     0.022455                  NaN   \n",
       "\n",
       "   parent_metro_region_metro_code         last_updated  \n",
       "0                             NaN  2022-04-10 14:49:10  \n",
       "1                             NaN  2022-04-10 14:49:10  \n",
       "2                             NaN  2022-04-10 14:49:10  \n",
       "3                             NaN  2022-04-10 14:49:10  \n",
       "4                             NaN  2022-04-10 14:49:10  \n",
       "\n",
       "[5 rows x 58 columns]"
      ]
     },
     "execution_count": 3,
     "metadata": {},
     "output_type": "execute_result"
    }
   ],
   "source": [
    "national_df.head()"
   ]
  },
  {
   "cell_type": "code",
   "execution_count": 4,
   "metadata": {
    "colab": {
     "base_uri": "https://localhost:8080/"
    },
    "id": "rpXKMHn6Kmvs",
    "outputId": "078e9038-6d0c-4f54-88b2-a98cf9c6edf7"
   },
   "outputs": [
    {
     "data": {
      "text/plain": [
       "Index(['period_begin', 'period_end', 'period_duration', 'region_type',\n",
       "       'region_type_id', 'table_id', 'is_seasonally_adjusted', 'region',\n",
       "       'city', 'state', 'state_code', 'property_type', 'property_type_id',\n",
       "       'median_sale_price', 'median_sale_price_mom', 'median_sale_price_yoy',\n",
       "       'median_list_price', 'median_list_price_mom', 'median_list_price_yoy',\n",
       "       'median_ppsf', 'median_ppsf_mom', 'median_ppsf_yoy', 'median_list_ppsf',\n",
       "       'median_list_ppsf_mom', 'median_list_ppsf_yoy', 'homes_sold',\n",
       "       'homes_sold_mom', 'homes_sold_yoy', 'pending_sales',\n",
       "       'pending_sales_mom', 'pending_sales_yoy', 'new_listings',\n",
       "       'new_listings_mom', 'new_listings_yoy', 'inventory', 'inventory_mom',\n",
       "       'inventory_yoy', 'months_of_supply', 'months_of_supply_mom',\n",
       "       'months_of_supply_yoy', 'median_dom', 'median_dom_mom',\n",
       "       'median_dom_yoy', 'avg_sale_to_list', 'avg_sale_to_list_mom',\n",
       "       'avg_sale_to_list_yoy', 'sold_above_list', 'sold_above_list_mom',\n",
       "       'sold_above_list_yoy', 'price_drops', 'price_drops_mom',\n",
       "       'price_drops_yoy', 'off_market_in_two_weeks',\n",
       "       'off_market_in_two_weeks_mom', 'off_market_in_two_weeks_yoy',\n",
       "       'parent_metro_region', 'parent_metro_region_metro_code',\n",
       "       'last_updated'],\n",
       "      dtype='object')"
      ]
     },
     "execution_count": 4,
     "metadata": {},
     "output_type": "execute_result"
    }
   ],
   "source": [
    "national_df.columns"
   ]
  },
  {
   "cell_type": "markdown",
   "metadata": {},
   "source": [
    "### Introduce year column to each observation"
   ]
  },
  {
   "cell_type": "code",
   "execution_count": 5,
   "metadata": {},
   "outputs": [],
   "source": [
    "def year(str):\n",
    "    return int(str[:4])\n",
    "\n",
    "national_df = national_df.assign(year = national_df['period_begin'].apply(year))"
   ]
  },
  {
   "cell_type": "markdown",
   "metadata": {},
   "source": [
    "### Filter necessary informaton"
   ]
  },
  {
   "cell_type": "code",
   "execution_count": 6,
   "metadata": {
    "id": "ceywoOp6Kwp-"
   },
   "outputs": [],
   "source": [
    "national_df = national_df[['property_type_id','period_begin', 'period_end', 'year', 'period_duration' ,'median_list_price','median_sale_price', 'median_list_ppsf', 'avg_sale_to_list', 'last_updated']]"
   ]
  },
  {
   "cell_type": "code",
   "execution_count": 7,
   "metadata": {
    "colab": {
     "base_uri": "https://localhost:8080/",
     "height": 35
    },
    "id": "Qj0b8ZezJA2K",
    "outputId": "755bfe98-51ef-49f1-aa73-bdc570fc286c"
   },
   "outputs": [
    {
     "data": {
      "text/plain": [
       "'2022-04-11 00:00:00'"
      ]
     },
     "execution_count": 7,
     "metadata": {},
     "output_type": "execute_result"
    }
   ],
   "source": [
    "national_df['last_updated'].value_counts().index.tolist()[-1]"
   ]
  },
  {
   "cell_type": "code",
   "execution_count": 8,
   "metadata": {
    "colab": {
     "base_uri": "https://localhost:8080/"
    },
    "id": "AVqOUB8oYiVl",
    "outputId": "6a36b878-f9d9-4ca0-bd9a-fe6cd39ba397"
   },
   "outputs": [
    {
     "data": {
      "text/plain": [
       "2022-04-10 14:49:10    738\n",
       "2022-04-11 00:00:00    615\n",
       "Name: last_updated, dtype: int64"
      ]
     },
     "execution_count": 8,
     "metadata": {},
     "output_type": "execute_result"
    }
   ],
   "source": [
    "national_df['last_updated'].value_counts()"
   ]
  },
  {
   "cell_type": "code",
   "execution_count": 9,
   "metadata": {
    "id": "ekCyJUgvLODK"
   },
   "outputs": [
    {
     "data": {
      "text/html": [
       "<div>\n",
       "<style scoped>\n",
       "    .dataframe tbody tr th:only-of-type {\n",
       "        vertical-align: middle;\n",
       "    }\n",
       "\n",
       "    .dataframe tbody tr th {\n",
       "        vertical-align: top;\n",
       "    }\n",
       "\n",
       "    .dataframe thead th {\n",
       "        text-align: right;\n",
       "    }\n",
       "</style>\n",
       "<table border=\"1\" class=\"dataframe\">\n",
       "  <thead>\n",
       "    <tr style=\"text-align: right;\">\n",
       "      <th></th>\n",
       "      <th>property_type_id</th>\n",
       "      <th>period_begin</th>\n",
       "      <th>period_end</th>\n",
       "      <th>year</th>\n",
       "      <th>period_duration</th>\n",
       "      <th>median_list_price</th>\n",
       "      <th>median_sale_price</th>\n",
       "      <th>median_list_ppsf</th>\n",
       "      <th>avg_sale_to_list</th>\n",
       "      <th>last_updated</th>\n",
       "    </tr>\n",
       "  </thead>\n",
       "  <tbody>\n",
       "    <tr>\n",
       "      <th>1028</th>\n",
       "      <td>-1</td>\n",
       "      <td>2012-01-01</td>\n",
       "      <td>2012-01-31</td>\n",
       "      <td>2012</td>\n",
       "      <td>30</td>\n",
       "      <td>182741.0</td>\n",
       "      <td>158955.0</td>\n",
       "      <td>102.0</td>\n",
       "      <td>0.956285</td>\n",
       "      <td>2022-04-10 14:49:10</td>\n",
       "    </tr>\n",
       "    <tr>\n",
       "      <th>1016</th>\n",
       "      <td>-1</td>\n",
       "      <td>2012-02-01</td>\n",
       "      <td>2012-02-29</td>\n",
       "      <td>2012</td>\n",
       "      <td>30</td>\n",
       "      <td>192252.0</td>\n",
       "      <td>159915.0</td>\n",
       "      <td>105.0</td>\n",
       "      <td>0.958041</td>\n",
       "      <td>2022-04-10 14:49:10</td>\n",
       "    </tr>\n",
       "    <tr>\n",
       "      <th>337</th>\n",
       "      <td>-1</td>\n",
       "      <td>2012-03-01</td>\n",
       "      <td>2012-03-31</td>\n",
       "      <td>2012</td>\n",
       "      <td>30</td>\n",
       "      <td>198860.0</td>\n",
       "      <td>170681.0</td>\n",
       "      <td>108.0</td>\n",
       "      <td>0.961785</td>\n",
       "      <td>2022-04-10 14:49:10</td>\n",
       "    </tr>\n",
       "    <tr>\n",
       "      <th>1080</th>\n",
       "      <td>-1</td>\n",
       "      <td>2012-04-01</td>\n",
       "      <td>2012-04-30</td>\n",
       "      <td>2012</td>\n",
       "      <td>30</td>\n",
       "      <td>198927.0</td>\n",
       "      <td>177774.0</td>\n",
       "      <td>107.0</td>\n",
       "      <td>0.965150</td>\n",
       "      <td>2022-04-10 14:49:10</td>\n",
       "    </tr>\n",
       "    <tr>\n",
       "      <th>539</th>\n",
       "      <td>-1</td>\n",
       "      <td>2012-05-01</td>\n",
       "      <td>2012-05-31</td>\n",
       "      <td>2012</td>\n",
       "      <td>30</td>\n",
       "      <td>200718.0</td>\n",
       "      <td>186050.0</td>\n",
       "      <td>108.0</td>\n",
       "      <td>0.968565</td>\n",
       "      <td>2022-04-10 14:49:10</td>\n",
       "    </tr>\n",
       "  </tbody>\n",
       "</table>\n",
       "</div>"
      ],
      "text/plain": [
       "      property_type_id period_begin  period_end  year  period_duration  \\\n",
       "1028                -1   2012-01-01  2012-01-31  2012               30   \n",
       "1016                -1   2012-02-01  2012-02-29  2012               30   \n",
       "337                 -1   2012-03-01  2012-03-31  2012               30   \n",
       "1080                -1   2012-04-01  2012-04-30  2012               30   \n",
       "539                 -1   2012-05-01  2012-05-31  2012               30   \n",
       "\n",
       "      median_list_price  median_sale_price  median_list_ppsf  \\\n",
       "1028           182741.0           158955.0             102.0   \n",
       "1016           192252.0           159915.0             105.0   \n",
       "337            198860.0           170681.0             108.0   \n",
       "1080           198927.0           177774.0             107.0   \n",
       "539            200718.0           186050.0             108.0   \n",
       "\n",
       "      avg_sale_to_list         last_updated  \n",
       "1028          0.956285  2022-04-10 14:49:10  \n",
       "1016          0.958041  2022-04-10 14:49:10  \n",
       "337           0.961785  2022-04-10 14:49:10  \n",
       "1080          0.965150  2022-04-10 14:49:10  \n",
       "539           0.968565  2022-04-10 14:49:10  "
      ]
     },
     "execution_count": 9,
     "metadata": {},
     "output_type": "execute_result"
    }
   ],
   "source": [
    "# property_type_id == -1; All residential homes\n",
    "national_df = national_df.loc[national_df['property_type_id'] == -1]\n",
    "\n",
    "#Removing Duplicate Entries, Leaving Latest Update\n",
    "national_df = national_df.loc[national_df['last_updated'] == '2022-04-10 14:49:10']\n",
    "#national_df = national_df.loc[national_df['last_updated'] == national_df['last_updated'].value_counts().index.tolist()[-1]]\n",
    "\n",
    "#Sorting by ascending order of entry period end date\n",
    "national_df.sort_values('period_end', inplace = True)\n",
    "\n",
    "national_df.head()\n"
   ]
  },
  {
   "cell_type": "markdown",
   "metadata": {},
   "source": [
    "### Introduce inflation-by-year Column and base_inflation column"
   ]
  },
  {
   "cell_type": "code",
   "execution_count": 10,
   "metadata": {
    "id": "Ky0RAzcTVMt9"
   },
   "outputs": [],
   "source": [
    "#Inflation Data\n",
    "url3 = 'https://raw.githubusercontent.com/ayiply/test_repo/main/inflation_data.csv'\n",
    "inflation_df = pd.read_csv(url3)\n",
    "\n",
    "inflation_df.columns\n",
    "inflation_df = inflation_df.rename({'inflation rate' : 'inf_rate'}, axis = 'columns' )\n",
    "\n",
    "inf_dict = dict(zip(inflation_df.year, inflation_df.inf_rate))\n",
    "\n",
    "inflation_df\n",
    "base_inflation = inflation_df[inflation_df['year'] > 2011]['amount'].tolist()\n",
    "base_inflation = [i/base_inflation[0] for i in base_inflation]\n",
    "base_inflation\n",
    "year_list = list(range(2012, 2023, 1))\n",
    "year_list\n",
    "\n",
    "def total_inflation(year):\n",
    "    for i in range(12):\n",
    "        if year == year_list[i]:\n",
    "            return round(base_inflation[i], 2)\n",
    "            \n",
    "national_df = national_df.assign(base_inflation = national_df['year'].apply(total_inflation))"
   ]
  },
  {
   "cell_type": "code",
   "execution_count": 11,
   "metadata": {
    "id": "qggyWk0DY0tL"
   },
   "outputs": [
    {
     "data": {
      "text/html": [
       "<div>\n",
       "<style scoped>\n",
       "    .dataframe tbody tr th:only-of-type {\n",
       "        vertical-align: middle;\n",
       "    }\n",
       "\n",
       "    .dataframe tbody tr th {\n",
       "        vertical-align: top;\n",
       "    }\n",
       "\n",
       "    .dataframe thead th {\n",
       "        text-align: right;\n",
       "    }\n",
       "</style>\n",
       "<table border=\"1\" class=\"dataframe\">\n",
       "  <thead>\n",
       "    <tr style=\"text-align: right;\">\n",
       "      <th></th>\n",
       "      <th>property_type_id</th>\n",
       "      <th>period_begin</th>\n",
       "      <th>period_end</th>\n",
       "      <th>year</th>\n",
       "      <th>period_duration</th>\n",
       "      <th>median_list_price</th>\n",
       "      <th>median_sale_price</th>\n",
       "      <th>median_list_ppsf</th>\n",
       "      <th>avg_sale_to_list</th>\n",
       "      <th>last_updated</th>\n",
       "      <th>base_inflation</th>\n",
       "      <th>inflation_by_year</th>\n",
       "    </tr>\n",
       "  </thead>\n",
       "  <tbody>\n",
       "    <tr>\n",
       "      <th>1028</th>\n",
       "      <td>-1</td>\n",
       "      <td>2012-01-01</td>\n",
       "      <td>2012-01-31</td>\n",
       "      <td>2012</td>\n",
       "      <td>30</td>\n",
       "      <td>182741.0</td>\n",
       "      <td>158955.0</td>\n",
       "      <td>102.0</td>\n",
       "      <td>0.956285</td>\n",
       "      <td>2022-04-10 14:49:10</td>\n",
       "      <td>1.0</td>\n",
       "      <td>0.02</td>\n",
       "    </tr>\n",
       "    <tr>\n",
       "      <th>1016</th>\n",
       "      <td>-1</td>\n",
       "      <td>2012-02-01</td>\n",
       "      <td>2012-02-29</td>\n",
       "      <td>2012</td>\n",
       "      <td>30</td>\n",
       "      <td>192252.0</td>\n",
       "      <td>159915.0</td>\n",
       "      <td>105.0</td>\n",
       "      <td>0.958041</td>\n",
       "      <td>2022-04-10 14:49:10</td>\n",
       "      <td>1.0</td>\n",
       "      <td>0.02</td>\n",
       "    </tr>\n",
       "    <tr>\n",
       "      <th>337</th>\n",
       "      <td>-1</td>\n",
       "      <td>2012-03-01</td>\n",
       "      <td>2012-03-31</td>\n",
       "      <td>2012</td>\n",
       "      <td>30</td>\n",
       "      <td>198860.0</td>\n",
       "      <td>170681.0</td>\n",
       "      <td>108.0</td>\n",
       "      <td>0.961785</td>\n",
       "      <td>2022-04-10 14:49:10</td>\n",
       "      <td>1.0</td>\n",
       "      <td>0.02</td>\n",
       "    </tr>\n",
       "    <tr>\n",
       "      <th>1080</th>\n",
       "      <td>-1</td>\n",
       "      <td>2012-04-01</td>\n",
       "      <td>2012-04-30</td>\n",
       "      <td>2012</td>\n",
       "      <td>30</td>\n",
       "      <td>198927.0</td>\n",
       "      <td>177774.0</td>\n",
       "      <td>107.0</td>\n",
       "      <td>0.965150</td>\n",
       "      <td>2022-04-10 14:49:10</td>\n",
       "      <td>1.0</td>\n",
       "      <td>0.02</td>\n",
       "    </tr>\n",
       "    <tr>\n",
       "      <th>539</th>\n",
       "      <td>-1</td>\n",
       "      <td>2012-05-01</td>\n",
       "      <td>2012-05-31</td>\n",
       "      <td>2012</td>\n",
       "      <td>30</td>\n",
       "      <td>200718.0</td>\n",
       "      <td>186050.0</td>\n",
       "      <td>108.0</td>\n",
       "      <td>0.968565</td>\n",
       "      <td>2022-04-10 14:49:10</td>\n",
       "      <td>1.0</td>\n",
       "      <td>0.02</td>\n",
       "    </tr>\n",
       "  </tbody>\n",
       "</table>\n",
       "</div>"
      ],
      "text/plain": [
       "      property_type_id period_begin  period_end  year  period_duration  \\\n",
       "1028                -1   2012-01-01  2012-01-31  2012               30   \n",
       "1016                -1   2012-02-01  2012-02-29  2012               30   \n",
       "337                 -1   2012-03-01  2012-03-31  2012               30   \n",
       "1080                -1   2012-04-01  2012-04-30  2012               30   \n",
       "539                 -1   2012-05-01  2012-05-31  2012               30   \n",
       "\n",
       "      median_list_price  median_sale_price  median_list_ppsf  \\\n",
       "1028           182741.0           158955.0             102.0   \n",
       "1016           192252.0           159915.0             105.0   \n",
       "337            198860.0           170681.0             108.0   \n",
       "1080           198927.0           177774.0             107.0   \n",
       "539            200718.0           186050.0             108.0   \n",
       "\n",
       "      avg_sale_to_list         last_updated  base_inflation  inflation_by_year  \n",
       "1028          0.956285  2022-04-10 14:49:10             1.0               0.02  \n",
       "1016          0.958041  2022-04-10 14:49:10             1.0               0.02  \n",
       "337           0.961785  2022-04-10 14:49:10             1.0               0.02  \n",
       "1080          0.965150  2022-04-10 14:49:10             1.0               0.02  \n",
       "539           0.968565  2022-04-10 14:49:10             1.0               0.02  "
      ]
     },
     "execution_count": 11,
     "metadata": {},
     "output_type": "execute_result"
    }
   ],
   "source": [
    "#List for inflation rates by year in period_begin\n",
    "inflation_column = []\n",
    "\n",
    "#converting period_begins column into iterable list\n",
    "ser = pd.DataFrame(national_df, columns = ['period_begin'])\n",
    "dates = ser.squeeze()\n",
    "date_list = dates.to_list()\n",
    "\n",
    "#assigning annual inflation rate based on year found in list of dates' strings\n",
    "for key in inf_dict:\n",
    "  for entry in date_list:\n",
    "    if str(key) in entry:\n",
    "      inflation_column.append(inf_dict[key])\n",
    "  \n",
    "#appending column to national_df\n",
    "national_df['inflation_by_year'] = inflation_column\n",
    "\n",
    "national_df.head()"
   ]
  },
  {
   "cell_type": "markdown",
   "metadata": {},
   "source": [
    "### Calculate Adjusted Price"
   ]
  },
  {
   "cell_type": "code",
   "execution_count": 12,
   "metadata": {},
   "outputs": [
    {
     "data": {
      "text/html": [
       "<div>\n",
       "<style scoped>\n",
       "    .dataframe tbody tr th:only-of-type {\n",
       "        vertical-align: middle;\n",
       "    }\n",
       "\n",
       "    .dataframe tbody tr th {\n",
       "        vertical-align: top;\n",
       "    }\n",
       "\n",
       "    .dataframe thead th {\n",
       "        text-align: right;\n",
       "    }\n",
       "</style>\n",
       "<table border=\"1\" class=\"dataframe\">\n",
       "  <thead>\n",
       "    <tr style=\"text-align: right;\">\n",
       "      <th></th>\n",
       "      <th>property_type_id</th>\n",
       "      <th>period_begin</th>\n",
       "      <th>period_end</th>\n",
       "      <th>year</th>\n",
       "      <th>period_duration</th>\n",
       "      <th>median_list_price</th>\n",
       "      <th>median_sale_price</th>\n",
       "      <th>median_list_ppsf</th>\n",
       "      <th>avg_sale_to_list</th>\n",
       "      <th>last_updated</th>\n",
       "      <th>base_inflation</th>\n",
       "      <th>inflation_by_year</th>\n",
       "      <th>adjusted_median_list_price</th>\n",
       "      <th>adjusted_median_sale_price</th>\n",
       "      <th>adjusted_median_list_ppsf</th>\n",
       "    </tr>\n",
       "  </thead>\n",
       "  <tbody>\n",
       "    <tr>\n",
       "      <th>1028</th>\n",
       "      <td>-1</td>\n",
       "      <td>2012-01-01</td>\n",
       "      <td>2012-01-31</td>\n",
       "      <td>2012</td>\n",
       "      <td>30</td>\n",
       "      <td>182741.0</td>\n",
       "      <td>158955.0</td>\n",
       "      <td>102.0</td>\n",
       "      <td>0.956285</td>\n",
       "      <td>2022-04-10 14:49:10</td>\n",
       "      <td>1.0</td>\n",
       "      <td>0.02</td>\n",
       "      <td>182741.0</td>\n",
       "      <td>158955.0</td>\n",
       "      <td>102.0</td>\n",
       "    </tr>\n",
       "    <tr>\n",
       "      <th>1016</th>\n",
       "      <td>-1</td>\n",
       "      <td>2012-02-01</td>\n",
       "      <td>2012-02-29</td>\n",
       "      <td>2012</td>\n",
       "      <td>30</td>\n",
       "      <td>192252.0</td>\n",
       "      <td>159915.0</td>\n",
       "      <td>105.0</td>\n",
       "      <td>0.958041</td>\n",
       "      <td>2022-04-10 14:49:10</td>\n",
       "      <td>1.0</td>\n",
       "      <td>0.02</td>\n",
       "      <td>192252.0</td>\n",
       "      <td>159915.0</td>\n",
       "      <td>105.0</td>\n",
       "    </tr>\n",
       "    <tr>\n",
       "      <th>337</th>\n",
       "      <td>-1</td>\n",
       "      <td>2012-03-01</td>\n",
       "      <td>2012-03-31</td>\n",
       "      <td>2012</td>\n",
       "      <td>30</td>\n",
       "      <td>198860.0</td>\n",
       "      <td>170681.0</td>\n",
       "      <td>108.0</td>\n",
       "      <td>0.961785</td>\n",
       "      <td>2022-04-10 14:49:10</td>\n",
       "      <td>1.0</td>\n",
       "      <td>0.02</td>\n",
       "      <td>198860.0</td>\n",
       "      <td>170681.0</td>\n",
       "      <td>108.0</td>\n",
       "    </tr>\n",
       "    <tr>\n",
       "      <th>1080</th>\n",
       "      <td>-1</td>\n",
       "      <td>2012-04-01</td>\n",
       "      <td>2012-04-30</td>\n",
       "      <td>2012</td>\n",
       "      <td>30</td>\n",
       "      <td>198927.0</td>\n",
       "      <td>177774.0</td>\n",
       "      <td>107.0</td>\n",
       "      <td>0.965150</td>\n",
       "      <td>2022-04-10 14:49:10</td>\n",
       "      <td>1.0</td>\n",
       "      <td>0.02</td>\n",
       "      <td>198927.0</td>\n",
       "      <td>177774.0</td>\n",
       "      <td>107.0</td>\n",
       "    </tr>\n",
       "    <tr>\n",
       "      <th>539</th>\n",
       "      <td>-1</td>\n",
       "      <td>2012-05-01</td>\n",
       "      <td>2012-05-31</td>\n",
       "      <td>2012</td>\n",
       "      <td>30</td>\n",
       "      <td>200718.0</td>\n",
       "      <td>186050.0</td>\n",
       "      <td>108.0</td>\n",
       "      <td>0.968565</td>\n",
       "      <td>2022-04-10 14:49:10</td>\n",
       "      <td>1.0</td>\n",
       "      <td>0.02</td>\n",
       "      <td>200718.0</td>\n",
       "      <td>186050.0</td>\n",
       "      <td>108.0</td>\n",
       "    </tr>\n",
       "  </tbody>\n",
       "</table>\n",
       "</div>"
      ],
      "text/plain": [
       "      property_type_id period_begin  period_end  year  period_duration  \\\n",
       "1028                -1   2012-01-01  2012-01-31  2012               30   \n",
       "1016                -1   2012-02-01  2012-02-29  2012               30   \n",
       "337                 -1   2012-03-01  2012-03-31  2012               30   \n",
       "1080                -1   2012-04-01  2012-04-30  2012               30   \n",
       "539                 -1   2012-05-01  2012-05-31  2012               30   \n",
       "\n",
       "      median_list_price  median_sale_price  median_list_ppsf  \\\n",
       "1028           182741.0           158955.0             102.0   \n",
       "1016           192252.0           159915.0             105.0   \n",
       "337            198860.0           170681.0             108.0   \n",
       "1080           198927.0           177774.0             107.0   \n",
       "539            200718.0           186050.0             108.0   \n",
       "\n",
       "      avg_sale_to_list         last_updated  base_inflation  \\\n",
       "1028          0.956285  2022-04-10 14:49:10             1.0   \n",
       "1016          0.958041  2022-04-10 14:49:10             1.0   \n",
       "337           0.961785  2022-04-10 14:49:10             1.0   \n",
       "1080          0.965150  2022-04-10 14:49:10             1.0   \n",
       "539           0.968565  2022-04-10 14:49:10             1.0   \n",
       "\n",
       "      inflation_by_year  adjusted_median_list_price  \\\n",
       "1028               0.02                    182741.0   \n",
       "1016               0.02                    192252.0   \n",
       "337                0.02                    198860.0   \n",
       "1080               0.02                    198927.0   \n",
       "539                0.02                    200718.0   \n",
       "\n",
       "      adjusted_median_sale_price  adjusted_median_list_ppsf  \n",
       "1028                    158955.0                      102.0  \n",
       "1016                    159915.0                      105.0  \n",
       "337                     170681.0                      108.0  \n",
       "1080                    177774.0                      107.0  \n",
       "539                     186050.0                      108.0  "
      ]
     },
     "execution_count": 12,
     "metadata": {},
     "output_type": "execute_result"
    }
   ],
   "source": [
    "national_df = national_df.assign(adjusted_median_list_price = national_df['median_list_price'] / national_df['base_inflation'])\n",
    "national_df = national_df.assign(adjusted_median_sale_price = national_df['median_sale_price'] / national_df['base_inflation'])\n",
    "national_df = national_df.assign(adjusted_median_list_ppsf = national_df['median_list_ppsf'] / national_df['base_inflation'])\n",
    "#national_df = national_df[['property_type_id', 'year', 'median_list_price', 'adjusted_median_list_price', 'median_sale_price', 'adjusted_median_sale_price', 'median_list_ppsf', 'adjusted_median_list_ppsf', 'base_inflation', 'inflation_by_year']]\n",
    "national_df.head()"
   ]
  },
  {
   "cell_type": "markdown",
   "metadata": {},
   "source": [
    "### Get aggregating statistics of national_df"
   ]
  },
  {
   "cell_type": "code",
   "execution_count": 13,
   "metadata": {},
   "outputs": [
    {
     "data": {
      "text/html": [
       "<div>\n",
       "<style scoped>\n",
       "    .dataframe tbody tr th:only-of-type {\n",
       "        vertical-align: middle;\n",
       "    }\n",
       "\n",
       "    .dataframe tbody tr th {\n",
       "        vertical-align: top;\n",
       "    }\n",
       "\n",
       "    .dataframe thead th {\n",
       "        text-align: right;\n",
       "    }\n",
       "</style>\n",
       "<table border=\"1\" class=\"dataframe\">\n",
       "  <thead>\n",
       "    <tr style=\"text-align: right;\">\n",
       "      <th></th>\n",
       "      <th>property_type_id</th>\n",
       "      <th>year</th>\n",
       "      <th>period_duration</th>\n",
       "      <th>median_list_price</th>\n",
       "      <th>median_sale_price</th>\n",
       "      <th>median_list_ppsf</th>\n",
       "      <th>avg_sale_to_list</th>\n",
       "      <th>base_inflation</th>\n",
       "      <th>inflation_by_year</th>\n",
       "      <th>adjusted_median_list_price</th>\n",
       "      <th>adjusted_median_sale_price</th>\n",
       "      <th>adjusted_median_list_ppsf</th>\n",
       "    </tr>\n",
       "  </thead>\n",
       "  <tbody>\n",
       "    <tr>\n",
       "      <th>count</th>\n",
       "      <td>123.0</td>\n",
       "      <td>123.000000</td>\n",
       "      <td>123.0</td>\n",
       "      <td>123.000000</td>\n",
       "      <td>123.000000</td>\n",
       "      <td>123.000000</td>\n",
       "      <td>123.000000</td>\n",
       "      <td>123.000000</td>\n",
       "      <td>123.000000</td>\n",
       "      <td>123.000000</td>\n",
       "      <td>123.000000</td>\n",
       "      <td>123.000000</td>\n",
       "    </tr>\n",
       "    <tr>\n",
       "      <th>mean</th>\n",
       "      <td>-1.0</td>\n",
       "      <td>2016.634146</td>\n",
       "      <td>30.0</td>\n",
       "      <td>274995.276423</td>\n",
       "      <td>263139.382114</td>\n",
       "      <td>148.008130</td>\n",
       "      <td>0.982481</td>\n",
       "      <td>1.074634</td>\n",
       "      <td>0.019268</td>\n",
       "      <td>253874.720829</td>\n",
       "      <td>242785.380332</td>\n",
       "      <td>136.610343</td>\n",
       "    </tr>\n",
       "    <tr>\n",
       "      <th>std</th>\n",
       "      <td>0.0</td>\n",
       "      <td>2.973292</td>\n",
       "      <td>0.0</td>\n",
       "      <td>56606.828048</td>\n",
       "      <td>57705.244118</td>\n",
       "      <td>30.850113</td>\n",
       "      <td>0.013286</td>\n",
       "      <td>0.061621</td>\n",
       "      <td>0.014775</td>\n",
       "      <td>37836.517779</td>\n",
       "      <td>39459.467084</td>\n",
       "      <td>20.376654</td>\n",
       "    </tr>\n",
       "    <tr>\n",
       "      <th>min</th>\n",
       "      <td>-1.0</td>\n",
       "      <td>2012.000000</td>\n",
       "      <td>30.0</td>\n",
       "      <td>178575.000000</td>\n",
       "      <td>158955.000000</td>\n",
       "      <td>100.000000</td>\n",
       "      <td>0.956285</td>\n",
       "      <td>1.000000</td>\n",
       "      <td>0.000000</td>\n",
       "      <td>178575.000000</td>\n",
       "      <td>158955.000000</td>\n",
       "      <td>100.000000</td>\n",
       "    </tr>\n",
       "    <tr>\n",
       "      <th>25%</th>\n",
       "      <td>-1.0</td>\n",
       "      <td>2014.000000</td>\n",
       "      <td>30.0</td>\n",
       "      <td>230748.000000</td>\n",
       "      <td>219016.500000</td>\n",
       "      <td>125.000000</td>\n",
       "      <td>0.974285</td>\n",
       "      <td>1.030000</td>\n",
       "      <td>0.010000</td>\n",
       "      <td>224510.679612</td>\n",
       "      <td>213930.976641</td>\n",
       "      <td>121.359223</td>\n",
       "    </tr>\n",
       "    <tr>\n",
       "      <th>50%</th>\n",
       "      <td>-1.0</td>\n",
       "      <td>2017.000000</td>\n",
       "      <td>30.0</td>\n",
       "      <td>271115.000000</td>\n",
       "      <td>256584.000000</td>\n",
       "      <td>144.000000</td>\n",
       "      <td>0.980225</td>\n",
       "      <td>1.070000</td>\n",
       "      <td>0.020000</td>\n",
       "      <td>255039.047619</td>\n",
       "      <td>242965.714286</td>\n",
       "      <td>135.514019</td>\n",
       "    </tr>\n",
       "    <tr>\n",
       "      <th>75%</th>\n",
       "      <td>-1.0</td>\n",
       "      <td>2019.000000</td>\n",
       "      <td>30.0</td>\n",
       "      <td>307471.000000</td>\n",
       "      <td>293014.000000</td>\n",
       "      <td>162.500000</td>\n",
       "      <td>0.986417</td>\n",
       "      <td>1.110000</td>\n",
       "      <td>0.020000</td>\n",
       "      <td>278535.885362</td>\n",
       "      <td>263937.837838</td>\n",
       "      <td>146.874751</td>\n",
       "    </tr>\n",
       "    <tr>\n",
       "      <th>max</th>\n",
       "      <td>-1.0</td>\n",
       "      <td>2022.000000</td>\n",
       "      <td>30.0</td>\n",
       "      <td>426625.000000</td>\n",
       "      <td>412687.000000</td>\n",
       "      <td>233.000000</td>\n",
       "      <td>1.025384</td>\n",
       "      <td>1.260000</td>\n",
       "      <td>0.070000</td>\n",
       "      <td>338591.269841</td>\n",
       "      <td>327529.365079</td>\n",
       "      <td>184.920635</td>\n",
       "    </tr>\n",
       "  </tbody>\n",
       "</table>\n",
       "</div>"
      ],
      "text/plain": [
       "       property_type_id         year  period_duration  median_list_price  \\\n",
       "count             123.0   123.000000            123.0         123.000000   \n",
       "mean               -1.0  2016.634146             30.0      274995.276423   \n",
       "std                 0.0     2.973292              0.0       56606.828048   \n",
       "min                -1.0  2012.000000             30.0      178575.000000   \n",
       "25%                -1.0  2014.000000             30.0      230748.000000   \n",
       "50%                -1.0  2017.000000             30.0      271115.000000   \n",
       "75%                -1.0  2019.000000             30.0      307471.000000   \n",
       "max                -1.0  2022.000000             30.0      426625.000000   \n",
       "\n",
       "       median_sale_price  median_list_ppsf  avg_sale_to_list  base_inflation  \\\n",
       "count         123.000000        123.000000        123.000000      123.000000   \n",
       "mean       263139.382114        148.008130          0.982481        1.074634   \n",
       "std         57705.244118         30.850113          0.013286        0.061621   \n",
       "min        158955.000000        100.000000          0.956285        1.000000   \n",
       "25%        219016.500000        125.000000          0.974285        1.030000   \n",
       "50%        256584.000000        144.000000          0.980225        1.070000   \n",
       "75%        293014.000000        162.500000          0.986417        1.110000   \n",
       "max        412687.000000        233.000000          1.025384        1.260000   \n",
       "\n",
       "       inflation_by_year  adjusted_median_list_price  \\\n",
       "count         123.000000                  123.000000   \n",
       "mean            0.019268               253874.720829   \n",
       "std             0.014775                37836.517779   \n",
       "min             0.000000               178575.000000   \n",
       "25%             0.010000               224510.679612   \n",
       "50%             0.020000               255039.047619   \n",
       "75%             0.020000               278535.885362   \n",
       "max             0.070000               338591.269841   \n",
       "\n",
       "       adjusted_median_sale_price  adjusted_median_list_ppsf  \n",
       "count                  123.000000                 123.000000  \n",
       "mean                242785.380332                 136.610343  \n",
       "std                  39459.467084                  20.376654  \n",
       "min                 158955.000000                 100.000000  \n",
       "25%                 213930.976641                 121.359223  \n",
       "50%                 242965.714286                 135.514019  \n",
       "75%                 263937.837838                 146.874751  \n",
       "max                 327529.365079                 184.920635  "
      ]
     },
     "execution_count": 13,
     "metadata": {},
     "output_type": "execute_result"
    }
   ],
   "source": [
    "national_df.describe()"
   ]
  },
  {
   "cell_type": "markdown",
   "metadata": {
    "id": "Qw845-CDCWIp"
   },
   "source": [
    "# **Notes for the team:** \n",
    "So the national_df DataFrame contains aggregate values for all residential homes across the US. Potentially if we wanted to look at specific states (like California, Washington, etc) there are more data for location specific metrics which we can further investigate. "
   ]
  },
  {
   "cell_type": "markdown",
   "metadata": {},
   "source": [
    "### Median List to Sale Price\n",
    "We plotted the median list price against the median sale price to see if there was a correlation between the two. Based off the plot, we found that typically the final sale price is lower than the initial list price. To see if inflation had any effect, we adjusted the list and sale prices for inflation and plotted them on the same graph. We found that the trend stayed the same even after the adjustment."
   ]
  },
  {
   "cell_type": "code",
   "execution_count": 20,
   "metadata": {},
   "outputs": [
    {
     "data": {
      "text/plain": [
       "[Text(0.5, 0, 'List Price'), Text(0, 0.5, 'Sale Price')]"
      ]
     },
     "execution_count": 20,
     "metadata": {},
     "output_type": "execute_result"
    },
    {
     "data": {
      "image/png": "[encoded data removed]",
      "text/plain": [
       "<Figure size 720x720 with 1 Axes>"
      ]
     },
     "metadata": {
      "needs_background": "light"
     },
     "output_type": "display_data"
    }
   ],
   "source": [
    "fig_price_diff, ax_price_diff = plt.subplots(figsize=(10,10))\n",
    "sns.regplot(x = \"median_list_price\", y = \"median_sale_price\", data = national_df, fit_reg=False)\n",
    "sns.regplot(x = \"adjusted_median_list_price\", y = \"adjusted_median_sale_price\", data = national_df, fit_reg=False)\n",
    "\n",
    "ax_price_diff.legend(labels = [\"Non Adjusted Median Price\",\"Adjusted Median Price\"])\n",
    "ax_price_diff.set(xlabel = \"List Price\", ylabel = \"Sale Price\")"
   ]
  },
  {
   "cell_type": "markdown",
   "metadata": {},
   "source": [
    "### Median List Price Per Square Foot (PPSF)\n",
    "In this figure, we plotted the median list price per square foot over time. Unsurprisingly, the prices increased as time progressed, but it is worth noting that the largest increases per year are from 2020 to 2022. This is likely do to the effects of the world wide pandemic. In addition, we plotted the same values adjusted for inflation and found that the trend was largely similar. However, one notable difference is that some of the adjusted values in 2020, namely the highest three values are now more expensive then the lowest value in 2021. When in the non adjusted plot, the lowest value in 2021, is greater than the highest value in 2020. This may be do to how we calculated for inflation. More investigation is needed to see if it is a trend in the data or a mistake with how we adjusted for inflation."
   ]
  },
  {
   "cell_type": "code",
   "execution_count": 21,
   "metadata": {},
   "outputs": [
    {
     "data": {
      "text/plain": [
       "[Text(0.5, 0, 'Year'), Text(0, 0.5, 'Median List PPSF')]"
      ]
     },
     "execution_count": 21,
     "metadata": {},
     "output_type": "execute_result"
    },
    {
     "data": {
      "image/png": "[encoded data removed]",
      "text/plain": [
       "<Figure size 720x720 with 1 Axes>"
      ]
     },
     "metadata": {
      "needs_background": "light"
     },
     "output_type": "display_data"
    }
   ],
   "source": [
    "fig_ppsf, ax_ppsf = plt.subplots(figsize=(10,10))\n",
    "sns.regplot(x = \"year\", y = \"median_list_ppsf\", data = national_df, fit_reg=False)\n",
    "sns.regplot(x = \"year\", y = \"adjusted_median_list_ppsf\", data = national_df, fit_reg=False)\n",
    "\n",
    "ax_ppsf.legend(labels = [\"Non Adjusted Median PPSF\",\"Adjusted Median PPSF\"])\n",
    "ax_ppsf.set(xlabel = \"Year\", ylabel = \"Median List PPSF\")"
   ]
  },
  {
   "cell_type": "markdown",
   "metadata": {},
   "source": [
    "### Non Adjusted Prices Polynomial Regression\n",
    "We trained a polynomial regression model on the list and sale prices to predict final sale prices based on the initial list price. We started with determining the number of degrees that would have the best accuracy. To measure the accuracy, we used r-squared. The degrees we tested were: 1, 2, 3, 6, 10, and 20. Looking at the figure and r-squared results, it appears that degrees 3 and 6 have the highest r-squared value of 0.95. This tells us that these would be a good number of features to include to have the most accurate algorithm. Given that there are two possibilities between 3 and 6 degrees, we will later determine if either value leads to a better r-squared value."
   ]
  },
  {
   "cell_type": "code",
   "execution_count": 16,
   "metadata": {},
   "outputs": [
    {
     "name": "stdout",
     "output_type": "stream",
     "text": [
      "R-squared values: \n",
      "\n",
      "Polynomial degree 1: R-squared Score = 0.948\n",
      "Polynomial degree 2: R-squared Score = 0.949\n",
      "Polynomial degree 3: R-squared Score = 0.95\n",
      "Polynomial degree 6: R-squared Score = 0.95\n",
      "Polynomial degree 10: R-squared Score = 0.937\n",
      "Polynomial degree 20: R-squared Score = 0.762\n"
     ]
    },
    {
     "data": {
      "image/png": "[encoded data removed]",
      "text/plain": [
       "<Figure size 720x720 with 1 Axes>"
      ]
     },
     "metadata": {
      "needs_background": "light"
     },
     "output_type": "display_data"
    }
   ],
   "source": [
    "X = national_df['median_list_price']\n",
    "y = national_df['median_sale_price']\n",
    "\n",
    "X_train, X_test, y_train, y_test = train_test_split(\n",
    "     X, y, test_size=0.33, random_state=42)\n",
    "     \n",
    "\n",
    "sorted_index = np.argsort(X_train)\n",
    "X_train = X_train.to_numpy()[sorted_index]\n",
    "y_train = y_train.to_numpy()[sorted_index]\n",
    "\n",
    "sorted_index = np.argsort(X_test)\n",
    "X_test = X_test.to_numpy()[sorted_index]\n",
    "y_test = y_test.to_numpy()[sorted_index]\n",
    "\n",
    "degrees = [1, 2, 3, 6, 10, 20]\n",
    "\n",
    "y_pred = np.zeros((len(X_train), len(degrees)))\n",
    "\n",
    "for i, degree in enumerate(degrees):\n",
    "    \n",
    "    # make pipeline: create features, then feed them to linear_reg model\n",
    "    model = make_pipeline(PolynomialFeatures(degree), LinearRegression())\n",
    "    model.fit(np.array(X_train).reshape(-1,1), y_train)\n",
    "    \n",
    "    # predict on test and train data\n",
    "    # store the predictions of each degree in the corresponding column\n",
    "    y_pred[:, i] = model.predict(np.array(X_train).reshape(-1,1))\n",
    "    \n",
    "plt.figure(figsize=(10, 10))\n",
    "\n",
    "plt.scatter(X_train, y_train)\n",
    "plt.yscale('log')\n",
    "plt.title(\"Raw price\")\n",
    "for i, degree in enumerate(degrees):    \n",
    "    plt.plot(X_train, y_pred[:, i], label=f'Degree = {str(degree)}')\n",
    "    plt.legend(loc='upper left')\n",
    "    \n",
    "print(\"R-squared values: \\n\")\n",
    "for i, degree in enumerate(degrees):\n",
    "    train_r2 = round(sk.metrics.r2_score(y_train, y_pred[:, i]), 3)\n",
    "    print(\"Polynomial degree {0}: R-squared Score = {1}\".format(degree, train_r2)) \n",
    "                    "
   ]
  },
  {
   "cell_type": "markdown",
   "metadata": {},
   "source": [
    "### Adjusted List to Sale Prices Polynomial Regression\n",
    "Similar to the non adjusted list to sale price polynomial regression, we performed the same process, but with the values adjusted for inflation. We found that the r-squared value ended up being lower than the non adjusted sale and list price values. Currently, we are not entirely certain as to why this is the case. Not only are the r-squared values lower, the difference between the different number of features is also much smaller as well."
   ]
  },
  {
   "cell_type": "code",
   "execution_count": 17,
   "metadata": {},
   "outputs": [
    {
     "name": "stdout",
     "output_type": "stream",
     "text": [
      "R-squared values: \n",
      "\n",
      "Polynomial degree 1: R-squared Score = 0.902\n",
      "Polynomial degree 2: R-squared Score = 0.907\n",
      "Polynomial degree 3: R-squared Score = 0.907\n",
      "Polynomial degree 6: R-squared Score = 0.906\n",
      "Polynomial degree 10: R-squared Score = 0.901\n",
      "Polynomial degree 20: R-squared Score = 0.837\n"
     ]
    },
    {
     "data": {
      "image/png": "[encoded data removed]",
      "text/plain": [
       "<Figure size 720x720 with 1 Axes>"
      ]
     },
     "metadata": {
      "needs_background": "light"
     },
     "output_type": "display_data"
    }
   ],
   "source": [
    "X = national_df['adjusted_median_list_price']\n",
    "y = national_df['adjusted_median_sale_price']\n",
    "\n",
    "X_train, X_test, y_train, y_test = train_test_split(\n",
    "     X, y, test_size=0.33, random_state=42)\n",
    "     \n",
    "\n",
    "sorted_index = np.argsort(X_train)\n",
    "X_train = X_train.to_numpy()[sorted_index]\n",
    "y_train = y_train.to_numpy()[sorted_index]\n",
    "\n",
    "sorted_index = np.argsort(X_test)\n",
    "X_test = X_test.to_numpy()[sorted_index]\n",
    "y_test = y_test.to_numpy()[sorted_index]\n",
    "\n",
    "degrees = [1, 2, 3, 6, 10, 20]\n",
    "\n",
    "y_pred = np.zeros((len(X_train), len(degrees)))\n",
    "\n",
    "for i, degree in enumerate(degrees):\n",
    "    \n",
    "    # make pipeline: create features, then feed them to linear_reg model\n",
    "    model = make_pipeline(PolynomialFeatures(degree), LinearRegression())\n",
    "    model.fit(np.array(X_train).reshape(-1,1), y_train)\n",
    "    \n",
    "    # predict on test and train data\n",
    "    # store the predictions of each degree in the corresponding column\n",
    "    y_pred[:, i] = model.predict(np.array(X_train).reshape(-1,1))\n",
    "    \n",
    "plt.figure(figsize=(10, 10))\n",
    "\n",
    "plt.scatter(X_train, y_train)\n",
    "plt.yscale('log')\n",
    "plt.title(\"Adjusted Price\")\n",
    "for i, degree in enumerate(degrees):    \n",
    "    plt.plot(X_train, y_pred[:, i], label=f'Degree = {str(degree)}')\n",
    "    plt.legend(loc='upper left')\n",
    "    \n",
    "print(\"R-squared values: \\n\")\n",
    "for i, degree in enumerate(degrees):\n",
    "    train_r2 = round(sk.metrics.r2_score(y_train, y_pred[:, i]), 3)\n",
    "    print(\"Polynomial degree {0}: R-squared Score = {1}\".format(degree, train_r2)) \n",
    "                                  "
   ]
  },
  {
   "cell_type": "markdown",
   "metadata": {},
   "source": [
    "### Non Adjusted Prices KFolds Linear Regression\n",
    "Since we are currently only working with 123 data points, we decided to use KFolds in order to maximize the amount of information we can gain from our limited data. In the following cell block, we have the non adjusted list and sale prices as our data. Once again, we perform linear regression, but this time using KFolds. The mean r-squared for this model is lower than the polynomial regression."
   ]
  },
  {
   "cell_type": "code",
   "execution_count": 18,
   "metadata": {},
   "outputs": [
    {
     "name": "stdout",
     "output_type": "stream",
     "text": [
      "R-squared value for raw price with 5-fold validation is: 0.93\n",
      "MSE value for raw price with 5-fold validation is: -178780326.8\n"
     ]
    }
   ],
   "source": [
    "X = national_df['median_list_price']\n",
    "y = national_df['median_sale_price']\n",
    "\n",
    "X_train, X_test, y_train, y_test = train_test_split(X, y, test_size=0.33, random_state=42)\n",
    "\n",
    "model = LinearRegression()\n",
    "folds = KFold(n_splits = 5, shuffle = True, random_state = 42)\n",
    "r2 = cross_val_score(model, np.array(X_train).reshape(-1,1), y_train, scoring='r2', cv=folds)\n",
    "mse = cross_val_score(model, np.array(X_train).reshape(-1,1), y_train, scoring='neg_mean_squared_error', cv=5)\n",
    "print(\"R-squared value for raw price with 5-fold validation is: \" + str(round(np.mean(r2), 2)))\n",
    "print(\"MSE value for raw price with 5-fold validation is: \" + str(round(np.mean(mse), 2)))"
   ]
  },
  {
   "cell_type": "markdown",
   "metadata": {},
   "source": [
    "### Adjusted List to Sale Prices KFolds Linear Regression\n",
    "Similar to how we used the inflation adjusted values in our other plots and models, we did the same for the KFolds linear regression. Like the results found in our polynomial regressions, the r-squared value in this model is also lower than the model that used the non adjusted values."
   ]
  },
  {
   "cell_type": "code",
   "execution_count": 19,
   "metadata": {
    "scrolled": true
   },
   "outputs": [
    {
     "name": "stdout",
     "output_type": "stream",
     "text": [
      "R-squared value for raw price with 5-fold validation is: 0.88\n",
      "MSE value for raw price with 5-fold validation is: -155762121.47\n"
     ]
    }
   ],
   "source": [
    "X = national_df['adjusted_median_list_price']\n",
    "y = national_df['adjusted_median_sale_price']\n",
    "\n",
    "X_train, X_test, y_train, y_test = train_test_split(X, y, test_size=0.33, random_state=42)\n",
    "     \n",
    "model = LinearRegression()\n",
    "folds = KFold(n_splits = 5, shuffle = True, random_state = 42)\n",
    "r2 = cross_val_score(model, np.array(X_train).reshape(-1,1), y_train, scoring='r2', cv=folds)\n",
    "mse = cross_val_score(model, np.array(X_train).reshape(-1,1), y_train, scoring='neg_mean_squared_error', cv=5)\n",
    "print(\"R-squared value for raw price with 5-fold validation is: \" + str(round(np.mean(r2), 2)))\n",
    "print(\"MSE value for raw price with 5-fold validation is: \" + str(round(np.mean(mse), 2)))"
   ]
  },
  {
   "cell_type": "markdown",
   "metadata": {},
   "source": [
    "### Future Plans\n",
    "* Going forward, we want to investigate the discrepancies found when using the inflation adjusted data compared to the non adjusted data.\n",
    "* More metrics for determining performance of a model\n",
    "* Currently, we are using the aggregate data at a national level, which is partly why there are only 123 rows. Later we want to use more granular data perhaps at a state level or even metro level. This will provide more data points along with different features that we will be able to use to better train our model."
   ]
  }
 ],
 "metadata": {
  "colab": {
   "collapsed_sections": [],
   "name": "Copy of COGS 118A Project.ipynb",
   "provenance": []
  },
  "interpreter": {
   "hash": "f0fe6b32e7b9c2992518221d3b0c2b214a79cc1f29307d29891c6885afb487cd"
  },
  "kernelspec": {
   "display_name": "Python 3 (ipykernel)",
   "language": "python",
   "name": "python3"
  },
  "language_info": {
   "codemirror_mode": {
    "name": "ipython",
    "version": 3
   },
   "file_extension": ".py",
   "mimetype": "text/x-python",
   "name": "python",
   "nbconvert_exporter": "python",
   "pygments_lexer": "ipython3",
   "version": "3.9.7"
  }
 },
 "nbformat": 4,
 "nbformat_minor": 1
}
