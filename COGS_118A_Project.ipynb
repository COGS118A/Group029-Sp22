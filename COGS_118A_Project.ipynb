{
 "cells": [
  {
   "cell_type": "code",
   "execution_count": 131,
   "metadata": {
    "id": "ywUPExlg5UUc"
   },
   "outputs": [],
   "source": [
    "#Importing Packages\n",
    "\n",
    "#Data\n",
    "import pandas as pd\n",
    "import numpy as np\n",
    "\n",
    "#ML Frameworks\n",
    "#scikit learn - library for predictions\n",
    "#statsmodels - library for models\n",
    "import sklearn as sk\n",
    "from sklearn.pipeline import make_pipeline\n",
    "from sklearn.preprocessing import PolynomialFeatures\n",
    "from sklearn.linear_model import LinearRegression\n",
    "from sklearn.model_selection import train_test_split\n",
    "from sklearn import  linear_model\n",
    "from sklearn.metrics import mean_squared_error, r2_score\n",
    "import statsmodels as sm\n",
    "from sklearn.model_selection import cross_val_score\n",
    "from sklearn.model_selection import KFold\n",
    "\n",
    "#Data Visualization\n",
    "import seaborn as sns\n",
    "import matplotlib.pyplot as plt\n"
   ]
  },
  {
   "cell_type": "markdown",
   "metadata": {
    "id": "ti1I6v2rCK2f"
   },
   "source": [
    "## Understanding Key Drivers of Price\n",
    "\n",
    "Real estate prices can be seperated effectively in to two distinct categories; **county and metro**. As the location itself acts as a key distinction between the average type, size and price of the property. \n",
    "\n",
    "To better understand the market demand, we want to examine the metrics that indicate the prices at which properties are being listed/sold in each particular region. \n",
    "\n",
    "The metrics that we want to look at are:\n",
    ">\n",
    " * 'property_type_id': id number indicating which type of property (i.e All Residences, Single Family Homes, Townhouses etc.)\n",
    " * 'year': year the observation\n",
    " * 'period_begin': start date\n",
    " * 'period_end': end date\n",
    " * 'period_duration': duration of the data record\n",
    " * 'median_sale_price': median sale price of homes sold\n",
    " * 'adjusted_median_sale_price': median sale price of homes sold adjusted based on inflation\n",
    " * 'median_list_price': median list price of homes\n",
    " * 'adjusted_median_list_price': median list price of homes sold adjusted based on inflation\n",
    " * 'avg_sale_to_list': ratio comparing the sale price and list price\n",
    " * 'median_sale_ppsf': median price per square foot of homes sold\n",
    " * 'adjusted_median_sale_ppsf': median price per square foot of homes sold adjusted by inflation\n",
    " * 'last_updated' : retreiving the latest updated data\n",
    " * 'average annual inflation' : an important factor when the comes to the valuation of USD when purchasing property.\n",
    "\n"
   ]
  },
  {
   "cell_type": "code",
   "execution_count": 132,
   "metadata": {
    "id": "Pu0rCfdcI2jp"
   },
   "outputs": [],
   "source": [
    "#Data Wrangling from Redfin\n",
    "path = './data/state_market_tracker.tsv000'\n",
    "state_df = pd.read_csv(path, sep = \"\\t\")\n"
   ]
  },
  {
   "cell_type": "code",
   "execution_count": 133,
   "metadata": {
    "colab": {
     "base_uri": "https://localhost:8080/",
     "height": 805
    },
    "id": "JK4zWF_VI88K",
    "outputId": "9d1215d9-c4b9-4772-bf0a-96e1eaf6bb91"
   },
   "outputs": [
    {
     "data": {
      "text/html": [
       "<div>\n",
       "<style scoped>\n",
       "    .dataframe tbody tr th:only-of-type {\n",
       "        vertical-align: middle;\n",
       "    }\n",
       "\n",
       "    .dataframe tbody tr th {\n",
       "        vertical-align: top;\n",
       "    }\n",
       "\n",
       "    .dataframe thead th {\n",
       "        text-align: right;\n",
       "    }\n",
       "</style>\n",
       "<table border=\"1\" class=\"dataframe\">\n",
       "  <thead>\n",
       "    <tr style=\"text-align: right;\">\n",
       "      <th></th>\n",
       "      <th>period_begin</th>\n",
       "      <th>period_end</th>\n",
       "      <th>period_duration</th>\n",
       "      <th>region_type</th>\n",
       "      <th>region_type_id</th>\n",
       "      <th>table_id</th>\n",
       "      <th>is_seasonally_adjusted</th>\n",
       "      <th>region</th>\n",
       "      <th>city</th>\n",
       "      <th>state</th>\n",
       "      <th>...</th>\n",
       "      <th>sold_above_list_yoy</th>\n",
       "      <th>price_drops</th>\n",
       "      <th>price_drops_mom</th>\n",
       "      <th>price_drops_yoy</th>\n",
       "      <th>off_market_in_two_weeks</th>\n",
       "      <th>off_market_in_two_weeks_mom</th>\n",
       "      <th>off_market_in_two_weeks_yoy</th>\n",
       "      <th>parent_metro_region</th>\n",
       "      <th>parent_metro_region_metro_code</th>\n",
       "      <th>last_updated</th>\n",
       "    </tr>\n",
       "  </thead>\n",
       "  <tbody>\n",
       "    <tr>\n",
       "      <th>0</th>\n",
       "      <td>2019-10-01</td>\n",
       "      <td>2019-10-31</td>\n",
       "      <td>30</td>\n",
       "      <td>state</td>\n",
       "      <td>4</td>\n",
       "      <td>32</td>\n",
       "      <td>f</td>\n",
       "      <td>South Dakota</td>\n",
       "      <td>NaN</td>\n",
       "      <td>South Dakota</td>\n",
       "      <td>...</td>\n",
       "      <td>0.080909</td>\n",
       "      <td>NaN</td>\n",
       "      <td>NaN</td>\n",
       "      <td>NaN</td>\n",
       "      <td>0.000000</td>\n",
       "      <td>0.000000</td>\n",
       "      <td>-0.055556</td>\n",
       "      <td>Midwest Region</td>\n",
       "      <td>NaN</td>\n",
       "      <td>2022-05-15 14:43:42</td>\n",
       "    </tr>\n",
       "    <tr>\n",
       "      <th>1</th>\n",
       "      <td>2017-09-01</td>\n",
       "      <td>2017-09-30</td>\n",
       "      <td>30</td>\n",
       "      <td>state</td>\n",
       "      <td>4</td>\n",
       "      <td>18</td>\n",
       "      <td>f</td>\n",
       "      <td>North Carolina</td>\n",
       "      <td>NaN</td>\n",
       "      <td>North Carolina</td>\n",
       "      <td>...</td>\n",
       "      <td>-0.022869</td>\n",
       "      <td>0.138728</td>\n",
       "      <td>0.002905</td>\n",
       "      <td>0.01191</td>\n",
       "      <td>0.205360</td>\n",
       "      <td>0.008044</td>\n",
       "      <td>-0.000662</td>\n",
       "      <td>South Region</td>\n",
       "      <td>NaN</td>\n",
       "      <td>2022-05-15 14:43:42</td>\n",
       "    </tr>\n",
       "    <tr>\n",
       "      <th>2</th>\n",
       "      <td>2018-08-01</td>\n",
       "      <td>2018-08-31</td>\n",
       "      <td>30</td>\n",
       "      <td>state</td>\n",
       "      <td>4</td>\n",
       "      <td>14</td>\n",
       "      <td>f</td>\n",
       "      <td>New Mexico</td>\n",
       "      <td>NaN</td>\n",
       "      <td>New Mexico</td>\n",
       "      <td>...</td>\n",
       "      <td>0.000000</td>\n",
       "      <td>0.250000</td>\n",
       "      <td>0.125000</td>\n",
       "      <td>NaN</td>\n",
       "      <td>1.000000</td>\n",
       "      <td>1.000000</td>\n",
       "      <td>1.000000</td>\n",
       "      <td>West Region</td>\n",
       "      <td>NaN</td>\n",
       "      <td>2022-05-15 14:43:42</td>\n",
       "    </tr>\n",
       "    <tr>\n",
       "      <th>3</th>\n",
       "      <td>2020-05-01</td>\n",
       "      <td>2020-05-31</td>\n",
       "      <td>30</td>\n",
       "      <td>state</td>\n",
       "      <td>4</td>\n",
       "      <td>10</td>\n",
       "      <td>f</td>\n",
       "      <td>New Hampshire</td>\n",
       "      <td>NaN</td>\n",
       "      <td>New Hampshire</td>\n",
       "      <td>...</td>\n",
       "      <td>-0.004521</td>\n",
       "      <td>0.169312</td>\n",
       "      <td>0.035979</td>\n",
       "      <td>-0.04176</td>\n",
       "      <td>0.365458</td>\n",
       "      <td>-0.051010</td>\n",
       "      <td>-0.059264</td>\n",
       "      <td>Northeast Region</td>\n",
       "      <td>NaN</td>\n",
       "      <td>2022-05-15 14:43:42</td>\n",
       "    </tr>\n",
       "    <tr>\n",
       "      <th>4</th>\n",
       "      <td>2015-05-01</td>\n",
       "      <td>2015-05-31</td>\n",
       "      <td>30</td>\n",
       "      <td>state</td>\n",
       "      <td>4</td>\n",
       "      <td>6</td>\n",
       "      <td>f</td>\n",
       "      <td>Nebraska</td>\n",
       "      <td>NaN</td>\n",
       "      <td>Nebraska</td>\n",
       "      <td>...</td>\n",
       "      <td>0.033369</td>\n",
       "      <td>0.211832</td>\n",
       "      <td>0.013414</td>\n",
       "      <td>NaN</td>\n",
       "      <td>0.547362</td>\n",
       "      <td>-0.031856</td>\n",
       "      <td>0.042059</td>\n",
       "      <td>Midwest Region</td>\n",
       "      <td>NaN</td>\n",
       "      <td>2022-05-15 14:43:42</td>\n",
       "    </tr>\n",
       "  </tbody>\n",
       "</table>\n",
       "<p>5 rows × 58 columns</p>\n",
       "</div>"
      ],
      "text/plain": [
       "  period_begin  period_end  period_duration region_type  region_type_id  \\\n",
       "0   2019-10-01  2019-10-31               30       state               4   \n",
       "1   2017-09-01  2017-09-30               30       state               4   \n",
       "2   2018-08-01  2018-08-31               30       state               4   \n",
       "3   2020-05-01  2020-05-31               30       state               4   \n",
       "4   2015-05-01  2015-05-31               30       state               4   \n",
       "\n",
       "   table_id is_seasonally_adjusted          region  city           state  ...  \\\n",
       "0        32                      f    South Dakota   NaN    South Dakota  ...   \n",
       "1        18                      f  North Carolina   NaN  North Carolina  ...   \n",
       "2        14                      f      New Mexico   NaN      New Mexico  ...   \n",
       "3        10                      f   New Hampshire   NaN   New Hampshire  ...   \n",
       "4         6                      f        Nebraska   NaN        Nebraska  ...   \n",
       "\n",
       "  sold_above_list_yoy price_drops  price_drops_mom  price_drops_yoy  \\\n",
       "0            0.080909         NaN              NaN              NaN   \n",
       "1           -0.022869    0.138728         0.002905          0.01191   \n",
       "2            0.000000    0.250000         0.125000              NaN   \n",
       "3           -0.004521    0.169312         0.035979         -0.04176   \n",
       "4            0.033369    0.211832         0.013414              NaN   \n",
       "\n",
       "   off_market_in_two_weeks  off_market_in_two_weeks_mom  \\\n",
       "0                 0.000000                     0.000000   \n",
       "1                 0.205360                     0.008044   \n",
       "2                 1.000000                     1.000000   \n",
       "3                 0.365458                    -0.051010   \n",
       "4                 0.547362                    -0.031856   \n",
       "\n",
       "   off_market_in_two_weeks_yoy  parent_metro_region  \\\n",
       "0                    -0.055556       Midwest Region   \n",
       "1                    -0.000662         South Region   \n",
       "2                     1.000000          West Region   \n",
       "3                    -0.059264     Northeast Region   \n",
       "4                     0.042059       Midwest Region   \n",
       "\n",
       "   parent_metro_region_metro_code         last_updated  \n",
       "0                             NaN  2022-05-15 14:43:42  \n",
       "1                             NaN  2022-05-15 14:43:42  \n",
       "2                             NaN  2022-05-15 14:43:42  \n",
       "3                             NaN  2022-05-15 14:43:42  \n",
       "4                             NaN  2022-05-15 14:43:42  \n",
       "\n",
       "[5 rows x 58 columns]"
      ]
     },
     "execution_count": 133,
     "metadata": {},
     "output_type": "execute_result"
    }
   ],
   "source": [
    "state_df.head()"
   ]
  },
  {
   "cell_type": "code",
   "execution_count": 134,
   "metadata": {
    "colab": {
     "base_uri": "https://localhost:8080/"
    },
    "id": "rpXKMHn6Kmvs",
    "outputId": "078e9038-6d0c-4f54-88b2-a98cf9c6edf7"
   },
   "outputs": [
    {
     "data": {
      "text/plain": [
       "Index(['period_begin', 'period_end', 'period_duration', 'region_type',\n",
       "       'region_type_id', 'table_id', 'is_seasonally_adjusted', 'region',\n",
       "       'city', 'state', 'state_code', 'property_type', 'property_type_id',\n",
       "       'median_sale_price', 'median_sale_price_mom', 'median_sale_price_yoy',\n",
       "       'median_list_price', 'median_list_price_mom', 'median_list_price_yoy',\n",
       "       'median_ppsf', 'median_ppsf_mom', 'median_ppsf_yoy', 'median_list_ppsf',\n",
       "       'median_list_ppsf_mom', 'median_list_ppsf_yoy', 'homes_sold',\n",
       "       'homes_sold_mom', 'homes_sold_yoy', 'pending_sales',\n",
       "       'pending_sales_mom', 'pending_sales_yoy', 'new_listings',\n",
       "       'new_listings_mom', 'new_listings_yoy', 'inventory', 'inventory_mom',\n",
       "       'inventory_yoy', 'months_of_supply', 'months_of_supply_mom',\n",
       "       'months_of_supply_yoy', 'median_dom', 'median_dom_mom',\n",
       "       'median_dom_yoy', 'avg_sale_to_list', 'avg_sale_to_list_mom',\n",
       "       'avg_sale_to_list_yoy', 'sold_above_list', 'sold_above_list_mom',\n",
       "       'sold_above_list_yoy', 'price_drops', 'price_drops_mom',\n",
       "       'price_drops_yoy', 'off_market_in_two_weeks',\n",
       "       'off_market_in_two_weeks_mom', 'off_market_in_two_weeks_yoy',\n",
       "       'parent_metro_region', 'parent_metro_region_metro_code',\n",
       "       'last_updated'],\n",
       "      dtype='object')"
      ]
     },
     "execution_count": 134,
     "metadata": {},
     "output_type": "execute_result"
    }
   ],
   "source": [
    "state_df.columns"
   ]
  },
  {
   "cell_type": "markdown",
   "metadata": {},
   "source": [
    "### Selecting California Transactions Only"
   ]
  },
  {
   "cell_type": "code",
   "execution_count": 135,
   "metadata": {},
   "outputs": [],
   "source": [
    "state_df = state_df[state_df['state'].isin(['California'])]"
   ]
  },
  {
   "cell_type": "markdown",
   "metadata": {},
   "source": [
    "### Introduce year column to each observation"
   ]
  },
  {
   "cell_type": "code",
   "execution_count": 136,
   "metadata": {},
   "outputs": [],
   "source": [
    "def year(str):\n",
    "    return int(str[:4])\n",
    "\n",
    "state_df = state_df.assign(year = state_df['period_begin'].apply(year))"
   ]
  },
  {
   "cell_type": "markdown",
   "metadata": {},
   "source": [
    "### Filter necessary informaton"
   ]
  },
  {
   "cell_type": "code",
   "execution_count": 137,
   "metadata": {
    "id": "ceywoOp6Kwp-"
   },
   "outputs": [],
   "source": [
    "state_df = state_df[['property_type_id','period_begin', 'period_end', 'year', 'period_duration' ,'median_list_price','median_sale_price', 'median_list_ppsf', 'avg_sale_to_list', 'last_updated']]"
   ]
  },
  {
   "cell_type": "code",
   "execution_count": 138,
   "metadata": {
    "colab": {
     "base_uri": "https://localhost:8080/",
     "height": 35
    },
    "id": "Qj0b8ZezJA2K",
    "outputId": "755bfe98-51ef-49f1-aa73-bdc570fc286c"
   },
   "outputs": [
    {
     "data": {
      "text/plain": [
       "'2022-05-15 14:43:42'"
      ]
     },
     "execution_count": 138,
     "metadata": {},
     "output_type": "execute_result"
    }
   ],
   "source": [
    "state_df['last_updated'].value_counts().index.tolist()[-1]"
   ]
  },
  {
   "cell_type": "code",
   "execution_count": 139,
   "metadata": {
    "colab": {
     "base_uri": "https://localhost:8080/"
    },
    "id": "AVqOUB8oYiVl",
    "outputId": "6a36b878-f9d9-4ca0-bd9a-fe6cd39ba397"
   },
   "outputs": [
    {
     "data": {
      "text/plain": [
       "2022-05-15 14:43:42    620\n",
       "Name: last_updated, dtype: int64"
      ]
     },
     "execution_count": 139,
     "metadata": {},
     "output_type": "execute_result"
    }
   ],
   "source": [
    "state_df['last_updated'].value_counts()"
   ]
  },
  {
   "cell_type": "code",
   "execution_count": 140,
   "metadata": {
    "id": "ekCyJUgvLODK"
   },
   "outputs": [
    {
     "data": {
      "text/html": [
       "<div>\n",
       "<style scoped>\n",
       "    .dataframe tbody tr th:only-of-type {\n",
       "        vertical-align: middle;\n",
       "    }\n",
       "\n",
       "    .dataframe tbody tr th {\n",
       "        vertical-align: top;\n",
       "    }\n",
       "\n",
       "    .dataframe thead th {\n",
       "        text-align: right;\n",
       "    }\n",
       "</style>\n",
       "<table border=\"1\" class=\"dataframe\">\n",
       "  <thead>\n",
       "    <tr style=\"text-align: right;\">\n",
       "      <th></th>\n",
       "      <th>property_type_id</th>\n",
       "      <th>period_begin</th>\n",
       "      <th>period_end</th>\n",
       "      <th>year</th>\n",
       "      <th>period_duration</th>\n",
       "      <th>median_list_price</th>\n",
       "      <th>median_sale_price</th>\n",
       "      <th>median_list_ppsf</th>\n",
       "      <th>avg_sale_to_list</th>\n",
       "      <th>last_updated</th>\n",
       "    </tr>\n",
       "  </thead>\n",
       "  <tbody>\n",
       "    <tr>\n",
       "      <th>6689</th>\n",
       "      <td>-1</td>\n",
       "      <td>2012-01-01</td>\n",
       "      <td>2012-01-31</td>\n",
       "      <td>2012</td>\n",
       "      <td>30</td>\n",
       "      <td>319300.0</td>\n",
       "      <td>283000</td>\n",
       "      <td>206.0</td>\n",
       "      <td>0.978339</td>\n",
       "      <td>2022-05-15 14:43:42</td>\n",
       "    </tr>\n",
       "    <tr>\n",
       "      <th>17433</th>\n",
       "      <td>-1</td>\n",
       "      <td>2012-02-01</td>\n",
       "      <td>2012-02-29</td>\n",
       "      <td>2012</td>\n",
       "      <td>30</td>\n",
       "      <td>336900.0</td>\n",
       "      <td>289300</td>\n",
       "      <td>212.0</td>\n",
       "      <td>0.980063</td>\n",
       "      <td>2022-05-15 14:43:42</td>\n",
       "    </tr>\n",
       "    <tr>\n",
       "      <th>1880</th>\n",
       "      <td>-1</td>\n",
       "      <td>2012-03-01</td>\n",
       "      <td>2012-03-31</td>\n",
       "      <td>2012</td>\n",
       "      <td>30</td>\n",
       "      <td>348400.0</td>\n",
       "      <td>307600</td>\n",
       "      <td>217.0</td>\n",
       "      <td>0.983163</td>\n",
       "      <td>2022-05-15 14:43:42</td>\n",
       "    </tr>\n",
       "    <tr>\n",
       "      <th>2872</th>\n",
       "      <td>-1</td>\n",
       "      <td>2012-04-01</td>\n",
       "      <td>2012-04-30</td>\n",
       "      <td>2012</td>\n",
       "      <td>30</td>\n",
       "      <td>360100.0</td>\n",
       "      <td>323400</td>\n",
       "      <td>225.0</td>\n",
       "      <td>0.986783</td>\n",
       "      <td>2022-05-15 14:43:42</td>\n",
       "    </tr>\n",
       "    <tr>\n",
       "      <th>11614</th>\n",
       "      <td>-1</td>\n",
       "      <td>2012-05-01</td>\n",
       "      <td>2012-05-31</td>\n",
       "      <td>2012</td>\n",
       "      <td>30</td>\n",
       "      <td>379900.0</td>\n",
       "      <td>331700</td>\n",
       "      <td>233.0</td>\n",
       "      <td>0.991622</td>\n",
       "      <td>2022-05-15 14:43:42</td>\n",
       "    </tr>\n",
       "  </tbody>\n",
       "</table>\n",
       "</div>"
      ],
      "text/plain": [
       "       property_type_id period_begin  period_end  year  period_duration  \\\n",
       "6689                 -1   2012-01-01  2012-01-31  2012               30   \n",
       "17433                -1   2012-02-01  2012-02-29  2012               30   \n",
       "1880                 -1   2012-03-01  2012-03-31  2012               30   \n",
       "2872                 -1   2012-04-01  2012-04-30  2012               30   \n",
       "11614                -1   2012-05-01  2012-05-31  2012               30   \n",
       "\n",
       "       median_list_price  median_sale_price  median_list_ppsf  \\\n",
       "6689            319300.0             283000             206.0   \n",
       "17433           336900.0             289300             212.0   \n",
       "1880            348400.0             307600             217.0   \n",
       "2872            360100.0             323400             225.0   \n",
       "11614           379900.0             331700             233.0   \n",
       "\n",
       "       avg_sale_to_list         last_updated  \n",
       "6689           0.978339  2022-05-15 14:43:42  \n",
       "17433          0.980063  2022-05-15 14:43:42  \n",
       "1880           0.983163  2022-05-15 14:43:42  \n",
       "2872           0.986783  2022-05-15 14:43:42  \n",
       "11614          0.991622  2022-05-15 14:43:42  "
      ]
     },
     "execution_count": 140,
     "metadata": {},
     "output_type": "execute_result"
    }
   ],
   "source": [
    "# property_type_id == -1; All residential homes\n",
    "state_df = state_df.loc[state_df['property_type_id'] == -1]\n",
    "\n",
    "#Removing Duplicate Entries, Leaving Latest Update\n",
    "state_df = state_df.loc[state_df['last_updated'] == '2022-05-15 14:43:42']\n",
    "#state_df = state_df.loc[state_df['last_updated'] == state_df['last_updated'].value_counts().index.tolist()[-1]]\n",
    "\n",
    "#Sorting by ascending order of entry period end date\n",
    "state_df.sort_values('period_end', inplace = True)\n",
    "\n",
    "state_df.head()\n"
   ]
  },
  {
   "cell_type": "markdown",
   "metadata": {},
   "source": [
    "### Introduce inflation-by-year Column and base_inflation column"
   ]
  },
  {
   "cell_type": "code",
   "execution_count": 141,
   "metadata": {
    "id": "Ky0RAzcTVMt9"
   },
   "outputs": [],
   "source": [
    "#Inflation Data\n",
    "url3 = 'https://raw.githubusercontent.com/ayiply/test_repo/main/inflation_data.csv'\n",
    "inflation_df = pd.read_csv(url3)\n",
    "\n",
    "inflation_df.columns\n",
    "inflation_df = inflation_df.rename({'inflation rate' : 'inf_rate'}, axis = 'columns' )\n",
    "\n",
    "inf_dict = dict(zip(inflation_df.year, inflation_df.inf_rate))\n",
    "\n",
    "inflation_df\n",
    "base_inflation = inflation_df[inflation_df['year'] > 2011]['amount'].tolist()\n",
    "base_inflation = [i/base_inflation[0] for i in base_inflation]\n",
    "base_inflation\n",
    "year_list = list(range(2012, 2023, 1))\n",
    "year_list\n",
    "\n",
    "def total_inflation(year):\n",
    "    for i in range(12):\n",
    "        if year == year_list[i]:\n",
    "            return round(base_inflation[i], 2)\n",
    "            \n",
    "state_df = state_df.assign(base_inflation = state_df['year'].apply(total_inflation))"
   ]
  },
  {
   "cell_type": "code",
   "execution_count": 142,
   "metadata": {
    "id": "qggyWk0DY0tL"
   },
   "outputs": [
    {
     "data": {
      "text/html": [
       "<div>\n",
       "<style scoped>\n",
       "    .dataframe tbody tr th:only-of-type {\n",
       "        vertical-align: middle;\n",
       "    }\n",
       "\n",
       "    .dataframe tbody tr th {\n",
       "        vertical-align: top;\n",
       "    }\n",
       "\n",
       "    .dataframe thead th {\n",
       "        text-align: right;\n",
       "    }\n",
       "</style>\n",
       "<table border=\"1\" class=\"dataframe\">\n",
       "  <thead>\n",
       "    <tr style=\"text-align: right;\">\n",
       "      <th></th>\n",
       "      <th>property_type_id</th>\n",
       "      <th>period_begin</th>\n",
       "      <th>period_end</th>\n",
       "      <th>year</th>\n",
       "      <th>period_duration</th>\n",
       "      <th>median_list_price</th>\n",
       "      <th>median_sale_price</th>\n",
       "      <th>median_list_ppsf</th>\n",
       "      <th>avg_sale_to_list</th>\n",
       "      <th>last_updated</th>\n",
       "      <th>base_inflation</th>\n",
       "      <th>inflation_by_year</th>\n",
       "    </tr>\n",
       "  </thead>\n",
       "  <tbody>\n",
       "    <tr>\n",
       "      <th>6689</th>\n",
       "      <td>-1</td>\n",
       "      <td>2012-01-01</td>\n",
       "      <td>2012-01-31</td>\n",
       "      <td>2012</td>\n",
       "      <td>30</td>\n",
       "      <td>319300.0</td>\n",
       "      <td>283000</td>\n",
       "      <td>206.0</td>\n",
       "      <td>0.978339</td>\n",
       "      <td>2022-05-15 14:43:42</td>\n",
       "      <td>1.0</td>\n",
       "      <td>0.02</td>\n",
       "    </tr>\n",
       "    <tr>\n",
       "      <th>17433</th>\n",
       "      <td>-1</td>\n",
       "      <td>2012-02-01</td>\n",
       "      <td>2012-02-29</td>\n",
       "      <td>2012</td>\n",
       "      <td>30</td>\n",
       "      <td>336900.0</td>\n",
       "      <td>289300</td>\n",
       "      <td>212.0</td>\n",
       "      <td>0.980063</td>\n",
       "      <td>2022-05-15 14:43:42</td>\n",
       "      <td>1.0</td>\n",
       "      <td>0.02</td>\n",
       "    </tr>\n",
       "    <tr>\n",
       "      <th>1880</th>\n",
       "      <td>-1</td>\n",
       "      <td>2012-03-01</td>\n",
       "      <td>2012-03-31</td>\n",
       "      <td>2012</td>\n",
       "      <td>30</td>\n",
       "      <td>348400.0</td>\n",
       "      <td>307600</td>\n",
       "      <td>217.0</td>\n",
       "      <td>0.983163</td>\n",
       "      <td>2022-05-15 14:43:42</td>\n",
       "      <td>1.0</td>\n",
       "      <td>0.02</td>\n",
       "    </tr>\n",
       "    <tr>\n",
       "      <th>2872</th>\n",
       "      <td>-1</td>\n",
       "      <td>2012-04-01</td>\n",
       "      <td>2012-04-30</td>\n",
       "      <td>2012</td>\n",
       "      <td>30</td>\n",
       "      <td>360100.0</td>\n",
       "      <td>323400</td>\n",
       "      <td>225.0</td>\n",
       "      <td>0.986783</td>\n",
       "      <td>2022-05-15 14:43:42</td>\n",
       "      <td>1.0</td>\n",
       "      <td>0.02</td>\n",
       "    </tr>\n",
       "    <tr>\n",
       "      <th>11614</th>\n",
       "      <td>-1</td>\n",
       "      <td>2012-05-01</td>\n",
       "      <td>2012-05-31</td>\n",
       "      <td>2012</td>\n",
       "      <td>30</td>\n",
       "      <td>379900.0</td>\n",
       "      <td>331700</td>\n",
       "      <td>233.0</td>\n",
       "      <td>0.991622</td>\n",
       "      <td>2022-05-15 14:43:42</td>\n",
       "      <td>1.0</td>\n",
       "      <td>0.02</td>\n",
       "    </tr>\n",
       "  </tbody>\n",
       "</table>\n",
       "</div>"
      ],
      "text/plain": [
       "       property_type_id period_begin  period_end  year  period_duration  \\\n",
       "6689                 -1   2012-01-01  2012-01-31  2012               30   \n",
       "17433                -1   2012-02-01  2012-02-29  2012               30   \n",
       "1880                 -1   2012-03-01  2012-03-31  2012               30   \n",
       "2872                 -1   2012-04-01  2012-04-30  2012               30   \n",
       "11614                -1   2012-05-01  2012-05-31  2012               30   \n",
       "\n",
       "       median_list_price  median_sale_price  median_list_ppsf  \\\n",
       "6689            319300.0             283000             206.0   \n",
       "17433           336900.0             289300             212.0   \n",
       "1880            348400.0             307600             217.0   \n",
       "2872            360100.0             323400             225.0   \n",
       "11614           379900.0             331700             233.0   \n",
       "\n",
       "       avg_sale_to_list         last_updated  base_inflation  \\\n",
       "6689           0.978339  2022-05-15 14:43:42             1.0   \n",
       "17433          0.980063  2022-05-15 14:43:42             1.0   \n",
       "1880           0.983163  2022-05-15 14:43:42             1.0   \n",
       "2872           0.986783  2022-05-15 14:43:42             1.0   \n",
       "11614          0.991622  2022-05-15 14:43:42             1.0   \n",
       "\n",
       "       inflation_by_year  \n",
       "6689                0.02  \n",
       "17433               0.02  \n",
       "1880                0.02  \n",
       "2872                0.02  \n",
       "11614               0.02  "
      ]
     },
     "execution_count": 142,
     "metadata": {},
     "output_type": "execute_result"
    }
   ],
   "source": [
    "#List for inflation rates by year in period_begin\n",
    "inflation_column = []\n",
    "\n",
    "#converting period_begins column into iterable list\n",
    "ser = pd.DataFrame(state_df, columns = ['period_begin'])\n",
    "dates = ser.squeeze()\n",
    "date_list = dates.to_list()\n",
    "\n",
    "#assigning annual inflation rate based on year found in list of dates' strings\n",
    "for key in inf_dict:\n",
    "  for entry in date_list:\n",
    "    if str(key) in entry:\n",
    "      inflation_column.append(inf_dict[key])\n",
    "  \n",
    "#appending column to state_df\n",
    "state_df['inflation_by_year'] = inflation_column\n",
    "\n",
    "state_df.head()"
   ]
  },
  {
   "cell_type": "markdown",
   "metadata": {},
   "source": [
    "### Calculate Adjusted Price"
   ]
  },
  {
   "cell_type": "code",
   "execution_count": 143,
   "metadata": {},
   "outputs": [
    {
     "data": {
      "text/html": [
       "<div>\n",
       "<style scoped>\n",
       "    .dataframe tbody tr th:only-of-type {\n",
       "        vertical-align: middle;\n",
       "    }\n",
       "\n",
       "    .dataframe tbody tr th {\n",
       "        vertical-align: top;\n",
       "    }\n",
       "\n",
       "    .dataframe thead th {\n",
       "        text-align: right;\n",
       "    }\n",
       "</style>\n",
       "<table border=\"1\" class=\"dataframe\">\n",
       "  <thead>\n",
       "    <tr style=\"text-align: right;\">\n",
       "      <th></th>\n",
       "      <th>property_type_id</th>\n",
       "      <th>period_begin</th>\n",
       "      <th>period_end</th>\n",
       "      <th>year</th>\n",
       "      <th>period_duration</th>\n",
       "      <th>median_list_price</th>\n",
       "      <th>median_sale_price</th>\n",
       "      <th>median_list_ppsf</th>\n",
       "      <th>avg_sale_to_list</th>\n",
       "      <th>last_updated</th>\n",
       "      <th>base_inflation</th>\n",
       "      <th>inflation_by_year</th>\n",
       "      <th>adjusted_median_list_price</th>\n",
       "      <th>adjusted_median_sale_price</th>\n",
       "      <th>adjusted_median_list_ppsf</th>\n",
       "    </tr>\n",
       "  </thead>\n",
       "  <tbody>\n",
       "    <tr>\n",
       "      <th>6689</th>\n",
       "      <td>-1</td>\n",
       "      <td>2012-01-01</td>\n",
       "      <td>2012-01-31</td>\n",
       "      <td>2012</td>\n",
       "      <td>30</td>\n",
       "      <td>319300.0</td>\n",
       "      <td>283000</td>\n",
       "      <td>206.0</td>\n",
       "      <td>0.978339</td>\n",
       "      <td>2022-05-15 14:43:42</td>\n",
       "      <td>1.0</td>\n",
       "      <td>0.02</td>\n",
       "      <td>319300.0</td>\n",
       "      <td>283000.0</td>\n",
       "      <td>206.0</td>\n",
       "    </tr>\n",
       "    <tr>\n",
       "      <th>17433</th>\n",
       "      <td>-1</td>\n",
       "      <td>2012-02-01</td>\n",
       "      <td>2012-02-29</td>\n",
       "      <td>2012</td>\n",
       "      <td>30</td>\n",
       "      <td>336900.0</td>\n",
       "      <td>289300</td>\n",
       "      <td>212.0</td>\n",
       "      <td>0.980063</td>\n",
       "      <td>2022-05-15 14:43:42</td>\n",
       "      <td>1.0</td>\n",
       "      <td>0.02</td>\n",
       "      <td>336900.0</td>\n",
       "      <td>289300.0</td>\n",
       "      <td>212.0</td>\n",
       "    </tr>\n",
       "    <tr>\n",
       "      <th>1880</th>\n",
       "      <td>-1</td>\n",
       "      <td>2012-03-01</td>\n",
       "      <td>2012-03-31</td>\n",
       "      <td>2012</td>\n",
       "      <td>30</td>\n",
       "      <td>348400.0</td>\n",
       "      <td>307600</td>\n",
       "      <td>217.0</td>\n",
       "      <td>0.983163</td>\n",
       "      <td>2022-05-15 14:43:42</td>\n",
       "      <td>1.0</td>\n",
       "      <td>0.02</td>\n",
       "      <td>348400.0</td>\n",
       "      <td>307600.0</td>\n",
       "      <td>217.0</td>\n",
       "    </tr>\n",
       "    <tr>\n",
       "      <th>2872</th>\n",
       "      <td>-1</td>\n",
       "      <td>2012-04-01</td>\n",
       "      <td>2012-04-30</td>\n",
       "      <td>2012</td>\n",
       "      <td>30</td>\n",
       "      <td>360100.0</td>\n",
       "      <td>323400</td>\n",
       "      <td>225.0</td>\n",
       "      <td>0.986783</td>\n",
       "      <td>2022-05-15 14:43:42</td>\n",
       "      <td>1.0</td>\n",
       "      <td>0.02</td>\n",
       "      <td>360100.0</td>\n",
       "      <td>323400.0</td>\n",
       "      <td>225.0</td>\n",
       "    </tr>\n",
       "    <tr>\n",
       "      <th>11614</th>\n",
       "      <td>-1</td>\n",
       "      <td>2012-05-01</td>\n",
       "      <td>2012-05-31</td>\n",
       "      <td>2012</td>\n",
       "      <td>30</td>\n",
       "      <td>379900.0</td>\n",
       "      <td>331700</td>\n",
       "      <td>233.0</td>\n",
       "      <td>0.991622</td>\n",
       "      <td>2022-05-15 14:43:42</td>\n",
       "      <td>1.0</td>\n",
       "      <td>0.02</td>\n",
       "      <td>379900.0</td>\n",
       "      <td>331700.0</td>\n",
       "      <td>233.0</td>\n",
       "    </tr>\n",
       "  </tbody>\n",
       "</table>\n",
       "</div>"
      ],
      "text/plain": [
       "       property_type_id period_begin  period_end  year  period_duration  \\\n",
       "6689                 -1   2012-01-01  2012-01-31  2012               30   \n",
       "17433                -1   2012-02-01  2012-02-29  2012               30   \n",
       "1880                 -1   2012-03-01  2012-03-31  2012               30   \n",
       "2872                 -1   2012-04-01  2012-04-30  2012               30   \n",
       "11614                -1   2012-05-01  2012-05-31  2012               30   \n",
       "\n",
       "       median_list_price  median_sale_price  median_list_ppsf  \\\n",
       "6689            319300.0             283000             206.0   \n",
       "17433           336900.0             289300             212.0   \n",
       "1880            348400.0             307600             217.0   \n",
       "2872            360100.0             323400             225.0   \n",
       "11614           379900.0             331700             233.0   \n",
       "\n",
       "       avg_sale_to_list         last_updated  base_inflation  \\\n",
       "6689           0.978339  2022-05-15 14:43:42             1.0   \n",
       "17433          0.980063  2022-05-15 14:43:42             1.0   \n",
       "1880           0.983163  2022-05-15 14:43:42             1.0   \n",
       "2872           0.986783  2022-05-15 14:43:42             1.0   \n",
       "11614          0.991622  2022-05-15 14:43:42             1.0   \n",
       "\n",
       "       inflation_by_year  adjusted_median_list_price  \\\n",
       "6689                0.02                    319300.0   \n",
       "17433               0.02                    336900.0   \n",
       "1880                0.02                    348400.0   \n",
       "2872                0.02                    360100.0   \n",
       "11614               0.02                    379900.0   \n",
       "\n",
       "       adjusted_median_sale_price  adjusted_median_list_ppsf  \n",
       "6689                     283000.0                      206.0  \n",
       "17433                    289300.0                      212.0  \n",
       "1880                     307600.0                      217.0  \n",
       "2872                     323400.0                      225.0  \n",
       "11614                    331700.0                      233.0  "
      ]
     },
     "execution_count": 143,
     "metadata": {},
     "output_type": "execute_result"
    }
   ],
   "source": [
    "state_df = state_df.assign(adjusted_median_list_price = state_df['median_list_price'] / state_df['base_inflation'])\n",
    "state_df = state_df.assign(adjusted_median_sale_price = state_df['median_sale_price'] / state_df['base_inflation'])\n",
    "state_df = state_df.assign(adjusted_median_list_ppsf = state_df['median_list_ppsf'] / state_df['base_inflation'])\n",
    "#state_df = state_df[['property_type_id', 'year', 'median_list_price', 'adjusted_median_list_price', 'median_sale_price', 'adjusted_median_sale_price', 'median_list_ppsf', 'adjusted_median_list_ppsf', 'base_inflation', 'inflation_by_year']]\n",
    "state_df.head()"
   ]
  },
  {
   "cell_type": "markdown",
   "metadata": {},
   "source": [
    "### Get aggregating statistics of state_df"
   ]
  },
  {
   "cell_type": "code",
   "execution_count": 144,
   "metadata": {},
   "outputs": [
    {
     "data": {
      "text/html": [
       "<div>\n",
       "<style scoped>\n",
       "    .dataframe tbody tr th:only-of-type {\n",
       "        vertical-align: middle;\n",
       "    }\n",
       "\n",
       "    .dataframe tbody tr th {\n",
       "        vertical-align: top;\n",
       "    }\n",
       "\n",
       "    .dataframe thead th {\n",
       "        text-align: right;\n",
       "    }\n",
       "</style>\n",
       "<table border=\"1\" class=\"dataframe\">\n",
       "  <thead>\n",
       "    <tr style=\"text-align: right;\">\n",
       "      <th></th>\n",
       "      <th>property_type_id</th>\n",
       "      <th>year</th>\n",
       "      <th>period_duration</th>\n",
       "      <th>median_list_price</th>\n",
       "      <th>median_sale_price</th>\n",
       "      <th>median_list_ppsf</th>\n",
       "      <th>avg_sale_to_list</th>\n",
       "      <th>base_inflation</th>\n",
       "      <th>inflation_by_year</th>\n",
       "      <th>adjusted_median_list_price</th>\n",
       "      <th>adjusted_median_sale_price</th>\n",
       "      <th>adjusted_median_list_ppsf</th>\n",
       "    </tr>\n",
       "  </thead>\n",
       "  <tbody>\n",
       "    <tr>\n",
       "      <th>count</th>\n",
       "      <td>124.0</td>\n",
       "      <td>124.000000</td>\n",
       "      <td>124.0</td>\n",
       "      <td>124.000000</td>\n",
       "      <td>124.000000</td>\n",
       "      <td>124.000000</td>\n",
       "      <td>124.000000</td>\n",
       "      <td>124.000000</td>\n",
       "      <td>124.000000</td>\n",
       "      <td>124.000000</td>\n",
       "      <td>124.000000</td>\n",
       "      <td>124.000000</td>\n",
       "    </tr>\n",
       "    <tr>\n",
       "      <th>mean</th>\n",
       "      <td>-1.0</td>\n",
       "      <td>2016.677419</td>\n",
       "      <td>30.0</td>\n",
       "      <td>534153.225806</td>\n",
       "      <td>522845.161290</td>\n",
       "      <td>331.443548</td>\n",
       "      <td>1.002785</td>\n",
       "      <td>1.076129</td>\n",
       "      <td>0.019677</td>\n",
       "      <td>492129.719172</td>\n",
       "      <td>481264.172180</td>\n",
       "      <td>305.446089</td>\n",
       "    </tr>\n",
       "    <tr>\n",
       "      <th>std</th>\n",
       "      <td>0.0</td>\n",
       "      <td>3.000131</td>\n",
       "      <td>0.0</td>\n",
       "      <td>115635.931651</td>\n",
       "      <td>123661.674798</td>\n",
       "      <td>69.813259</td>\n",
       "      <td>0.014425</td>\n",
       "      <td>0.063588</td>\n",
       "      <td>0.015404</td>\n",
       "      <td>78548.770657</td>\n",
       "      <td>86540.256386</td>\n",
       "      <td>46.663154</td>\n",
       "    </tr>\n",
       "    <tr>\n",
       "      <th>min</th>\n",
       "      <td>-1.0</td>\n",
       "      <td>2012.000000</td>\n",
       "      <td>30.0</td>\n",
       "      <td>319300.000000</td>\n",
       "      <td>283000.000000</td>\n",
       "      <td>206.000000</td>\n",
       "      <td>0.978339</td>\n",
       "      <td>1.000000</td>\n",
       "      <td>0.000000</td>\n",
       "      <td>319300.000000</td>\n",
       "      <td>283000.000000</td>\n",
       "      <td>206.000000</td>\n",
       "    </tr>\n",
       "    <tr>\n",
       "      <th>25%</th>\n",
       "      <td>-1.0</td>\n",
       "      <td>2014.000000</td>\n",
       "      <td>30.0</td>\n",
       "      <td>442500.000000</td>\n",
       "      <td>436275.000000</td>\n",
       "      <td>277.500000</td>\n",
       "      <td>0.994335</td>\n",
       "      <td>1.030000</td>\n",
       "      <td>0.010000</td>\n",
       "      <td>430037.969816</td>\n",
       "      <td>423567.961165</td>\n",
       "      <td>269.506392</td>\n",
       "    </tr>\n",
       "    <tr>\n",
       "      <th>50%</th>\n",
       "      <td>-1.0</td>\n",
       "      <td>2017.000000</td>\n",
       "      <td>30.0</td>\n",
       "      <td>525000.000000</td>\n",
       "      <td>511200.000000</td>\n",
       "      <td>326.500000</td>\n",
       "      <td>0.999185</td>\n",
       "      <td>1.070000</td>\n",
       "      <td>0.020000</td>\n",
       "      <td>494250.111259</td>\n",
       "      <td>480566.978193</td>\n",
       "      <td>304.607465</td>\n",
       "    </tr>\n",
       "    <tr>\n",
       "      <th>75%</th>\n",
       "      <td>-1.0</td>\n",
       "      <td>2019.000000</td>\n",
       "      <td>30.0</td>\n",
       "      <td>608775.000000</td>\n",
       "      <td>583625.000000</td>\n",
       "      <td>370.500000</td>\n",
       "      <td>1.004836</td>\n",
       "      <td>1.110000</td>\n",
       "      <td>0.020000</td>\n",
       "      <td>550342.796925</td>\n",
       "      <td>529495.412844</td>\n",
       "      <td>334.600552</td>\n",
       "    </tr>\n",
       "    <tr>\n",
       "      <th>max</th>\n",
       "      <td>-1.0</td>\n",
       "      <td>2022.000000</td>\n",
       "      <td>30.0</td>\n",
       "      <td>808500.000000</td>\n",
       "      <td>850700.000000</td>\n",
       "      <td>497.000000</td>\n",
       "      <td>1.058954</td>\n",
       "      <td>1.260000</td>\n",
       "      <td>0.070000</td>\n",
       "      <td>641666.666667</td>\n",
       "      <td>675158.730159</td>\n",
       "      <td>394.444444</td>\n",
       "    </tr>\n",
       "  </tbody>\n",
       "</table>\n",
       "</div>"
      ],
      "text/plain": [
       "       property_type_id         year  period_duration  median_list_price  \\\n",
       "count             124.0   124.000000            124.0         124.000000   \n",
       "mean               -1.0  2016.677419             30.0      534153.225806   \n",
       "std                 0.0     3.000131              0.0      115635.931651   \n",
       "min                -1.0  2012.000000             30.0      319300.000000   \n",
       "25%                -1.0  2014.000000             30.0      442500.000000   \n",
       "50%                -1.0  2017.000000             30.0      525000.000000   \n",
       "75%                -1.0  2019.000000             30.0      608775.000000   \n",
       "max                -1.0  2022.000000             30.0      808500.000000   \n",
       "\n",
       "       median_sale_price  median_list_ppsf  avg_sale_to_list  base_inflation  \\\n",
       "count         124.000000        124.000000        124.000000      124.000000   \n",
       "mean       522845.161290        331.443548          1.002785        1.076129   \n",
       "std        123661.674798         69.813259          0.014425        0.063588   \n",
       "min        283000.000000        206.000000          0.978339        1.000000   \n",
       "25%        436275.000000        277.500000          0.994335        1.030000   \n",
       "50%        511200.000000        326.500000          0.999185        1.070000   \n",
       "75%        583625.000000        370.500000          1.004836        1.110000   \n",
       "max        850700.000000        497.000000          1.058954        1.260000   \n",
       "\n",
       "       inflation_by_year  adjusted_median_list_price  \\\n",
       "count         124.000000                  124.000000   \n",
       "mean            0.019677               492129.719172   \n",
       "std             0.015404                78548.770657   \n",
       "min             0.000000               319300.000000   \n",
       "25%             0.010000               430037.969816   \n",
       "50%             0.020000               494250.111259   \n",
       "75%             0.020000               550342.796925   \n",
       "max             0.070000               641666.666667   \n",
       "\n",
       "       adjusted_median_sale_price  adjusted_median_list_ppsf  \n",
       "count                  124.000000                 124.000000  \n",
       "mean                481264.172180                 305.446089  \n",
       "std                  86540.256386                  46.663154  \n",
       "min                 283000.000000                 206.000000  \n",
       "25%                 423567.961165                 269.506392  \n",
       "50%                 480566.978193                 304.607465  \n",
       "75%                 529495.412844                 334.600552  \n",
       "max                 675158.730159                 394.444444  "
      ]
     },
     "execution_count": 144,
     "metadata": {},
     "output_type": "execute_result"
    }
   ],
   "source": [
    "state_df.describe()"
   ]
  },
  {
   "cell_type": "markdown",
   "metadata": {
    "id": "Qw845-CDCWIp"
   },
   "source": [
    "# **Notes for the team:** \n",
    "So the state_df DataFrame contains aggregate values for all residential homes across the US. Potentially if we wanted to look at specific states (like California, Washington, etc) there are more data for location specific metrics which we can further investigate. "
   ]
  },
  {
   "cell_type": "markdown",
   "metadata": {},
   "source": [
    "### Median List to Sale Price\n",
    "We plotted the median list price against the median sale price to see if there was a correlation between the two. Based off the plot, we found that typically the final sale price is lower than the initial list price. To see if inflation had any effect, we adjusted the list and sale prices for inflation and plotted them on the same graph. We found that the trend stayed the same even after the adjustment."
   ]
  },
  {
   "cell_type": "code",
   "execution_count": 146,
   "metadata": {},
   "outputs": [
    {
     "data": {
      "text/plain": [
       "[Text(0.5, 0, 'List Price'), Text(0, 0.5, 'Sale Price')]"
      ]
     },
     "execution_count": 146,
     "metadata": {},
     "output_type": "execute_result"
    },
    {
     "data": {
      "image/png": "[encoded data removed]",
      "text/plain": [
       "<Figure size 720x720 with 1 Axes>"
      ]
     },
     "metadata": {
      "needs_background": "light"
     },
     "output_type": "display_data"
    }
   ],
   "source": [
    "fig_price_diff, ax_price_diff = plt.subplots(figsize=(10,10))\n",
    "sns.regplot(x = \"median_list_price\", y = \"median_sale_price\", data = state_df, fit_reg=False)\n",
    "sns.regplot(x = \"adjusted_median_list_price\", y = \"adjusted_median_sale_price\", data = state_df, fit_reg=False)\n",
    "\n",
    "ax_price_diff.legend(labels = [\"Non Adjusted Median Price\",\"Adjusted Median Price\"])\n",
    "ax_price_diff.set(xlabel = \"List Price\", ylabel = \"Sale Price\")"
   ]
  },
  {
   "cell_type": "markdown",
   "metadata": {},
   "source": [
    "### Median List Price Per Square Foot (PPSF)\n",
    "In this figure, we plotted the median list price per square foot over time. Unsurprisingly, the prices increased as time progressed, but it is worth noting that the largest increases per year are from 2020 to 2022. This is likely do to the effects of the world wide pandemic. In addition, we plotted the same values adjusted for inflation and found that the trend was largely similar. However, one notable difference is that some of the adjusted values in 2020, namely the highest three values are now more expensive then the lowest value in 2021. When in the non adjusted plot, the lowest value in 2021, is greater than the highest value in 2020. This may be do to how we calculated for inflation. More investigation is needed to see if it is a trend in the data or a mistake with how we adjusted for inflation."
   ]
  },
  {
   "cell_type": "code",
   "execution_count": 147,
   "metadata": {},
   "outputs": [
    {
     "data": {
      "text/plain": [
       "[Text(0.5, 0, 'Year'), Text(0, 0.5, 'Median List PPSF')]"
      ]
     },
     "execution_count": 147,
     "metadata": {},
     "output_type": "execute_result"
    },
    {
     "data": {
      "image/png": "[encoded data removed]",
      "text/plain": [
       "<Figure size 720x720 with 1 Axes>"
      ]
     },
     "metadata": {
      "needs_background": "light"
     },
     "output_type": "display_data"
    }
   ],
   "source": [
    "fig_ppsf, ax_ppsf = plt.subplots(figsize=(10,10))\n",
    "sns.regplot(x = \"year\", y = \"median_list_ppsf\", data = state_df, fit_reg=False)\n",
    "sns.regplot(x = \"year\", y = \"adjusted_median_list_ppsf\", data = state_df, fit_reg=False)\n",
    "\n",
    "ax_ppsf.legend(labels = [\"Non Adjusted Median PPSF\",\"Adjusted Median PPSF\"])\n",
    "ax_ppsf.set(xlabel = \"Year\", ylabel = \"Median List PPSF\")"
   ]
  },
  {
   "cell_type": "markdown",
   "metadata": {},
   "source": [
    "### Non Adjusted Prices Polynomial Regression\n",
    "We trained a polynomial regression model on the list and sale prices to predict final sale prices based on the initial list price. We started with determining the number of degrees that would have the best accuracy. To measure the accuracy, we used r-squared. The degrees we tested were: 1, 2, 3, 6, 10, and 20. Looking at the figure and r-squared results, it appears that degrees 3 and 6 have the highest r-squared value of 0.95. This tells us that these would be a good number of features to include to have the most accurate algorithm. Given that there are two possibilities between 3 and 6 degrees, we will later determine if either value leads to a better r-squared value."
   ]
  },
  {
   "cell_type": "code",
   "execution_count": 148,
   "metadata": {},
   "outputs": [
    {
     "name": "stdout",
     "output_type": "stream",
     "text": [
      "R-squared values: \n",
      "\n",
      "Polynomial degree 1: R-squared Score = 0.954\n",
      "Polynomial degree 2: R-squared Score = 0.955\n",
      "Polynomial degree 3: R-squared Score = 0.961\n",
      "Polynomial degree 6: R-squared Score = 0.954\n",
      "Polynomial degree 10: R-squared Score = 0.922\n",
      "Polynomial degree 20: R-squared Score = 0.774\n"
     ]
    },
    {
     "data": {
      "image/png": "[encoded data removed]",
      "text/plain": [
       "<Figure size 720x720 with 1 Axes>"
      ]
     },
     "metadata": {
      "needs_background": "light"
     },
     "output_type": "display_data"
    }
   ],
   "source": [
    "X = state_df['median_list_price']\n",
    "y = state_df['median_sale_price']\n",
    "\n",
    "X_train, X_test, y_train, y_test = train_test_split(\n",
    "     X, y, test_size=0.33, random_state=42)\n",
    "     \n",
    "\n",
    "sorted_index = np.argsort(X_train)\n",
    "X_train = X_train.to_numpy()[sorted_index]\n",
    "y_train = y_train.to_numpy()[sorted_index]\n",
    "\n",
    "sorted_index = np.argsort(X_test)\n",
    "X_test = X_test.to_numpy()[sorted_index]\n",
    "y_test = y_test.to_numpy()[sorted_index]\n",
    "\n",
    "degrees = [1, 2, 3, 6, 10, 20]\n",
    "\n",
    "y_pred = np.zeros((len(X_train), len(degrees)))\n",
    "\n",
    "for i, degree in enumerate(degrees):\n",
    "    \n",
    "    # make pipeline: create features, then feed them to linear_reg model\n",
    "    model = make_pipeline(PolynomialFeatures(degree), LinearRegression())\n",
    "    model.fit(np.array(X_train).reshape(-1,1), y_train)\n",
    "    \n",
    "    # predict on test and train data\n",
    "    # store the predictions of each degree in the corresponding column\n",
    "    y_pred[:, i] = model.predict(np.array(X_train).reshape(-1,1))\n",
    "    \n",
    "plt.figure(figsize=(10, 10))\n",
    "\n",
    "plt.scatter(X_train, y_train)\n",
    "plt.yscale('log')\n",
    "plt.title(\"Raw price\")\n",
    "for i, degree in enumerate(degrees):    \n",
    "    plt.plot(X_train, y_pred[:, i], label=f'Degree = {str(degree)}')\n",
    "    plt.legend(loc='upper left')\n",
    "    \n",
    "print(\"R-squared values: \\n\")\n",
    "for i, degree in enumerate(degrees):\n",
    "    train_r2 = round(sk.metrics.r2_score(y_train, y_pred[:, i]), 3)\n",
    "    print(\"Polynomial degree {0}: R-squared Score = {1}\".format(degree, train_r2)) \n",
    "                    "
   ]
  },
  {
   "cell_type": "markdown",
   "metadata": {},
   "source": [
    "### Adjusted List to Sale Prices Polynomial Regression\n",
    "Similar to the non adjusted list to sale price polynomial regression, we performed the same process, but with the values adjusted for inflation. We found that the r-squared value ended up being lower than the non adjusted sale and list price values. Currently, we are not entirely certain as to why this is the case. Not only are the r-squared values lower, the difference between the different number of features is also much smaller as well."
   ]
  },
  {
   "cell_type": "code",
   "execution_count": 149,
   "metadata": {},
   "outputs": [
    {
     "name": "stdout",
     "output_type": "stream",
     "text": [
      "R-squared values: \n",
      "\n",
      "Polynomial degree 1: R-squared Score = 0.921\n",
      "Polynomial degree 2: R-squared Score = 0.921\n",
      "Polynomial degree 3: R-squared Score = 0.936\n",
      "Polynomial degree 6: R-squared Score = 0.936\n",
      "Polynomial degree 10: R-squared Score = 0.92\n",
      "Polynomial degree 20: R-squared Score = 0.797\n"
     ]
    },
    {
     "data": {
      "image/png": "[encoded data removed]",
      "text/plain": [
       "<Figure size 720x720 with 1 Axes>"
      ]
     },
     "metadata": {
      "needs_background": "light"
     },
     "output_type": "display_data"
    }
   ],
   "source": [
    "X = state_df['adjusted_median_list_price']\n",
    "y = state_df['adjusted_median_sale_price']\n",
    "\n",
    "X_train, X_test, y_train, y_test = train_test_split(\n",
    "     X, y, test_size=0.33, random_state=42)\n",
    "     \n",
    "\n",
    "sorted_index = np.argsort(X_train)\n",
    "X_train = X_train.to_numpy()[sorted_index]\n",
    "y_train = y_train.to_numpy()[sorted_index]\n",
    "\n",
    "sorted_index = np.argsort(X_test)\n",
    "X_test = X_test.to_numpy()[sorted_index]\n",
    "y_test = y_test.to_numpy()[sorted_index]\n",
    "\n",
    "degrees = [1, 2, 3, 6, 10, 20]\n",
    "\n",
    "y_pred = np.zeros((len(X_train), len(degrees)))\n",
    "\n",
    "for i, degree in enumerate(degrees):\n",
    "    \n",
    "    # make pipeline: create features, then feed them to linear_reg model\n",
    "    model = make_pipeline(PolynomialFeatures(degree), LinearRegression())\n",
    "    model.fit(np.array(X_train).reshape(-1,1), y_train)\n",
    "    \n",
    "    # predict on test and train data\n",
    "    # store the predictions of each degree in the corresponding column\n",
    "    y_pred[:, i] = model.predict(np.array(X_train).reshape(-1,1))\n",
    "    \n",
    "plt.figure(figsize=(10, 10))\n",
    "\n",
    "plt.scatter(X_train, y_train)\n",
    "plt.yscale('log')\n",
    "plt.title(\"Adjusted Price\")\n",
    "for i, degree in enumerate(degrees):    \n",
    "    plt.plot(X_train, y_pred[:, i], label=f'Degree = {str(degree)}')\n",
    "    plt.legend(loc='upper left')\n",
    "    \n",
    "print(\"R-squared values: \\n\")\n",
    "for i, degree in enumerate(degrees):\n",
    "    train_r2 = round(sk.metrics.r2_score(y_train, y_pred[:, i]), 3)\n",
    "    print(\"Polynomial degree {0}: R-squared Score = {1}\".format(degree, train_r2)) \n",
    "                                  "
   ]
  },
  {
   "cell_type": "markdown",
   "metadata": {},
   "source": [
    "### Non Adjusted Prices KFolds Linear Regression\n",
    "Since we are currently only working with 123 data points, we decided to use KFolds in order to maximize the amount of information we can gain from our limited data. In the following cell block, we have the non adjusted list and sale prices as our data. Once again, we perform linear regression, but this time using KFolds. The mean r-squared for this model is lower than the polynomial regression."
   ]
  },
  {
   "cell_type": "code",
   "execution_count": 150,
   "metadata": {},
   "outputs": [
    {
     "name": "stdout",
     "output_type": "stream",
     "text": [
      "R-squared value for raw price with 5-fold validation is: 0.95\n",
      "MSE value for raw price with 5-fold validation is: -716249218.67\n"
     ]
    }
   ],
   "source": [
    "X = state_df['median_list_price']\n",
    "y = state_df['median_sale_price']\n",
    "\n",
    "X_train, X_test, y_train, y_test = train_test_split(X, y, test_size=0.33, random_state=42)\n",
    "\n",
    "model = LinearRegression()\n",
    "folds = KFold(n_splits = 5, shuffle = True, random_state = 42)\n",
    "r2 = cross_val_score(model, np.array(X_train).reshape(-1,1), y_train, scoring='r2', cv=folds)\n",
    "mse = cross_val_score(model, np.array(X_train).reshape(-1,1), y_train, scoring='neg_mean_squared_error', cv=5)\n",
    "print(\"R-squared value for raw price with 5-fold validation is: \" + str(round(np.mean(r2), 2)))\n",
    "print(\"MSE value for raw price with 5-fold validation is: \" + str(round(np.mean(mse), 2)))"
   ]
  },
  {
   "cell_type": "markdown",
   "metadata": {},
   "source": [
    "### Adjusted List to Sale Prices KFolds Linear Regression\n",
    "Similar to how we used the inflation adjusted values in our other plots and models, we did the same for the KFolds linear regression. Like the results found in our polynomial regressions, the r-squared value in this model is also lower than the model that used the non adjusted values."
   ]
  },
  {
   "cell_type": "code",
   "execution_count": 151,
   "metadata": {
    "scrolled": true
   },
   "outputs": [
    {
     "name": "stdout",
     "output_type": "stream",
     "text": [
      "R-squared value for raw price with 5-fold validation is: 0.91\n",
      "MSE value for raw price with 5-fold validation is: -603100066.74\n"
     ]
    }
   ],
   "source": [
    "X = state_df['adjusted_median_list_price']\n",
    "y = state_df['adjusted_median_sale_price']\n",
    "\n",
    "X_train, X_test, y_train, y_test = train_test_split(X, y, test_size=0.33, random_state=42)\n",
    "     \n",
    "model = LinearRegression()\n",
    "folds = KFold(n_splits = 5, shuffle = True, random_state = 42)\n",
    "r2 = cross_val_score(model, np.array(X_train).reshape(-1,1), y_train, scoring='r2', cv=folds)\n",
    "mse = cross_val_score(model, np.array(X_train).reshape(-1,1), y_train, scoring='neg_mean_squared_error', cv=5)\n",
    "print(\"R-squared value for raw price with 5-fold validation is: \" + str(round(np.mean(r2), 2)))\n",
    "print(\"MSE value for raw price with 5-fold validation is: \" + str(round(np.mean(mse), 2)))"
   ]
  },
  {
   "cell_type": "markdown",
   "metadata": {},
   "source": [
    "### Future Plans\n",
    "* Going forward, we want to investigate the discrepancies found when using the inflation adjusted data compared to the non adjusted data.\n",
    "* More metrics for determining performance of a model\n",
    "* Currently, we are using the aggregate data at a national level, which is partly why there are only 123 rows. Later we want to use more granular data perhaps at a state level or even metro level. This will provide more data points along with different features that we will be able to use to better train our model."
   ]
  }
 ],
 "metadata": {
  "colab": {
   "collapsed_sections": [],
   "name": "Copy of COGS 118A Project.ipynb",
   "provenance": []
  },
  "interpreter": {
   "hash": "57b677b0e5748fcfd3490818a3e8c270beb6770f5c6465271777f6600695674d"
  },
  "kernelspec": {
   "display_name": "Python 3.9.7 64-bit",
   "language": "python",
   "name": "python3"
  },
  "language_info": {
   "codemirror_mode": {
    "name": "ipython",
    "version": 3
   },
   "file_extension": ".py",
   "mimetype": "text/x-python",
   "name": "python",
   "nbconvert_exporter": "python",
   "pygments_lexer": "ipython3",
   "version": "3.9.13"
  }
 },
 "nbformat": 4,
 "nbformat_minor": 1
}
